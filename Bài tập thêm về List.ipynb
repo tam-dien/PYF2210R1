{
 "cells": [
  {
   "cell_type": "markdown",
   "id": "5761f2a7",
   "metadata": {},
   "source": [
    "Hãy kiểm tra mảng số nguyên có tồn tại hai giá trị không liên tiếp hay không ?"
   ]
  },
  {
   "cell_type": "code",
   "execution_count": 2,
   "id": "a0acf4b7",
   "metadata": {},
   "outputs": [
    {
     "data": {
      "text/plain": [
       "False"
      ]
     },
     "execution_count": 2,
     "metadata": {},
     "output_type": "execute_result"
    }
   ],
   "source": [
    "L = [5,7,2,3,4,1,0,2,4]\n",
    "\n",
    "def kt_khong_lientiep(L):\n",
    "    for i in range(len(L)-1):\n",
    "        if L[i]==L[i+1]==0:\n",
    "            return True\n",
    "    return False\n",
    "\n",
    "kt_khong_lientiep(L)"
   ]
  },
  {
   "cell_type": "markdown",
   "id": "ae867e74",
   "metadata": {},
   "source": [
    "Hãy kiểm tra mảng số nguyên có tồn tại giá trị chẵn hay không? Nếu không tồn tại giá trị chẵn trả về giá trị 0, hay ngược lại trả về 1."
   ]
  },
  {
   "cell_type": "code",
   "execution_count": 4,
   "id": "1abdd057",
   "metadata": {},
   "outputs": [
    {
     "data": {
      "text/plain": [
       "False"
      ]
     },
     "execution_count": 4,
     "metadata": {},
     "output_type": "execute_result"
    }
   ],
   "source": [
    "L = [5,7,9,3,1,1,13,15,43]\n",
    "\n",
    "def kt_chan(L):\n",
    "    for i in L:\n",
    "        if i % 2 == 0:\n",
    "            return True\n",
    "    return False\n",
    "\n",
    "kt_chan(L)"
   ]
  },
  {
   "cell_type": "markdown",
   "id": "5a49eda8",
   "metadata": {},
   "source": [
    "Hãy cho biết mảng các số nguyên có toàn số chẵn hay không? Nếu có tồn tại giá trị lẻ trả về giá trị 0, ngược lại trả về 1."
   ]
  },
  {
   "cell_type": "code",
   "execution_count": 7,
   "id": "9b4d2f7d",
   "metadata": {},
   "outputs": [
    {
     "data": {
      "text/plain": [
       "True"
      ]
     },
     "execution_count": 7,
     "metadata": {},
     "output_type": "execute_result"
    }
   ],
   "source": [
    "L = [2,6,4,12,18,12,14,18,44]\n",
    "\n",
    "def kt_chan(L):\n",
    "    for i in L:\n",
    "        if i % 2 != 0:\n",
    "            return False\n",
    "    return True\n",
    "\n",
    "kt_chan(L)"
   ]
  },
  {
   "cell_type": "markdown",
   "id": "a736df1e",
   "metadata": {},
   "source": [
    "Hãy kiểm tra mảng một chiều các số thực có đối xứng hay không?"
   ]
  },
  {
   "cell_type": "code",
   "execution_count": 9,
   "id": "c360bf6e",
   "metadata": {},
   "outputs": [
    {
     "data": {
      "text/plain": [
       "False"
      ]
     },
     "execution_count": 9,
     "metadata": {},
     "output_type": "execute_result"
    }
   ],
   "source": [
    "L = [2,3,4,5,10,3,2]\n",
    "\n",
    "def doixung(L):\n",
    "    for i in range(len(L)//2):\n",
    "        if L[i] != L[-i-1]:\n",
    "            return False\n",
    "    return True\n",
    "\n",
    "doixung(L)\n",
    "\n",
    "### không dùng lệnh reverse và không dùng cắt list [::-1]"
   ]
  },
  {
   "cell_type": "markdown",
   "id": "975b9821",
   "metadata": {},
   "source": [
    "Ta định nghĩa một mảng có tính chẵn lẻ, khi tổng của hai phần tử liên tiếp trong mảng luôn luôn là số lẻ. Hãy viết hàm kiểm tra mảng a có tính chẵn lẻ hay không?"
   ]
  },
  {
   "cell_type": "code",
   "execution_count": 12,
   "id": "7ec6108e",
   "metadata": {},
   "outputs": [
    {
     "data": {
      "text/plain": [
       "True"
      ]
     },
     "execution_count": 12,
     "metadata": {},
     "output_type": "execute_result"
    }
   ],
   "source": [
    "L = [2,3,4,5,10,3,2]\n",
    "\n",
    "def chanle(L):\n",
    "    for i in range(len(L)-1):\n",
    "        if (L[i]+L[i+1])%2==0:\n",
    "            return False\n",
    "    return True\n",
    "\n",
    "chanle(L)"
   ]
  },
  {
   "cell_type": "markdown",
   "id": "434a04e0",
   "metadata": {},
   "source": [
    "Hãy kiểm tra mảng có tăng dần hay không?"
   ]
  },
  {
   "cell_type": "code",
   "execution_count": 16,
   "id": "ba375910",
   "metadata": {},
   "outputs": [
    {
     "data": {
      "text/plain": [
       "True"
      ]
     },
     "execution_count": 16,
     "metadata": {},
     "output_type": "execute_result"
    }
   ],
   "source": [
    "L = [2,3,4,5,6,10,12]\n",
    "\n",
    "def checktangdan(L):\n",
    "    for i in range(len(L)-1):\n",
    "        if L[i] > L[i+1]:\n",
    "            return False\n",
    "    return True\n",
    "\n",
    "checktangdan(L)"
   ]
  },
  {
   "cell_type": "markdown",
   "id": "2dca9538",
   "metadata": {},
   "source": [
    "Hãy kiểm tra mảng có giảm dần hay không?"
   ]
  },
  {
   "cell_type": "code",
   "execution_count": 17,
   "id": "eb5154cc",
   "metadata": {},
   "outputs": [
    {
     "data": {
      "text/plain": [
       "False"
      ]
     },
     "execution_count": 17,
     "metadata": {},
     "output_type": "execute_result"
    }
   ],
   "source": [
    "L = [2,3,4,5,6,10,12]\n",
    "\n",
    "def checktangdan(L):\n",
    "    for i in range(len(L)-1):\n",
    "        if L[i] < L[i+1]:\n",
    "            return False\n",
    "    return True\n",
    "\n",
    "checktangdan(L)"
   ]
  },
  {
   "cell_type": "markdown",
   "id": "24dd211d",
   "metadata": {},
   "source": [
    "Hãy cho biết các phần tử trong mảng có lập thành cấp số cộng không? Nếu có hãy chỉ ra công sai d"
   ]
  },
  {
   "cell_type": "code",
   "execution_count": 19,
   "id": "e9dda389",
   "metadata": {},
   "outputs": [
    {
     "data": {
      "text/plain": [
       "2"
      ]
     },
     "execution_count": 19,
     "metadata": {},
     "output_type": "execute_result"
    }
   ],
   "source": [
    "L = [2,4,6,8,10,12,14]\n",
    "\n",
    "def capsosong(L):\n",
    "    for i in range(len(L)-2):\n",
    "        if L[i+2]-L[i+1] != L[i+1]-L[i]:\n",
    "            return False\n",
    "    return L[i+2]-L[i+1]\n",
    "\n",
    "capsosong(L)"
   ]
  },
  {
   "cell_type": "markdown",
   "id": "19be5057",
   "metadata": {},
   "source": [
    "Hãy cho biết các phần tử trong mảng có bằng nhau không?"
   ]
  },
  {
   "cell_type": "code",
   "execution_count": 20,
   "id": "1ff05a5d",
   "metadata": {},
   "outputs": [
    {
     "data": {
      "text/plain": [
       "False"
      ]
     },
     "execution_count": 20,
     "metadata": {},
     "output_type": "execute_result"
    }
   ],
   "source": [
    "L_a = [3,6,9,12,15,18]\n",
    "def check(L):\n",
    "    for i in range(len(L)-1):\n",
    "        if L[i] != L[i+1]:\n",
    "            return False\n",
    "    return True\n",
    "check(L_a)"
   ]
  },
  {
   "cell_type": "markdown",
   "id": "58268599",
   "metadata": {},
   "source": [
    "Người ta định nghĩa một mảng được gọi là “dạng sóng” khi phần tử có giá trị số I lớn hơn hoặc nhỏ hơn hai phần tử xung quanh nó. Hãy viết hàm kiểm tra trong a sóng hay không?"
   ]
  },
  {
   "cell_type": "code",
   "execution_count": 25,
   "id": "1572fb15",
   "metadata": {},
   "outputs": [
    {
     "data": {
      "text/plain": [
       "True"
      ]
     },
     "execution_count": 25,
     "metadata": {},
     "output_type": "execute_result"
    }
   ],
   "source": [
    "L_a = [3,6,3,12,7,11,19]\n",
    "\n",
    "def check_song(L):\n",
    "    for i in range(len(L)-2):\n",
    "        if (L[i+1]-L[i])*(L[i+2]-L[i+1]) >= 0:\n",
    "            return False\n",
    "    return True\n",
    "\n",
    "check_song(L_a)"
   ]
  },
  {
   "cell_type": "markdown",
   "id": "3a06a75d",
   "metadata": {},
   "source": [
    "Hãy đếm số lượng giá trị trong mảng thỏa tính chất: “lớn hơn tất cả các giá trị đứng đằng trước nó”"
   ]
  },
  {
   "cell_type": "code",
   "execution_count": 26,
   "id": "33f9e4a3",
   "metadata": {},
   "outputs": [
    {
     "data": {
      "text/plain": [
       "4"
      ]
     },
     "execution_count": 26,
     "metadata": {},
     "output_type": "execute_result"
    }
   ],
   "source": [
    "L_a = [3,6,3,12,7,11,19]\n",
    "\n",
    "def dem_L(L):\n",
    "    so_lon_nhat = L[0]\n",
    "    dem = 1\n",
    "    for i in range(1,len(L)):\n",
    "        if L[i] > so_lon_nhat:\n",
    "            dem += 1\n",
    "            so_lon_nhat = L[i]\n",
    "    return dem\n",
    "\n",
    "dem_L(L_a)"
   ]
  },
  {
   "cell_type": "markdown",
   "id": "09720f79",
   "metadata": {},
   "source": [
    "Hãy trộn hai mảng tăng dần lại thành 1 mảng được sắp thứ tự tăng dần"
   ]
  },
  {
   "cell_type": "code",
   "execution_count": 27,
   "id": "d91a0d7c",
   "metadata": {},
   "outputs": [
    {
     "data": {
      "text/plain": [
       "[1, 2, 3, 4, 6, 7, 10]"
      ]
     },
     "execution_count": 27,
     "metadata": {},
     "output_type": "execute_result"
    }
   ],
   "source": [
    "def tron(L1,L2):\n",
    "    L1 = L1.copy()\n",
    "    L2 = L2.copy()\n",
    "    L_kq = []\n",
    "    while True:\n",
    "        if len(L1) == 0 or len(L2) == 0:\n",
    "            break\n",
    "        if L1[0] > L2[0]:\n",
    "            L_kq.append(L2[0])\n",
    "            L2.pop(0)\n",
    "        else:\n",
    "            L_kq.append(L1[0])\n",
    "            L1.pop(0)\n",
    "    L_kq += L1 + L2\n",
    "    return L_kq\n",
    "\n",
    "L1 = [1,3,7,10]\n",
    "L2 = [2,4,6]\n",
    "\n",
    "tron(L1,L2)"
   ]
  },
  {
   "cell_type": "markdown",
   "id": "c2a03df7",
   "metadata": {},
   "source": [
    "Hãy đưa các số chẵn trong mảng về đầu mảng, số lẻ về cuối mảng và các phần tử 0 năm ở giữa"
   ]
  },
  {
   "cell_type": "code",
   "execution_count": null,
   "id": "2595ba23",
   "metadata": {},
   "outputs": [],
   "source": []
  },
  {
   "cell_type": "markdown",
   "id": "88a5356c",
   "metadata": {},
   "source": [
    "Hãy đưa các số chia hết cho 3 về đầu mảng"
   ]
  },
  {
   "cell_type": "code",
   "execution_count": null,
   "id": "2015e143",
   "metadata": {},
   "outputs": [],
   "source": []
  },
  {
   "cell_type": "markdown",
   "id": "873d2a46",
   "metadata": {},
   "source": [
    "Hãy xuất mảng theo yêu cầu: các phần tử chẵn nằm trên một hàng, các phần tử lẻ nằm ở hàng tiếp theo"
   ]
  },
  {
   "cell_type": "code",
   "execution_count": null,
   "id": "99109b77",
   "metadata": {},
   "outputs": [],
   "source": []
  },
  {
   "cell_type": "markdown",
   "id": "5e2c226d",
   "metadata": {},
   "source": [
    "Hãy biến đổi mảng bằng cách thay các giá trị lớn nhất bằng giá trị nhỏ nhất và ngược lại"
   ]
  },
  {
   "cell_type": "code",
   "execution_count": null,
   "id": "62eefa1a",
   "metadata": {},
   "outputs": [],
   "source": [
    "L = [15,10,7,2]"
   ]
  },
  {
   "cell_type": "markdown",
   "id": "4c5e92fa",
   "metadata": {},
   "source": [
    "Hãy đảo ngược thứ tự các số chẵn và các số lẻ trong mảng mà vẫn giữ nguyên vị trí tương đối của chúng"
   ]
  },
  {
   "cell_type": "code",
   "execution_count": null,
   "id": "0d6ba5f3",
   "metadata": {},
   "outputs": [],
   "source": [
    "[2,5,7,14] ~~> [5,2,14,7]\n",
    "## List phải có số lượng số lẻ bằng với số lượng số chẳn"
   ]
  }
 ],
 "metadata": {
  "kernelspec": {
   "display_name": "Python 3 (ipykernel)",
   "language": "python",
   "name": "python3"
  },
  "language_info": {
   "codemirror_mode": {
    "name": "ipython",
    "version": 3
   },
   "file_extension": ".py",
   "mimetype": "text/x-python",
   "name": "python",
   "nbconvert_exporter": "python",
   "pygments_lexer": "ipython3",
   "version": "3.9.12"
  }
 },
 "nbformat": 4,
 "nbformat_minor": 5
}
