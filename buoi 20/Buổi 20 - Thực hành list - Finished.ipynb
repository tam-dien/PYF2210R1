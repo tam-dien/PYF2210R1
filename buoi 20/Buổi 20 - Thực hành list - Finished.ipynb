{
 "cells": [
  {
   "cell_type": "markdown",
   "id": "011431b9",
   "metadata": {},
   "source": [
    "# Thực hành List\n",
    "\n",
    "##### Chú ý: list một dãy số người ta còn gọi là một mảng\n",
    "\n",
    "### Bài 1"
   ]
  },
  {
   "cell_type": "markdown",
   "id": "61a90628",
   "metadata": {},
   "source": [
    "Viết hàm với đầu vào là một mảng, hãy tính và trả về giá trị trung bình của mảng"
   ]
  },
  {
   "cell_type": "code",
   "execution_count": 2,
   "id": "bcc197d5",
   "metadata": {},
   "outputs": [
    {
     "name": "stdout",
     "output_type": "stream",
     "text": [
      "4.0\n"
     ]
    }
   ],
   "source": [
    "def tinh_tb(L):\n",
    "    ## không dùng lệnh sum và lệnh len\n",
    "    tong = 0\n",
    "    count = 0\n",
    "    for i in L:\n",
    "        tong += i\n",
    "        count += 1\n",
    "    return tong/count\n",
    "\n",
    "print(tinh_tb([3,4,5]))"
   ]
  },
  {
   "cell_type": "markdown",
   "id": "30d26c1b",
   "metadata": {},
   "source": [
    "### Bài 2"
   ]
  },
  {
   "cell_type": "markdown",
   "id": "674ef26c",
   "metadata": {},
   "source": [
    "Viết hàm với đầu vào là một mảng, hãy tìm và trả về giá trị âm lớn nhất trong mảng"
   ]
  },
  {
   "cell_type": "code",
   "execution_count": 6,
   "id": "1a9cb505",
   "metadata": {},
   "outputs": [
    {
     "name": "stdout",
     "output_type": "stream",
     "text": [
      "-2\n"
     ]
    }
   ],
   "source": [
    "def max_am(L):\n",
    "    kq = None\n",
    "    for i in L:\n",
    "        if i<0 and (kq == None or kq < i):\n",
    "            kq = i\n",
    "    return kq\n",
    "\n",
    "print(max_am([1,-8,1,-2,-5,-3]))"
   ]
  },
  {
   "cell_type": "markdown",
   "id": "95cfaa74",
   "metadata": {},
   "source": [
    "### Bài 3"
   ]
  },
  {
   "cell_type": "markdown",
   "id": "5361a4b8",
   "metadata": {},
   "source": [
    "Viết hàm với giá trị đầu vào là một mảng, hãy sắp xếp và trả về mảng có độ lớn tăng dần"
   ]
  },
  {
   "cell_type": "code",
   "execution_count": 9,
   "id": "91ad4d5d",
   "metadata": {},
   "outputs": [
    {
     "name": "stdout",
     "output_type": "stream",
     "text": [
      "[2, 3, 4, 5, 7]\n"
     ]
    }
   ],
   "source": [
    "### không sử dụng lệnh sort\n",
    "\n",
    "def sapxep(L):\n",
    "    L = L.copy()\n",
    "    for i in range(len(L)-1):\n",
    "        for j in range(i+1,len(L)):\n",
    "            if L[i] > L[j]:\n",
    "                L[i], L[j] = L[j], L[i]\n",
    "    return L\n",
    "\n",
    "L = [5,7,2,3,4]\n",
    "L = sapxep(L)\n",
    "print(L)"
   ]
  },
  {
   "cell_type": "markdown",
   "id": "025cc0cb",
   "metadata": {},
   "source": [
    "### Bài 4"
   ]
  },
  {
   "cell_type": "markdown",
   "id": "dbf885a9",
   "metadata": {},
   "source": [
    "Viết hàm với giá trị đầu vào là một mảng, tìm x sao cho đoạn [-x,x] chứa tất cả các giá trị có trong mảng"
   ]
  },
  {
   "cell_type": "code",
   "execution_count": null,
   "id": "84606ea2",
   "metadata": {},
   "outputs": [],
   "source": [
    "def ham(L):\n",
    "    x = None\n",
    "    for i in L:\n",
    "        if x == None or abs(x) < abs(i):\n",
    "            x = i\n",
    "    return i\n",
    "\n",
    "L = [-2,3,7,10]"
   ]
  },
  {
   "cell_type": "markdown",
   "id": "98aa10b5",
   "metadata": {},
   "source": [
    "### Bài 5"
   ]
  },
  {
   "cell_type": "markdown",
   "id": "a7fe3092",
   "metadata": {},
   "source": [
    "Viết hàm với giá trị đầu vào là một mảng, Hãy tìm một vị trí trong mảng thỏa hai điền kiện: có hai giá trị lân cận và giá trị tại vị trí đó bằng tích hai giá trị lân cận. Nếu mảng không tồn tại giá trị như vậy thì hàm trả về giá trị - 1"
   ]
  },
  {
   "cell_type": "code",
   "execution_count": 4,
   "id": "9d55cb01",
   "metadata": {},
   "outputs": [
    {
     "name": "stdout",
     "output_type": "stream",
     "text": [
      "-1\n"
     ]
    }
   ],
   "source": [
    "def ham_check(L):\n",
    "    for i in range(1,len(L)-1):\n",
    "        if L[i] == L[i-1]*L[i+1]:\n",
    "            return i\n",
    "    return -1\n",
    "\n",
    "L = [28,7,4,3,4]\n",
    "print(ham_check(L))"
   ]
  },
  {
   "cell_type": "markdown",
   "id": "035325d7",
   "metadata": {},
   "source": [
    "### Bài 6"
   ]
  },
  {
   "cell_type": "markdown",
   "id": "e2d35127",
   "metadata": {},
   "source": [
    "Viết hàm có giá trị đầu vào là một mảng. Hãy tìm giá trị đầu tiên trong mảng một chiều các số nguyên có chữ sốđầu tiên là chữ số lẻ. Nếu trong mảng không tồn tại giá trị như vậy thì hàm sẽ trả về giá trị 0."
   ]
  },
  {
   "cell_type": "code",
   "execution_count": 8,
   "id": "b8a8b8a2",
   "metadata": {},
   "outputs": [
    {
     "name": "stdout",
     "output_type": "stream",
     "text": [
      "53\n"
     ]
    }
   ],
   "source": [
    "def ham_check(L):\n",
    "    for i in L:\n",
    "        i = str(i)\n",
    "        if int(i[0]) % 2 != 0:\n",
    "            return i\n",
    "    return 0\n",
    "\n",
    "L = [263,43,6,23,53]\n",
    "print(ham_check(L))"
   ]
  },
  {
   "cell_type": "markdown",
   "id": "da270d1a",
   "metadata": {},
   "source": [
    "### Bài 7"
   ]
  },
  {
   "cell_type": "markdown",
   "id": "079fdafe",
   "metadata": {},
   "source": [
    "Viết hàm có giá trị đầu vào là một mảng. Hãy tìm giá trị đầu tiên trong mảng có dạng 2^k. Nếu mảng không tồn tại giá trị dạng 2^k thì hàm sẽ trả về giá trị 0."
   ]
  },
  {
   "cell_type": "code",
   "execution_count": 18,
   "id": "f9311f33",
   "metadata": {},
   "outputs": [
    {
     "name": "stdout",
     "output_type": "stream",
     "text": [
      "8\n"
     ]
    }
   ],
   "source": [
    "### 2^k (k là số nguyên > 0)\n",
    "\n",
    "def check_2_k(a):\n",
    "    if a < 2:\n",
    "        return False\n",
    "    while a % 2 == 0:\n",
    "        a //= 2\n",
    "    if a == 1:\n",
    "        return True\n",
    "    return False\n",
    "\n",
    "def ham_check(L):\n",
    "    for i in L:\n",
    "        if check_2_k(i):\n",
    "            return i\n",
    "    return 0\n",
    "\n",
    "L = [7,15,8,4,6,2]\n",
    "print(ham_check(L))"
   ]
  },
  {
   "cell_type": "markdown",
   "id": "80c8ab17",
   "metadata": {},
   "source": [
    "### Bài 8"
   ]
  },
  {
   "cell_type": "markdown",
   "id": "47c3a2e2",
   "metadata": {},
   "source": [
    "Viết hàm có giá trị đầu vào là một mảng. Hãy tìm giá trị thỏa điều kiện toàn chữ số lẻ và là giá trị lớn nhất thỏa điều kiện ấy trong mảng (nếu mảng không có giá trị thỏa điều kiện trên thì hàm trả về giá trị 0)"
   ]
  },
  {
   "cell_type": "code",
   "execution_count": 30,
   "id": "f8740d98",
   "metadata": {},
   "outputs": [
    {
     "data": {
      "text/plain": [
       "753"
      ]
     },
     "execution_count": 30,
     "metadata": {},
     "output_type": "execute_result"
    }
   ],
   "source": [
    "L = [753,1234,68,79,135,763] ## ~~> 753\n",
    "def check_toan_le(a):\n",
    "    for i in str(a):\n",
    "        if int(i) % 2 == 0:\n",
    "            return False\n",
    "    return True\n",
    "\n",
    "def ham(L):\n",
    "    L_toan_le = []\n",
    "    for i in L:\n",
    "        if check_toan_le(i):\n",
    "            L_toan_le.append(i)\n",
    "    if len(L_toan_le)==0:\n",
    "        return 0\n",
    "    m = L_toan_le[0]\n",
    "    for i in L_toan_le:\n",
    "        if i > m:\n",
    "            m = i\n",
    "    return m\n",
    "\n",
    "ham(L)"
   ]
  },
  {
   "cell_type": "code",
   "execution_count": 21,
   "id": "57eb999a",
   "metadata": {},
   "outputs": [
    {
     "data": {
      "text/plain": [
       "[753, 79, 135]"
      ]
     },
     "execution_count": 21,
     "metadata": {},
     "output_type": "execute_result"
    }
   ],
   "source": [
    "def timsole(L):\n",
    "    L1=L.copy()\n",
    "    L2=[]\n",
    "    for i in range (len(L1)):\n",
    "        while L1[i]>0:\n",
    "            so=L1[i]%10\n",
    "            if so%2!=0:\n",
    "                L1[i]=L1[i]//10\n",
    "            else:\n",
    "                break\n",
    "        else:\n",
    "            L2.append(L[i])   \n",
    "    return L2\n",
    "\n",
    "L = [753,1234,68,79,135,763] ## ~~> 753\n",
    "timsole(L)"
   ]
  },
  {
   "cell_type": "code",
   "execution_count": 39,
   "id": "f43dd38f",
   "metadata": {},
   "outputs": [
    {
     "name": "stdout",
     "output_type": "stream",
     "text": [
      "Không kinh doanh\n"
     ]
    }
   ],
   "source": [
    "L = [(\"m\",\"Đang mở bán\"),(\"h\",\"Đang hết hàng\"),(\"k\",\"Không kinh doanh\")]\n",
    "## Nhập vào ký tự, ~~> trả về value của ký tự đó\n",
    "def ham(L,kytu):\n",
    "    for i in L:\n",
    "        if i[0] == kytu:\n",
    "            return i[1]\n",
    "        \n",
    "print(ham(L,\"k\"))"
   ]
  },
  {
   "cell_type": "markdown",
   "id": "8a09bf26",
   "metadata": {},
   "source": [
    "### Bài 9"
   ]
  },
  {
   "cell_type": "markdown",
   "id": "09f9a4c6",
   "metadata": {},
   "source": [
    "Trong kỳ thi học sinh giỏi môn Tin học, một học sinh là người đạt giải đặc biệt. Ban tổ chức cho phép học sinh đó chọn các phần thưởng cho mình.\n",
    "\n",
    "Các phần thưởng xếp thành một dãy được đánh số từ 1 đến N (0 ≤ N ≤ 10000), phần thưởng thứ i có giá trị là Ai (1 ≤ Ai ≤ 100).\n",
    "\n",
    "Học sinh được phép chọn các phần thưởng cho mình theo nguyên tắc không chọn 3 phần thưởng liên tiếp nhau trong dãy.\n",
    "\n",
    "Viết chương trình để máy tính hướng dẫn học sinh đó chọn các phần thưởng sao cho tổng giá trị của các phần thưởng nhận được là lớn nhất.\n",
    "\n",
    "Nhập vào N, sau đó nhập n lần các giá trị Ai\n",
    "\n",
    "In ra giá trị lớn nhất học sinh được chọn, và các vị trí mà học sinh cần chọn để đạt được giá trị lớn nhất"
   ]
  },
  {
   "cell_type": "code",
   "execution_count": null,
   "id": "c350a1e9",
   "metadata": {},
   "outputs": [],
   "source": []
  }
 ],
 "metadata": {
  "kernelspec": {
   "display_name": "Python 3 (ipykernel)",
   "language": "python",
   "name": "python3"
  },
  "language_info": {
   "codemirror_mode": {
    "name": "ipython",
    "version": 3
   },
   "file_extension": ".py",
   "mimetype": "text/x-python",
   "name": "python",
   "nbconvert_exporter": "python",
   "pygments_lexer": "ipython3",
   "version": "3.9.12"
  }
 },
 "nbformat": 4,
 "nbformat_minor": 5
}
