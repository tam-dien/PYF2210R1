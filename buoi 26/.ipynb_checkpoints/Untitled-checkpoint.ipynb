{
 "cells": [
  {
   "cell_type": "code",
   "execution_count": 47,
   "id": "d4dea8db",
   "metadata": {},
   "outputs": [
    {
     "name": "stderr",
     "output_type": "stream",
     "text": [
      "C:\\Users\\tamdi\\AppData\\Local\\Temp\\ipykernel_15796\\1427013330.py:20: FutureWarning: The frame.append method is deprecated and will be removed from pandas in a future version. Use pandas.concat instead.\n",
      "  df = df.append(new_row, ignore_index=True)\n"
     ]
    }
   ],
   "source": [
    "import pandas as pd\n",
    "\n",
    "df = pd.read_excel(\"KHSX-394-B1P5.xlsx\",sheet_name=\"BOM\",skiprows=6,index_col=\"No.\",usecols=\"A:P\")\n",
    "\n",
    "### lệnh này sẽ trả về cái gì (kiểu dữ liệu là gì và dữ liệu là gì)\n",
    "\n",
    "### dataframe\n",
    "\n",
    "##### dataframe là một đối tượng giúp chúng ta quản lý và xử lý dữ liệu\n",
    "##### dataframe nó giống 1 dạng bảng\n",
    "\n",
    "# print(df.columns)\n",
    "\n",
    "# new_row = {}\n",
    "# for i in df.columns:\n",
    "#     new_row[i] = \"\"\n",
    "\n",
    "# print(new_row)\n",
    "\n",
    "df['Total Price'] = df[\"Price\"]*df[\"Total weight(Kg)\"]\n",
    "\n",
    "# df = df.append(new_row, ignore_index=True)\n",
    "\n",
    "L_area = list(df[\"Area\\n(m2)\"])\n",
    "\n",
    "L_area[-1] = sum(L_area[:-1])\n",
    "\n",
    "df[\"Area\\n(m2)\"] = L_area\n",
    "\n",
    "df.to_excel(\"new.xlsx\",sheet_name='Sheet2')\n",
    "\n",
    "# print(df)"
   ]
  },
  {
   "cell_type": "code",
   "execution_count": 34,
   "id": "8aa3b97e",
   "metadata": {},
   "outputs": [
    {
     "name": "stdout",
     "output_type": "stream",
     "text": [
      "['No.', 'Assembly', 'Qty', 'Rev No', '\"Length\\n(mm)\"', 'Profile', '\"Area\\n(m2)\"', '\"Unit weight\\n(Kg)\"', '\" Total weight\\n(Kg) \"', 'PAINT SYS', 'Type', 'Nhà thầu gia công', 'Note']\n"
     ]
    }
   ],
   "source": [
    "chuoi='''No.\tAssembly\tQty\tRev No\t\"Length\n",
    "(mm)\"\tProfile\t\"Area\n",
    "(m2)\"\t\"Unit weight\n",
    "(Kg)\"\t\"Total weight\n",
    "(Kg)\"\tPAINT SYS\tType\tNhà thầu gia công\tNote'''\n",
    "\n",
    "chuoi = chuoi.replace(\"\t\",\",\")\n",
    "\n",
    "print(chuoi.split(\",\"))"
   ]
  },
  {
   "cell_type": "code",
   "execution_count": null,
   "id": "922a8af6",
   "metadata": {},
   "outputs": [],
   "source": []
  }
 ],
 "metadata": {
  "kernelspec": {
   "display_name": "Python 3 (ipykernel)",
   "language": "python",
   "name": "python3"
  },
  "language_info": {
   "codemirror_mode": {
    "name": "ipython",
    "version": 3
   },
   "file_extension": ".py",
   "mimetype": "text/x-python",
   "name": "python",
   "nbconvert_exporter": "python",
   "pygments_lexer": "ipython3",
   "version": "3.9.12"
  }
 },
 "nbformat": 4,
 "nbformat_minor": 5
}
