{
 "cells": [
  {
   "cell_type": "markdown",
   "id": "ec00548e",
   "metadata": {},
   "source": [
    "# Thực hành Lớp và Đối Tượng 1"
   ]
  },
  {
   "cell_type": "markdown",
   "id": "e9a5b1b0",
   "metadata": {},
   "source": [
    "### Bài 1"
   ]
  },
  {
   "cell_type": "markdown",
   "id": "b89649bc",
   "metadata": {},
   "source": [
    "Viết một lớp point để lưu trữ một điểm trong hệ trục tọa độ Oxy\n",
    "\n",
    "Class này có:\n",
    "\n",
    "<b> Các biến: </b>\n",
    "- <b>x</b>: mang tọa độ x của diểm\n",
    "- <b>y</b>: mang tọa độ y của diểm\n",
    "\n",
    "<b> Các hàm: </b>\n",
    "- <b>khoangcachgoc:</b> hàm này trả về khoảng cách từ điểm đến điểm gốc(0,0)\n",
    "- <b>khoangcach(tham số đầu vào là 1 đối tượng có lớp point):</b> hàm này trả về khoảng cách từ điểm đến điểm được đưa vào\n",
    "- <b>diemdoixung:</b> hàm này trả về đối tượng có lớp point là điểm đối xứng của điểm qua điểm gốc(0,0)\n",
    "- <b>diemtrungbinh(tham số đầu vào là 1 đối tượng có lớp point):</b> hàm này trả về đối tượng có lớp point là điểm nằm chính giữa điểm và điểm được đưa vào\n",
    "- <b>thanghang(tham số đầu vào là 2 đối tượng có lớp point):</b> hàm này trả về kết quả kiểm tra 3 điểm có thẳng hằng hay không (True/False)\n",
    "- <b>vuonggoc((tham số đầu vào là 3 đối tượng có lớp point):</b> hàm trả trả về kết quả kiểm tra 4 điểm có tạo thành 2 đường thẳng vuông góc được hay không (True/False)"
   ]
  },
  {
   "cell_type": "code",
   "execution_count": 5,
   "id": "ca30ea7d",
   "metadata": {},
   "outputs": [
    {
     "name": "stdout",
     "output_type": "stream",
     "text": [
      "(3,5)\n",
      "10.929971408438085\n"
     ]
    }
   ],
   "source": [
    "class Point:\n",
    "    def __init__(self,x,y):\n",
    "        self.x = x\n",
    "        self.y = y\n",
    "    def inPoint(self):\n",
    "        print(\"(\",self.x,\",\",self.y,\")\",sep=\"\")\n",
    "    def khoangcachgoc(self):\n",
    "        ### có 2 điểm A(xa,ya) và B(xb,yb)\n",
    "        ### ((xa - xb)**2 + (ya - yb)**2)**0.5\n",
    "        kc_goc = (self.x**2 + self.y**2)**0.5\n",
    "        return kc_goc    \n",
    "    def khoangcach(self,diem):\n",
    "        ### có 2 điểm self, diem\n",
    "        kc = ((self.x - diem.x)**2 + (self.y - diem.y)**2)**0.5\n",
    "        return kc\n",
    "    def diemdoixung(self):\n",
    "        x = -self.x\n",
    "        y = -self.y\n",
    "        return Point(x,y)\n",
    "    def diemtrungbinh(self,diem):\n",
    "        x = (self.x + diem.x)/2\n",
    "        y = (self.y + diem.y)/2\n",
    "        return Point(x,y)\n",
    "    def thanghang(self,diem1,diem2):\n",
    "        kc1 = self.khoangcach(diem1)\n",
    "        kc2 = self.khoangcach(diem2)\n",
    "        kc3 = diem1.khoangcach(diem3)\n",
    "        if kc1 < kc2:\n",
    "            kc1, kc2 = kc2, kc1\n",
    "        if kc1 < kc3:\n",
    "            kc1, kc3 = kc3, kc1\n",
    "        if kc1 == kc2 + kc3:\n",
    "            return True\n",
    "        return False\n",
    "    def hamktvuonggoc(self,vector1,vector2):\n",
    "        tichvohuong = vector1[0]*vector2[0] + vector1[1]*vector2[1]\n",
    "        if tichvohuong == 0:\n",
    "            return True\n",
    "        return False\n",
    "    def vuonggoc(self,diem1,diem2,diem3):\n",
    "        vt1 = [self.x-diem1.x,self.y-diem1.y]\n",
    "        vt2 = [diem2.x-diem3.x,diem2.y-diem3.y]\n",
    "        if self.hamktvuonggoc(vt1,vt2):\n",
    "            return True\n",
    "        vt1 = [self.x-diem2.x,self.y-diem2.y]\n",
    "        vt2 = [diem1.x-diem3.x,diem1.y-diem3.y]\n",
    "        if self.hamktvuonggoc(vt1,vt2):\n",
    "            return True\n",
    "        vt1 = [self.x-diem3.x,self.y-diem3.y]\n",
    "        vt2 = [diem1.x-diem2.x,diem1.y-diem2.y]\n",
    "        if self.hamktvuonggoc(vt1,vt2):\n",
    "            return True\n",
    "        return False\n",
    "        \n",
    "P1 = Point(3,5)\n",
    "P2 = Point(1,5)\n",
    "P1.inPoint()\n",
    "\n",
    "kc_goc = P1.khoangcachgoc() + P2.khoangcachgoc()\n",
    "print(kc_goc)"
   ]
  },
  {
   "cell_type": "code",
   "execution_count": 4,
   "id": "02682a5a",
   "metadata": {},
   "outputs": [
    {
     "name": "stdout",
     "output_type": "stream",
     "text": [
      "hello\n",
      "None\n"
     ]
    }
   ],
   "source": [
    "a = print('hello')\n",
    "\n",
    "print(a)"
   ]
  },
  {
   "cell_type": "markdown",
   "id": "59c44a5f",
   "metadata": {},
   "source": [
    "### Bài 2"
   ]
  },
  {
   "cell_type": "markdown",
   "id": "b6f8706c",
   "metadata": {},
   "source": [
    "Viết một lớp line để lưu trữ một đường thẳng trong hệ trục tọa độ Oxy (có dạng ax + by + c = 0)\n",
    "\n",
    "Class này có:\n",
    "\n",
    "<b> Các biến: </b>\n",
    "- <b>a</b>: hệ số a của phương trình\n",
    "- <b>b</b>: hệ số b của phương trình\n",
    "- <b>c</b>: hệ số c của phương trình\n",
    "\n",
    "<b> Các hàm: </b>\n",
    "- <b>khoangcachgoc:</b> hàm này trả về khoảng cách từ đường thẳng đến điểm gốc(0,0)\n",
    "- <b>khoangcach(tham số đầu vào là 1 đối tượng có lớp point):</b> hàm này trả về khoảng cách từ đường thẳng đến điểm được đưa vào\n",
    "- <b>tinhchat(tham số đầu vào là 1 đối tượng có lớp line):</b> hàm này kiểm tra xem 2 đường thẳng cắt nhau hay song song hay trùng nhau (trả về 0: cắt nhau, 1: song song, 2: trùng nhau)\n",
    "- <b>thuocduongthang(tham số đầu vào là 1 đối tượng có lớp point):</b> hàm này trả về kết quả điểm có thuộc đường thẳng hay không (True/False)\n",
    "- <b>duongthangtrungbinh(tham số đầu vào là 1 đối tượng có lớp point):</b> hàm này trả về đối tượng có lớp line là đường thẳng nằm chính giữa đường thẳng và điểm được đưa vào\n",
    "- <b>songsong(tham số đầu vào là 2 đối tượng có lớp point):</b> hàm này trả về kết quả kiểm tra 2 điểm có có tạo đường thẳng song song với đường thẳng hay không (True/False)\n",
    "- <b>vuonggoc((tham số đầu vào là 2 đối tượng có lớp point):</b> hàm này trả về kết quả kiểm tra 2 điểm có có tạo đường thẳng vuông góc với đường thẳng hay không (True/False)"
   ]
  },
  {
   "cell_type": "code",
   "execution_count": null,
   "id": "ce32e9aa",
   "metadata": {},
   "outputs": [],
   "source": []
  }
 ],
 "metadata": {
  "kernelspec": {
   "display_name": "Python 3 (ipykernel)",
   "language": "python",
   "name": "python3"
  },
  "language_info": {
   "codemirror_mode": {
    "name": "ipython",
    "version": 3
   },
   "file_extension": ".py",
   "mimetype": "text/x-python",
   "name": "python",
   "nbconvert_exporter": "python",
   "pygments_lexer": "ipython3",
   "version": "3.9.12"
  }
 },
 "nbformat": 4,
 "nbformat_minor": 5
}
