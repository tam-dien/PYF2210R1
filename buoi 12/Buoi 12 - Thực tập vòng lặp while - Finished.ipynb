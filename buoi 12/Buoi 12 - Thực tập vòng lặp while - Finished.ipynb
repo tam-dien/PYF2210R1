{
 "cells": [
  {
   "cell_type": "markdown",
   "id": "1f7be993",
   "metadata": {},
   "source": [
    "# Thực tập vòng lặp While\n",
    "\n",
    "### Bài 1\n",
    "\n",
    "Nhập vào số a, sử dụng lệnh while (không sử dụng break và for) để xác định xem số đó có phải là số nguyên tố hay không"
   ]
  },
  {
   "cell_type": "code",
   "execution_count": 3,
   "id": "8cb73965",
   "metadata": {},
   "outputs": [
    {
     "name": "stdout",
     "output_type": "stream",
     "text": [
      "Nhap so nguyen a:20\n",
      "Không là số nguyên tố\n"
     ]
    }
   ],
   "source": [
    "a = int(input(\"Nhap so nguyen a:\"))\n",
    "\n",
    "uoc = 1\n",
    "dem = 0\n",
    "\n",
    "while uoc <= a:\n",
    "    if a % uoc == 0:\n",
    "        dem += 1\n",
    "    uoc += 1\n",
    "        \n",
    "if dem == 2:\n",
    "    print(\"Số nguyên tố\")\n",
    "else:\n",
    "    print(\"Không là số nguyên tố\")"
   ]
  },
  {
   "cell_type": "code",
   "execution_count": null,
   "id": "6b1227a3",
   "metadata": {},
   "outputs": [],
   "source": [
    "a = int(input(\"Nhap so nguyen a:\"))\n",
    "check = True\n",
    "uoc = 2\n",
    "\n",
    "while uoc < a and check:\n",
    "    if a % uoc == 0:\n",
    "        check = False\n",
    "    uoc +=1\n",
    "\n",
    "if check == True:\n",
    "    print(a, \"la so nguyen to\")\n",
    "else:\n",
    "    print(a, \"khong la so nguyen to\")"
   ]
  },
  {
   "cell_type": "markdown",
   "id": "9f2357ca",
   "metadata": {},
   "source": [
    "### Bài 2\n",
    "\n",
    "Hãy sử dụng lệnh while lập trình cho bài đoán số ở buổi thứ 9"
   ]
  },
  {
   "cell_type": "code",
   "execution_count": null,
   "id": "db79cb9d",
   "metadata": {},
   "outputs": [],
   "source": []
  },
  {
   "cell_type": "markdown",
   "id": "58f5b789",
   "metadata": {},
   "source": [
    "### Bài 3\n",
    "\n",
    "Nhập vào số a, hãy đếm a có bao nhiêu chữ số chẵn, bao nhiêu cữ số lẻ\n",
    "\n",
    "#### Cách 1 (dùng chuỗi):"
   ]
  },
  {
   "cell_type": "code",
   "execution_count": 4,
   "id": "e7f9da21",
   "metadata": {},
   "outputs": [
    {
     "name": "stdout",
     "output_type": "stream",
     "text": [
      "Nhap so nguyen a:2948\n",
      "Đếm chẵn: 3\n",
      "Đếm lẻ: 1\n"
     ]
    }
   ],
   "source": [
    "a = int(input(\"Nhap so nguyen a:\"))\n",
    "\n",
    "chuoi_a = str(a)\n",
    "\n",
    "dem_chan = 0\n",
    "dem_le = 0\n",
    "\n",
    "i = 0\n",
    "while i < len(chuoi_a):\n",
    "    if int(chuoi_a[i])%2==0:\n",
    "        dem_chan += 1\n",
    "    else:\n",
    "        dem_le += 1\n",
    "    i += 1\n",
    "        \n",
    "print(\"Đếm chẵn:\",dem_chan)\n",
    "print(\"Đếm lẻ:\",dem_le)"
   ]
  },
  {
   "cell_type": "code",
   "execution_count": 6,
   "id": "075a1db0",
   "metadata": {},
   "outputs": [
    {
     "name": "stdout",
     "output_type": "stream",
     "text": [
      "nhập số: 2049\n",
      "số lượng chữ số chắn là: 0\n",
      "số lượng chữ số lẻ là: 0\n"
     ]
    }
   ],
   "source": [
    "a = int(input(\"nhập số: \"))\n",
    "a = str(a)\n",
    "c = 0\n",
    "d = 0\n",
    "e = 0\n",
    "f = 0\n",
    "## c == a lặp\n",
    "while c != len(a): ## c là biến để đếm chuỗi, a là chuỗi \n",
    "    c +=1\n",
    "    d = int(a[c])\n",
    "    if d % 2 ==0:\n",
    "        e += 1\n",
    "    else:\n",
    "        f += 1\n",
    "print(\"số lượng chữ số chắn là:\",e)\n",
    "print(\"số lượng chữ số lẻ là:\",f)"
   ]
  },
  {
   "cell_type": "markdown",
   "id": "9a3d9703",
   "metadata": {},
   "source": [
    "#### Cách 2 (không dùng chuỗi):"
   ]
  },
  {
   "cell_type": "code",
   "execution_count": 8,
   "id": "d4e474c8",
   "metadata": {},
   "outputs": [
    {
     "name": "stdout",
     "output_type": "stream",
     "text": [
      "Nhập vào a:20\n",
      "Đếm chẵn: 2\n",
      "Đếm lẻ: 0\n"
     ]
    }
   ],
   "source": [
    "a = int(input(\"Nhập vào a:\"))\n",
    "\n",
    "dem_chan = 0\n",
    "dem_le = 0\n",
    "\n",
    "while a > 0:\n",
    "    b = a%10\n",
    "    a = a//10\n",
    "    if b % 2 == 0:\n",
    "        dem_chan += 1\n",
    "    else:\n",
    "        dem_le += 1\n",
    "    \n",
    "print(\"Đếm chẵn:\",dem_chan)\n",
    "print(\"Đếm lẻ:\",dem_le)"
   ]
  },
  {
   "cell_type": "markdown",
   "id": "69539ece",
   "metadata": {},
   "source": [
    "### Bài 4\n",
    "\n",
    "Nhập vào số a, hãy tính tổng các chữ số nguyên tố của a"
   ]
  },
  {
   "cell_type": "code",
   "execution_count": 10,
   "id": "f001bd9a",
   "metadata": {},
   "outputs": [
    {
     "name": "stdout",
     "output_type": "stream",
     "text": [
      "Nhập vào a:254984\n",
      "7\n"
     ]
    }
   ],
   "source": [
    "a = int(input(\"Nhập vào a:\"))\n",
    "\n",
    "tong = 0\n",
    "\n",
    "while a > 0:\n",
    "    b = a%10\n",
    "    a = a//10\n",
    "    if b == 2 or b == 3 or b == 5 or b == 7:\n",
    "        tong += b\n",
    "\n",
    "print(tong)"
   ]
  },
  {
   "cell_type": "markdown",
   "id": "0a5075a4",
   "metadata": {},
   "source": [
    "### Bài 5\n",
    "\n",
    "Số armstrong là số có tổng của các chữ số mũ số lượng chữ số bằng chính nó\n",
    "\n",
    "Ví dụ\n",
    "\n",
    "Số 371 là một số armstrong vì:\n",
    "\n",
    "371 = 3^3 + 7^3 + 1^3 (3 là số lượng chữ số của 371)\n",
    "\n",
    "Số 1634 là một số armstrong vì:\n",
    "\n",
    "1634 = 1^4 + 6^4 + 3^4 + 4^4 (4 là số lượng chữ số của 1634)\n",
    "\n",
    "Nhập vào số a, kiểm tra xem a có phải là số armstrong không"
   ]
  },
  {
   "cell_type": "code",
   "execution_count": 18,
   "id": "b9ed54a5",
   "metadata": {},
   "outputs": [
    {
     "name": "stdout",
     "output_type": "stream",
     "text": [
      "Nhập vào a:1634\n",
      "Armstrong\n"
     ]
    }
   ],
   "source": [
    "a = int(input(\"Nhập vào a:\"))\n",
    "luu_a = a\n",
    "\n",
    "tong = 0\n",
    "\n",
    "str_a = str(a)\n",
    "slcs = len(str_a)\n",
    "\n",
    "while a > 0:\n",
    "    b = a%10\n",
    "    a = a//10\n",
    "    tong += b**slcs\n",
    "    \n",
    "if tong == luu_a:\n",
    "    print(\"Armstrong\")\n",
    "else:\n",
    "    print(\"không phải Armstrong\")"
   ]
  },
  {
   "cell_type": "markdown",
   "id": "f8a584d3",
   "metadata": {},
   "source": [
    "### Bài 6\n",
    "\n",
    "Dãy số fibonacci là dãy số được định nghĩa như sau: 1, 1, 2, 3, 5, 8, 13,... với số kế tiếp sẽ bằng tổng hai số trước đó\n",
    "\n",
    "Nhập vào A, hãy tìm số trong dãy số fibonacci lớn nhất nhưng không vượt quá A"
   ]
  },
  {
   "cell_type": "code",
   "execution_count": 3,
   "id": "3ad4d85b",
   "metadata": {},
   "outputs": [
    {
     "name": "stdout",
     "output_type": "stream",
     "text": [
      "Nhập vào a:13\n",
      "1 1 2\n",
      "1 2 3\n",
      "2 3 5\n",
      "3 5 8\n",
      "5 8 13\n",
      "8 13 21\n",
      "Số fibonacci lớn nhất không vượt quá A là: 13\n"
     ]
    }
   ],
   "source": [
    "A = int(input(\"Nhập vào a:\"))\n",
    "\n",
    "a = 0\n",
    "b = 1\n",
    "c = 1\n",
    "\n",
    "while c <= A:\n",
    "    a = b ## tại vòng lặp đầu tiên thì a = 1\n",
    "    b = c ## tại vòng lặp thứ 2 thì b = 1\n",
    "    c = a + b\n",
    "    print(a,b,c)\n",
    "    *xóa\n",
    "print(\"Số fibonacci lớn nhất không vượt quá A là:\",b)"
   ]
  },
  {
   "cell_type": "markdown",
   "id": "9fa794f2",
   "metadata": {},
   "source": [
    "### Bài 7\n",
    "\n",
    "Nhập vào A, tìm n nhỏ nhất sao cho\n",
    "\n",
    "1 + 1/2 + 1/3 + 1/4 + ... + 1/n > A"
   ]
  },
  {
   "cell_type": "code",
   "execution_count": 8,
   "id": "246ec002",
   "metadata": {},
   "outputs": [
    {
     "name": "stdout",
     "output_type": "stream",
     "text": [
      "Nhập vào a:1.5\n",
      "3\n"
     ]
    }
   ],
   "source": [
    "A = float(input(\"Nhập vào a:\"))\n",
    "\n",
    "S = 0\n",
    "i = 0\n",
    "\n",
    "while S <= A:\n",
    "    i += 1\n",
    "    S += 1/i\n",
    "    \n",
    "print(i)"
   ]
  },
  {
   "cell_type": "code",
   "execution_count": 9,
   "id": "921d8991",
   "metadata": {},
   "outputs": [
    {
     "name": "stdout",
     "output_type": "stream",
     "text": [
      "Nhập số a:1.5\n",
      "4\n"
     ]
    }
   ],
   "source": [
    "a = float(input(\"Nhập số a:\"))\n",
    "tong=0\n",
    "n=1\n",
    "while tong <=a:\n",
    "    tong=tong+1/n\n",
    "    n+=1\n",
    "print(n)"
   ]
  },
  {
   "cell_type": "markdown",
   "id": "c5fd4d8a",
   "metadata": {},
   "source": [
    "### Bài 8\n",
    "\n",
    "Nhập vào a và b là số nguyên dương (b có một chữ số, nhập sai yêu cầu nhập lại), hãy tìm vị trí đầu tiên (bắt đầu từ bên trái) của b trong a, nếu không tìm thấy thì in kết quả là 0 (ví trí đầu bắt đầu từ 1)\n",
    "\n",
    "<b>Ví dụ:</b>\n",
    "\n",
    "<b>Nhập:</b>\n",
    "- a = 125785\n",
    "- b = 5\n",
    "\n",
    "<b>Kết quả:</b> 3 (do số 5 nằm ở vị trí 3)"
   ]
  },
  {
   "cell_type": "code",
   "execution_count": 12,
   "id": "9edf35ac",
   "metadata": {},
   "outputs": [
    {
     "name": "stdout",
     "output_type": "stream",
     "text": [
      "nhập số:125785\n",
      "nhập số:5\n",
      "3\n"
     ]
    }
   ],
   "source": [
    "a = int(input(\"nhập số:\"))\n",
    "b = int(input(\"nhập số:\"))\n",
    "while len(str(b)) > 1:\n",
    "    print(\"yêu cầu nhập lại\")\n",
    "    b = int(input(\"nhập số:\"))\n",
    "    \n",
    "c = str(a)\n",
    "i = 0\n",
    "while i < len(c):\n",
    "    if b == int(c[i]):\n",
    "        print(i+1)\n",
    "        break\n",
    "    i += 1\n",
    "else:\n",
    "    ## trong trường hợp vòng lặp bị ngừng bởi break thì không thực hiện else\n",
    "    ## trong trường hợp vòng lặp bị ngừng không phải break thì thực hiện else\n",
    "    print(0)"
   ]
  }
 ],
 "metadata": {
  "kernelspec": {
   "display_name": "Python 3 (ipykernel)",
   "language": "python",
   "name": "python3"
  },
  "language_info": {
   "codemirror_mode": {
    "name": "ipython",
    "version": 3
   },
   "file_extension": ".py",
   "mimetype": "text/x-python",
   "name": "python",
   "nbconvert_exporter": "python",
   "pygments_lexer": "ipython3",
   "version": "3.9.12"
  }
 },
 "nbformat": 4,
 "nbformat_minor": 5
}
