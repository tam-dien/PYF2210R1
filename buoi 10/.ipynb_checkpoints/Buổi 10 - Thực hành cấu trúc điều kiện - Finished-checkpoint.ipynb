{
 "cells": [
  {
   "cell_type": "markdown",
   "id": "dcdb816e",
   "metadata": {},
   "source": [
    "# Thực hành cấu trúc điều khiển\n",
    "\n",
    "### Bài 1\n",
    "\n",
    "Cho phương trình bậc 2: ax^2 + bx + c = 0\n",
    "\n",
    "Nhập a, b, c\n",
    "\n",
    "Giải và biện luận phương trình trên"
   ]
  },
  {
   "cell_type": "code",
   "execution_count": 3,
   "id": "b5a5c325",
   "metadata": {},
   "outputs": [
    {
     "name": "stdout",
     "output_type": "stream",
     "text": [
      "Nhập vào a:1\n",
      "Nhập vào b:-5\n",
      "Nhập vào c:6\n",
      "1.0x^2 + -5.0x + 6.0 = 0\n",
      "Phương trình có 2 nghiệm phân biệt: 3.0 và 2.0\n"
     ]
    }
   ],
   "source": [
    "## ax^2 + bx + c = 0\n",
    "\n",
    "a = float(input(\"Nhập vào a:\"))\n",
    "b = float(input(\"Nhập vào b:\"))\n",
    "c = float(input(\"Nhập vào c:\"))\n",
    "\n",
    "print(a,\"x^2 + \",b,\"x + \",c,\" = 0\",sep = \"\")\n",
    "\n",
    "if a == 0:\n",
    "    ### bx + c = 0\n",
    "    if b == 0:\n",
    "        ## c = 0\n",
    "        if c == 0:\n",
    "            ### 0 = 0\n",
    "            print(\"Phương trình vô số nghiệm\")\n",
    "        else:\n",
    "            ### do c khác 0 nên phương trình c = 0 luôn luôn sai\n",
    "            print(\"Phương trình vô nghiệm\")\n",
    "    else:\n",
    "        x = -c/b\n",
    "        print(\"Phương trình có 1 nghiệm:\",x)\n",
    "else:\n",
    "    delta = b**2 - 4*a*c\n",
    "    if delta < 0:\n",
    "        print(\"Phương trình vô nghiệm\")\n",
    "    elif delta == 0:\n",
    "        x = -b/(2*a)\n",
    "        print(\"Phương trình có 1 nghiệm kép\",x)\n",
    "    else:\n",
    "        can_delta = delta**0.5\n",
    "        x1 = (-b + can_delta)/(2*a)\n",
    "        x2 = (-b - can_delta)/(2*a)\n",
    "        print(\"Phương trình có 2 nghiệm phân biệt:\",x1,\"và\",x2)"
   ]
  },
  {
   "cell_type": "markdown",
   "id": "6f7d329d",
   "metadata": {},
   "source": [
    "### Bài 2\n",
    "\n",
    "Hãy nhập vào một số\n",
    "\n",
    "Xác định coi đó có phải là số nguyên tố hay không"
   ]
  },
  {
   "cell_type": "code",
   "execution_count": 8,
   "id": "049c85f5",
   "metadata": {},
   "outputs": [
    {
     "name": "stdout",
     "output_type": "stream",
     "text": [
      "Nhập vào a:9\n",
      "9 không là số nguyên tố\n"
     ]
    }
   ],
   "source": [
    "### số nguyên tố là số chỉ có 2 ước là 1 và chính nó\n",
    "##### VD: 7 là số nguyên tố vì 7 chỉ có 2 ước là 1 và 7\n",
    "##### 9 không phải là số nguyên tố vì 9 có 3 ước là 1, 3 và 9\n",
    "\n",
    "###### 20 ~~> 1 - 20\n",
    "###### a ~~> 1 - a\n",
    "\n",
    "a = int(input(\"Nhập vào a:\"))\n",
    "uoc = 1\n",
    "dem_uoc = 0\n",
    "\n",
    "for i in range(a):\n",
    "    if a % uoc == 0:\n",
    "        dem_uoc += 1\n",
    "    uoc += 1\n",
    "    \n",
    "if dem_uoc == 2:\n",
    "    print(a,\"là số nguyên tố\")\n",
    "else:\n",
    "    print(a,\"không là số nguyên tố\")"
   ]
  },
  {
   "cell_type": "markdown",
   "id": "75f7717b",
   "metadata": {},
   "source": [
    "### Bài 3\n",
    "\n",
    "Hãy nhập vào số n\n",
    "\n",
    "Hãy đếm số chữ số 0 tận cùng của n giai thừa\n",
    "\n",
    "(Bài này nâng cao, mọi người có thể bỏ qua)"
   ]
  },
  {
   "cell_type": "code",
   "execution_count": null,
   "id": "789e0e76",
   "metadata": {},
   "outputs": [],
   "source": []
  },
  {
   "cell_type": "markdown",
   "id": "29cd6c81",
   "metadata": {},
   "source": [
    "### Bài 4\n",
    "\n",
    "In ra tất cả các số chia hết cho 3 nhỏ hơn 100"
   ]
  },
  {
   "cell_type": "code",
   "execution_count": 9,
   "id": "0b848981",
   "metadata": {},
   "outputs": [
    {
     "name": "stdout",
     "output_type": "stream",
     "text": [
      "0\n",
      "3\n",
      "6\n",
      "9\n",
      "12\n",
      "15\n",
      "18\n",
      "21\n",
      "24\n",
      "27\n",
      "30\n",
      "33\n",
      "36\n",
      "39\n",
      "42\n",
      "45\n",
      "48\n",
      "51\n",
      "54\n",
      "57\n",
      "60\n",
      "63\n",
      "66\n",
      "69\n",
      "72\n",
      "75\n",
      "78\n",
      "81\n",
      "84\n",
      "87\n",
      "90\n",
      "93\n",
      "96\n",
      "99\n"
     ]
    }
   ],
   "source": [
    "a = 0\n",
    "for i in range(100):\n",
    "    if a % 3 == 0:\n",
    "        print(a)\n",
    "    a += 1"
   ]
  },
  {
   "cell_type": "markdown",
   "id": "04dbf99b",
   "metadata": {},
   "source": [
    "### Bài 5\n",
    "\n",
    "In ra tất cả các số lẻ nhưng không chia hết cho 3 nhỏ hơn 100"
   ]
  },
  {
   "cell_type": "code",
   "execution_count": 10,
   "id": "769eb439",
   "metadata": {},
   "outputs": [
    {
     "name": "stdout",
     "output_type": "stream",
     "text": [
      "1\n",
      "5\n",
      "7\n",
      "11\n",
      "13\n",
      "17\n",
      "19\n",
      "23\n",
      "25\n",
      "29\n",
      "31\n",
      "35\n",
      "37\n",
      "41\n",
      "43\n",
      "47\n",
      "49\n",
      "53\n",
      "55\n",
      "59\n",
      "61\n",
      "65\n",
      "67\n",
      "71\n",
      "73\n",
      "77\n",
      "79\n",
      "83\n",
      "85\n",
      "89\n",
      "91\n",
      "95\n",
      "97\n"
     ]
    }
   ],
   "source": [
    "i = 1\n",
    "for i in range (100):\n",
    "    if i % 3 != 0 and i % 2 == 1:\n",
    "        print (i)"
   ]
  },
  {
   "cell_type": "markdown",
   "id": "26dd47fb",
   "metadata": {},
   "source": [
    "### Bài 5\n",
    "\n",
    "Tại một cửa hàng nọ có menu như sau:\n",
    "\n",
    "1. Gà rán giá 35k\n",
    "2. Hamburger giá 50k\n",
    "3. Pesi giá 10k\n",
    "\n",
    "Nhập số lượng món hàng cần mua\n",
    "\n",
    "Tính và in ra tổng giá tiền (hiển thị có dấu chấm mỗi 3 chữ số để người dùng để quan sát)\n",
    "\n",
    "Nếu giá trị đơn hàng trên 2 triệu, giảm 10% cho khách, trên 4 triệu, giảm 15%\n",
    "\n",
    "Tính và in ra tổng giá tiền được giảm (hiển thị có dấu chấm mỗi 3 chữ số để người dùng để quan sát)\n",
    "\n",
    "Tính và in ra tổng giá tiền khách cần trả (hiển thị có dấu chấm mỗi 3 chữ số để người dùng để quan sát)\n",
    "\n",
    "In ra dòng chữ \"Cảm ơn quý khách đã mua hàng\""
   ]
  },
  {
   "cell_type": "code",
   "execution_count": 8,
   "id": "a9e78848",
   "metadata": {
    "scrolled": true
   },
   "outputs": [
    {
     "name": "stdout",
     "output_type": "stream",
     "text": [
      "Chào mừng bạn đến với cửa hàng!\n",
      "\n",
      "Gà rán giá 35k\n",
      "Hamburger giá 50k\n",
      "Pesi giá 10k\n",
      "\n",
      "--------------------------\n",
      "\n",
      "Nhập vào số lượng Gà rán cần mua:10\n",
      "Nhập vào số lượng Hamburger cần mua:5\n",
      "Nhập vào số lượng Pesi cần mua:10\n",
      "\n",
      "Tổng: 700.000 đ\n",
      "Được giảm: 0 đ\n",
      "Khách trả: 700.000 đ\n",
      "\n",
      "Cảm ơn quý khách đã mua hàng!\n"
     ]
    }
   ],
   "source": [
    "print('''Chào mừng bạn đến với cửa hàng!\n",
    "\n",
    "Gà rán giá 35k\n",
    "Hamburger giá 50k\n",
    "Pesi giá 10k\n",
    "\n",
    "--------------------------\n",
    "''')\n",
    "garan = int(input(\"Nhập vào số lượng Gà rán cần mua:\"))\n",
    "ham = int(input(\"Nhập vào số lượng Hamburger cần mua:\"))\n",
    "pesi = int(input(\"Nhập vào số lượng Pesi cần mua:\"))\n",
    "\n",
    "print()\n",
    "\n",
    "tong = garan*35000 + ham*50000 + pesi*10000\n",
    "\n",
    "print(\"Tổng:\",f\"{tong:,}\".replace(\",\",\".\"),\"đ\")\n",
    "\n",
    "if tong > 4*10**6:\n",
    "    giam = int(tong*0.15)\n",
    "elif tong > 2*10**6:\n",
    "    giam = int(tong*0.1)\n",
    "else:\n",
    "    giam = 0\n",
    "    \n",
    "print(\"Được giảm:\",f\"{giam:,}\".replace(\",\",\".\"),\"đ\")\n",
    "\n",
    "tong_tra = tong-giam\n",
    "\n",
    "print(\"Khách trả:\",f\"{tong_tra:,}\".replace(\",\",\".\"),\"đ\")\n",
    "\n",
    "print(\"\\nCảm ơn quý khách đã mua hàng!\")"
   ]
  },
  {
   "cell_type": "code",
   "execution_count": 12,
   "id": "8509df1e",
   "metadata": {},
   "outputs": [
    {
     "name": "stdout",
     "output_type": "stream",
     "text": [
      "1.000.000\n"
     ]
    }
   ],
   "source": [
    "a = 1000000\n",
    "print(f\"{a:,}\".replace(\",\",\".\"))"
   ]
  },
  {
   "cell_type": "markdown",
   "id": "ab10a1ce",
   "metadata": {},
   "source": [
    "### Bài 6\n",
    "\n",
    "Nhập vào chiều cao (cm) và cân nặng (kg), tính số BMI và xét rồi xin kết quả theo dữ liệu sau:\n",
    "\n",
    "- BMI < 16: Gầy cấp độ III\n",
    "- 16 <= BMI < 17:  Gầy cấp độ II\n",
    "- 17<= BMI < 18.5: Gầy cấp độ I\n",
    "- 18.5 <= BMI < 25: Bình thường\n",
    "- 25 <= BMI < 30: Thừa cân\n",
    "- 30 <= BMI < 35 : Béo phì cấp độ I\n",
    "- 35 <= BMI < 40: Béo phì cấp độ II\n",
    "- BMI > 40: Béo phì cấp độ III"
   ]
  },
  {
   "cell_type": "code",
   "execution_count": null,
   "id": "1058f441",
   "metadata": {},
   "outputs": [],
   "source": [
    "a = float(input(\"nhập chiều cao 'cm': \"))\n",
    "b = float(input(\"nhập cân nặng 'kg': \"))\n",
    "\n",
    "BMI = b/(a**2/10000)\n",
    "\n",
    "if (BMI<16):\n",
    "    print(\"Gầy cấp độ 3\")\n",
    "elif(BMI<17):\n",
    "    print(\"Gầy cấp độ 2\")\n",
    "elif(BMI<18.5):\n",
    "    print(\"Gầy cấp độ 1\")\n",
    "elif(BMI<25):\n",
    "    print(\"Bình thường\")\n",
    "elif(BMI<30):\n",
    "    print(\"Thừa cân\")\n",
    "elif(BMI<35):\n",
    "    print(\"Béo phì cấp độ 1\")\n",
    "elif(BMI<40):\n",
    "    print(\"Béo phì cấp độ 2\")\n",
    "else:\n",
    "    print(\"Béo phì cấp độ 3\")\n",
    "print(\"chỉ số BMI của bạn: \", BMI)\n"
   ]
  },
  {
   "cell_type": "code",
   "execution_count": null,
   "id": "f729044b",
   "metadata": {},
   "outputs": [],
   "source": [
    "height = float(input(\"Nhap chieu cao (cm): \"))\n",
    "weight = float(input(\"Nhap can nang (kg): \"))\n",
    "\n",
    "BMI = weight / ((height/100)**2)\n",
    "\n",
    "if height <=0 or weight <= 0:\n",
    "    print(\"Khong hop le\")\n",
    "else:\n",
    "    print(BMI)\n",
    "    if BMI >= 40:\n",
    "        print(\"Beo phi cap do III\")\n",
    "    elif BMI >= 35:\n",
    "        print(\"Beo phi cap do II\")\n",
    "    elif BMI >= 30:\n",
    "        print(\"Beo phi cap do I\")\n",
    "    elif BMI >= 25:\n",
    "        print(\"Thua can\")\n",
    "    elif BMI >= 18.5:\n",
    "        print(\"Binh thuong\")\n",
    "    elif BMI >= 17:\n",
    "        print(\"Gay cap do I\")\n",
    "    elif BMI >= 16:\n",
    "        print(\"Gay cap do II\")\n",
    "    else:\n",
    "        print(\"Gay cap do III\")"
   ]
  },
  {
   "cell_type": "markdown",
   "id": "f7620342",
   "metadata": {},
   "source": [
    "### Bài 7\n",
    "\n",
    "Nhập ngày, tháng, năm. Hãy tính và in ra màn hình kể từ đầu năm đến ngày vừa nhập là bao nhiêu ngày."
   ]
  },
  {
   "cell_type": "code",
   "execution_count": 11,
   "id": "4c57f0a5",
   "metadata": {},
   "outputs": [
    {
     "name": "stdout",
     "output_type": "stream",
     "text": [
      "Nhập vào ngày:14\n",
      "Nhập vào tháng:6\n",
      "Nhập vào năm:2000\n",
      "167\n"
     ]
    }
   ],
   "source": [
    "ngay = int(input(\"Nhập vào ngày:\"))\n",
    "thang = int(input(\"Nhập vào tháng:\"))\n",
    "nam = int(input(\"Nhập vào năm:\"))\n",
    "\n",
    "total_day = ngay\n",
    "\n",
    "### 1/7/2000 ~~> 1/1/2000 ~~> 1/7/2000\n",
    "\n",
    "thang_chay = 1\n",
    "\n",
    "for i in range(thang-1):\n",
    "    if thang_chay == 1 or thang_chay == 3 or thang_chay == 5 or thang_chay == 7 or thang_chay == 8 \\\n",
    "        or thang_chay == 10 or thang_chay == 12:\n",
    "        total_day += 31\n",
    "    elif thang == 2:\n",
    "        if nam % 400 == 0 or (nam % 4 == 0 and nam % 100 != 0):\n",
    "            total_day += 29\n",
    "        else:\n",
    "            total_day += 28\n",
    "    else:\n",
    "        total_day += 30\n",
    "    thang_chay += 1\n",
    "    \n",
    "print(total_day)"
   ]
  },
  {
   "cell_type": "code",
   "execution_count": 14,
   "id": "4ede3d16",
   "metadata": {},
   "outputs": [
    {
     "name": "stdout",
     "output_type": "stream",
     "text": [
      "Nhap ngay: 14\n",
      "Nhap thang: 6\n",
      "Nhap nam: 2000\n",
      "166\n"
     ]
    }
   ],
   "source": [
    "a = int(input(\"Nhap ngay: \"))\n",
    "b = int(input(\"Nhap thang: \"))\n",
    "c = int(input(\"Nhap nam: \"))\n",
    "n = 1\n",
    "\n",
    "# check ngày thang năm nhập vào có hợp lệ không\n",
    "\n",
    "total_day = 0\n",
    "    \n",
    "# Tính toán sô ngày\n",
    "#tính số ngày tới cuối năm c-1 (năm truóc năm cần tính) \n",
    "\n",
    "#tính số ngày tới năm c, tháng b-1\n",
    "for i in range(b-1):\n",
    "    if n == 4 or n == 6 or n == 9 or n == 11:\n",
    "        total_day += 30\n",
    "    elif n == 1 or n == 3 or n ==5 or n ==7 or n ==8 or n ==10:\n",
    "        total_day += 31\n",
    "    else:\n",
    "        if c%4 ==0 and c%100 != 0 or c%400 ==0:\n",
    "            total_day += 29\n",
    "        else:\n",
    "            total_day += 28\n",
    "    n +=1\n",
    "#tính số ngày của tháng b\n",
    "total_day += a\n",
    "print(total_day)"
   ]
  }
 ],
 "metadata": {
  "kernelspec": {
   "display_name": "Python 3 (ipykernel)",
   "language": "python",
   "name": "python3"
  },
  "language_info": {
   "codemirror_mode": {
    "name": "ipython",
    "version": 3
   },
   "file_extension": ".py",
   "mimetype": "text/x-python",
   "name": "python",
   "nbconvert_exporter": "python",
   "pygments_lexer": "ipython3",
   "version": "3.9.12"
  }
 },
 "nbformat": 4,
 "nbformat_minor": 5
}
