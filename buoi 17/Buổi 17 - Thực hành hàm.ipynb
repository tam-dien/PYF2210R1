{
 "cells": [
  {
   "cell_type": "markdown",
   "id": "028ffec3",
   "metadata": {},
   "source": [
    "# Thực hành hàm\n",
    "\n",
    "### Bài 1\n",
    "\n",
    "Viết hàm có dữ liệu đầu vào là 2 số a và b, số nào lớn hơn thì in bảng cửu chương của số đó"
   ]
  },
  {
   "cell_type": "code",
   "execution_count": 13,
   "id": "1974966b",
   "metadata": {},
   "outputs": [
    {
     "name": "stdout",
     "output_type": "stream",
     "text": [
      "8 x 1 = 8\n",
      "8 x 2 = 16\n",
      "8 x 3 = 24\n",
      "8 x 4 = 32\n",
      "8 x 5 = 40\n",
      "8 x 6 = 48\n",
      "8 x 7 = 56\n",
      "8 x 8 = 64\n",
      "8 x 9 = 72\n",
      "8 x 10 = 80\n"
     ]
    }
   ],
   "source": [
    "def bangcuuchuong(a,b):\n",
    "    if a < b:\n",
    "        a,b = b,a\n",
    "    for i in range(1,11):\n",
    "        S = a*i\n",
    "        print(a,\"x\",i,\"=\",S)\n",
    "bangcuuchuong(8,5)"
   ]
  },
  {
   "cell_type": "markdown",
   "id": "9de8ffaa",
   "metadata": {},
   "source": [
    "### Bài 2\n",
    "\n",
    "Viết hàm `xoachuoi` có dữ liệu đầu vào là 2 chuỗi a và b, hãy tìm trong chuỗi a có chuỗi b hay không, nếu có hãy xóa toán bộ chuỗi b trong a.\n",
    "\n",
    "Sau đó trả về chuỗi a mới\n",
    "\n",
    "Ví dụ:\n",
    "\n",
    "chuoi1 = \"xin chào các bạn, các bạn có khỏe không?\"\n",
    "\n",
    "chuoi2 = \"các bạn\"\n",
    "\n",
    "chuoi3 = xoachuoi(chuoi1,chuoi2)\n",
    "\n",
    "print(chuoi3)\n",
    "\n",
    "Kết quả in ra là:\n",
    "xin chào ,  có khỏe không"
   ]
  },
  {
   "cell_type": "code",
   "execution_count": 15,
   "id": "05de1584",
   "metadata": {},
   "outputs": [
    {
     "name": "stdout",
     "output_type": "stream",
     "text": [
      "xin   các bạn\n"
     ]
    }
   ],
   "source": [
    "### không được dùng lệnh replace\n",
    "def xoachuoi(a,b):\n",
    "    for i in range(len(a)):\n",
    "        i = a.find(b)\n",
    "        if i != -1:\n",
    "            a = a[:i] + a[i + len(b):]\n",
    "        else:\n",
    "            break\n",
    "    print(a)\n",
    "             \n",
    "xoachuoi(\"xin chào chào các bạn\",\"chào\")"
   ]
  },
  {
   "cell_type": "code",
   "execution_count": 23,
   "id": "35cf8fa5",
   "metadata": {},
   "outputs": [
    {
     "name": "stdout",
     "output_type": "stream",
     "text": [
      "xin   các bạn\n"
     ]
    }
   ],
   "source": [
    "### không được dùng lệnh replace\n",
    "def xoachuoi(a,b):\n",
    "    for i in range(len(a)-len(b)+1):\n",
    "        if i >= len(a):\n",
    "            break\n",
    "        if a[i:i+len(b)]==b:\n",
    "            a = a[:i] + a[i + len(b):]\n",
    "    print(a)\n",
    "             \n",
    "xoachuoi(\"xin chào chào các bạn\",\"chào\")"
   ]
  },
  {
   "cell_type": "markdown",
   "id": "d626394e",
   "metadata": {},
   "source": [
    "### Bài 3\n",
    "\n",
    "Viết hàm `kiemtramatkhau` với dữ liệu đầu vào là 1 chuỗi có công dụng như sau:\n",
    "\n",
    "Kiểm tra xem chuỗi đầu vào có phải là mật khẩu mạnh hay không, nếu có trả về True, nếu không trả về False\n",
    "\n",
    "Mật khẩu mạnh là mật khẩu phải có ít nhất 1 chữ hoa, 1 chữ thường, 1 số và 1 ký tự đặc biệt"
   ]
  },
  {
   "cell_type": "code",
   "execution_count": 32,
   "id": "875d88f5",
   "metadata": {},
   "outputs": [
    {
     "name": "stdout",
     "output_type": "stream",
     "text": [
      "Nhập mật khẩu: 2312kljkldasdKLSDJA\n"
     ]
    },
    {
     "data": {
      "text/plain": [
       "False"
      ]
     },
     "execution_count": 32,
     "metadata": {},
     "output_type": "execute_result"
    }
   ],
   "source": [
    "### độ dài phải lớn hơn 6\n",
    "def kiemtramatkhau(a):\n",
    "    hoa = False\n",
    "    thuong = False\n",
    "    so = False\n",
    "    dacbiet = False\n",
    "    for i in a:\n",
    "        if i.isupper():\n",
    "            hoa = True\n",
    "        elif i.islower():\n",
    "            thuong = True\n",
    "        elif i.isnumeric():\n",
    "            so = True\n",
    "        else:\n",
    "            dacbiet = True\n",
    "        if hoa and thuong and so and dacbiet:\n",
    "            return True\n",
    "    return False\n",
    "chuoi=input(\"Nhập mật khẩu: \")\n",
    "kiemtramatkhau(chuoi)"
   ]
  },
  {
   "cell_type": "markdown",
   "id": "1572568f",
   "metadata": {},
   "source": [
    "### Bài 4\n",
    "\n",
    "Viết hàm có 5 dữ liệu đầu vào là 5 số nguyên, tìm giá trị lớn nhì trong 5 số đó"
   ]
  },
  {
   "cell_type": "code",
   "execution_count": 34,
   "id": "876707ae",
   "metadata": {},
   "outputs": [
    {
     "name": "stdout",
     "output_type": "stream",
     "text": [
      "12\n"
     ]
    }
   ],
   "source": [
    "### dữ liệu đầu vào là không giới hạn\n",
    "##### max_nhi(3,3,5,7,8,10,12,12,15,15)\n",
    "def solonnhi(*a):\n",
    "    max = a[0]\n",
    "    max_2 = a[1]\n",
    "    for i in range(len(a)):\n",
    "        if max < a[i]:\n",
    "            max_2 = max\n",
    "            max = a[i]\n",
    "        elif a[i]>max_2 and max != a[i]:\n",
    "            max_2 =a[i]   \n",
    "    return max_2\n",
    "print(solonnhi(12,12,2,9,8))"
   ]
  },
  {
   "cell_type": "code",
   "execution_count": 35,
   "id": "19fbe267",
   "metadata": {},
   "outputs": [
    {
     "name": "stdout",
     "output_type": "stream",
     "text": [
      "So lon nhi la: 0\n"
     ]
    }
   ],
   "source": [
    "def process(*a):\n",
    "    max =0\n",
    "    max_2 = 0\n",
    "\n",
    "    for i in range(len(a)):\n",
    "        if a[i]>max:\n",
    "            max_2 = max\n",
    "            max = a[i]\n",
    "        elif a[i] == max:\n",
    "            continue\n",
    "        elif a[i]>max_2:\n",
    "            max_2 = a[i]\n",
    "            \n",
    "    return max_2\n",
    "\n",
    "so_lon_nhi= process(-5,-2,-7,-5)\n",
    "print(f\"So lon nhi la: {so_lon_nhi}\")\n"
   ]
  },
  {
   "cell_type": "code",
   "execution_count": 44,
   "id": "862f864e",
   "metadata": {
    "scrolled": false
   },
   "outputs": [
    {
     "name": "stdout",
     "output_type": "stream",
     "text": [
      "12\n"
     ]
    }
   ],
   "source": [
    "def solonnhi(*a):\n",
    "    max = None\n",
    "    max_2 = None\n",
    "    for i in range(len(a)):\n",
    "        if max == None or max < a[i]:\n",
    "            max_2 = max\n",
    "            max = a[i]\n",
    "        elif max != a[i] and (max_2 == None or a[i]>max_2):\n",
    "            max_2 = a[i]\n",
    "    return max_2\n",
    "\n",
    "print(solonnhi(12,12,12,12,15,11,11))"
   ]
  },
  {
   "cell_type": "code",
   "execution_count": 4,
   "id": "74004d1e",
   "metadata": {},
   "outputs": [
    {
     "data": {
      "text/plain": [
       "True"
      ]
     },
     "execution_count": 4,
     "metadata": {},
     "output_type": "execute_result"
    }
   ],
   "source": [
    "def ham(*a):\n",
    "    for i in range(1,len(a)-1):\n",
    "        if a[i+1] - a[i] == a[i] - a[i-1]:\n",
    "            return True\n",
    "        return False\n",
    "\n",
    "ham(1,3,5,8,9)"
   ]
  },
  {
   "cell_type": "code",
   "execution_count": 8,
   "id": "3bd384d7",
   "metadata": {},
   "outputs": [
    {
     "data": {
      "text/plain": [
       "True"
      ]
     },
     "execution_count": 8,
     "metadata": {},
     "output_type": "execute_result"
    }
   ],
   "source": [
    "def csc(*a):\n",
    "    k = a[1]-a[0]\n",
    "    for i in range(2,len(a)):\n",
    "        if k != a[i]-a[i-1]:\n",
    "            return False\n",
    "    return True\n",
    "\n",
    "csc(15,20,25,30,35,40)"
   ]
  },
  {
   "cell_type": "code",
   "execution_count": null,
   "id": "e08cbd80",
   "metadata": {},
   "outputs": [],
   "source": [
    "### Tìm chữ số lớn nhất của số nguyên dương n\n",
    "### return về chữ số dạng số nguyên\n",
    "def timchusomax(n):\n",
    "    ###"
   ]
  },
  {
   "cell_type": "code",
   "execution_count": null,
   "id": "d697cf5c",
   "metadata": {},
   "outputs": [],
   "source": [
    "### viết 1 hàm có tham số dầu vào là không giới hạn\n",
    "### hãy kiểm tra những số đưa vào có phải là một cấp số cộng hay không\n",
    "\n",
    "\n",
    "def ham(*a):\n",
    "    pass\n",
    "\n",
    "## ham(1,3,5,7,9) ~~> cấp số cộng ~~> return True\n",
    "## ham(3,7,11,15) ~~> cấp số cộng ~~> return True\n",
    "## ham(5,9,12,11) ~~> không phải là cấp số cộng ~~> return False"
   ]
  },
  {
   "cell_type": "code",
   "execution_count": null,
   "id": "896ddfb0",
   "metadata": {},
   "outputs": [],
   "source": [
    "def tim_max(a):\n",
    "    a = str(a)\n",
    "    m = a[0]\n",
    "    for i in range (1,len(a)):\n",
    "        if m < a[i]:\n",
    "            m = a[i]\n",
    "    return int(m)\n",
    "print(tim_max(233654564))\n"
   ]
  },
  {
   "cell_type": "code",
   "execution_count": null,
   "id": "afcdccf8",
   "metadata": {},
   "outputs": [],
   "source": [
    "def somax(n):\n",
    "    n = str(n)\n",
    "    a = n[0]\n",
    "    for i in range(len(n)):\n",
    "        if a < n[i]:\n",
    "            a = n[i]\n",
    "    return int(a)\n",
    "\n",
    "somax(89)\n"
   ]
  },
  {
   "cell_type": "code",
   "execution_count": 12,
   "id": "7c7ff70f",
   "metadata": {},
   "outputs": [
    {
     "name": "stdout",
     "output_type": "stream",
     "text": [
      "False\n"
     ]
    }
   ],
   "source": [
    "def timso(*a):\n",
    "    b=a[1]-a[0]\n",
    "    c=0\n",
    "    for i in range(len(a)-1):\n",
    "        if a[i+1]-a[i]==b:\n",
    "            c+=1\n",
    "        else:\n",
    "            return False\n",
    "    \n",
    "    if c==len(a)-1:\n",
    "        return True\n",
    "    \n",
    "print(timso(1,3,5,7,9))"
   ]
  },
  {
   "cell_type": "code",
   "execution_count": 3,
   "id": "de82b94c",
   "metadata": {},
   "outputs": [
    {
     "name": "stdout",
     "output_type": "stream",
     "text": [
      "9 8 7 5 4 \n"
     ]
    },
    {
     "data": {
      "text/plain": [
       "4"
      ]
     },
     "execution_count": 3,
     "metadata": {},
     "output_type": "execute_result"
    }
   ],
   "source": [
    "def tim_max(*a,thuhang=1):\n",
    "    ### đê tìm số lớn thứ thuhang\n",
    "    ### ta cần tìm max thuhang lần\n",
    "    S = \"\"\n",
    "    for i in range(thuhang):\n",
    "        m = None\n",
    "        for i in range(len(a)):\n",
    "            if str(a[i]) not in S:\n",
    "                if m == None or m < a[i]:\n",
    "                    m = a[i]\n",
    "        S += str(m) + \" \"\n",
    "    print(S)\n",
    "    return m\n",
    "\n",
    "tim_max(9, 9, 5, 2, 4, 7, 8, thuhang = 5)"
   ]
  },
  {
   "cell_type": "code",
   "execution_count": 2,
   "id": "ddb164de",
   "metadata": {},
   "outputs": [
    {
     "name": "stdout",
     "output_type": "stream",
     "text": [
      "So lon la: 3\n"
     ]
    }
   ],
   "source": [
    "def process(*a,thuhang=1):\n",
    "    so_lon = None\n",
    "    solon=\"\"\n",
    "    while thuhang >0:\n",
    "        for i in range(len(a)):\n",
    "            if (so_lon == None or a[i]>so_lon) and str(a[i]) not in solon:\n",
    "                  so_lon = a[i]\n",
    "        solon+=str(so_lon)\n",
    "        thuhang-=1\n",
    "    return so_lon\n",
    "\n",
    "num= process(1,2,3,thuhang=2)\n",
    "print(f\"So lon la: {num}\")"
   ]
  },
  {
   "cell_type": "code",
   "execution_count": 14,
   "id": "e61df3ad",
   "metadata": {},
   "outputs": [
    {
     "name": "stdout",
     "output_type": "stream",
     "text": [
      "[2, 4, 5, 7, 8, 9, 9]\n",
      "7\n"
     ]
    }
   ],
   "source": [
    "def timso(*a, n = 1):\n",
    "\n",
    "    a = list (a)\n",
    "\n",
    "    for i in range(0, len(a) - 1):\n",
    "        for j in range(i + 1, len(a)):\n",
    "            if (a[i] > a[j]):\n",
    "                x = a[i]\n",
    "                a[i] = a[j]\n",
    "                a[j] = x\n",
    "    print(a)\n",
    "\n",
    "    print (a[len(a)-n])\n",
    "\n",
    "timso (5, 2, 4, 7, 8, 9,9, n = 4)"
   ]
  },
  {
   "cell_type": "code",
   "execution_count": null,
   "id": "53445b6a",
   "metadata": {},
   "outputs": [],
   "source": [
    "\"\" và null"
   ]
  },
  {
   "cell_type": "markdown",
   "id": "974d7da1",
   "metadata": {},
   "source": [
    "### Bài 5\n",
    "\n",
    "Nhập vào 2 cặp tọa độ tâm đường tròn và 2 bán kính R\n",
    "\n",
    "Hãy vẽ 2 hình tròn theo tọa độ và bán kính trên (tọa độ thứ nhất và bán kính thứ nhất là hình tròn thứ nhất, tọa độ thứ 2 với bán kính thứ 2 là hình tròn thứ hai)\n",
    "\n",
    "Viết hàm kiểm tra xem 2 hình tròn trên cắt nhau bao nhiêu điểm"
   ]
  },
  {
   "cell_type": "code",
   "execution_count": null,
   "id": "f7722021",
   "metadata": {},
   "outputs": [],
   "source": []
  },
  {
   "cell_type": "markdown",
   "id": "a2157de8",
   "metadata": {},
   "source": [
    "### Bài 6\n",
    "\n",
    "Nhập vào 2 tọa độ là 2 đỉnh của một hình chữ nhật\n",
    "\n",
    "Sau đó\n",
    "\n",
    "Nhập vào tọa độ tâm đường tròn và bán kính R\n",
    "\n",
    "Hãy vẽ hình hình chữ nhật và đường tròn trên\n",
    "\n",
    "Viết hàm kiểm tra xem đường tròn trên và hình chữ nhật cắt nhau tại bao nhiêu điểm"
   ]
  },
  {
   "cell_type": "code",
   "execution_count": null,
   "id": "e0d7b1a2",
   "metadata": {},
   "outputs": [],
   "source": []
  },
  {
   "cell_type": "markdown",
   "id": "d1491579",
   "metadata": {},
   "source": [
    "### Bài 7\n",
    "\n",
    "Viết hàm kiểm tra số nguyên tố\n",
    "\n",
    "Viết hàm kiểm tra số hoàn hảo\n",
    "\n",
    "Viết hàm kiểm tra số chính phương\n",
    "\n",
    "Viết hàm kiểm tra số Armstrong\n",
    "\n",
    "Nhập vào một chuỗi, hãy lọc và tìm ra những số ở trong chuỗi (2 chữ số liền nhau là một chuỗi)\n",
    "\n",
    "Ví dụ chuỗi: \"AB25SDc5DSjjh52\"\n",
    "\n",
    "Trong chuỗi này ta có 3 số: 25, 5 và 52\n",
    "\n",
    "Sau khi lọc số, dùng các hàm trên để kiểm tra và thực hiện như sau:\n",
    "\n",
    "Cho biến S\n",
    "\n",
    "- Nếu số đó là số nguyên tố, ta thực hiện S += số đó\n",
    "- Nếu số đó là số hoàn hảo, ta thực hiện S -= số đó\n",
    "- Nếu số đó là số chính phương, ta thực hiện S /= số đó\n",
    "- Nếu đó là số Armstrong ta cho S = 0\n",
    "\n",
    "Hãy tính và in S"
   ]
  },
  {
   "cell_type": "code",
   "execution_count": 2,
   "id": "0b699e33",
   "metadata": {},
   "outputs": [
    {
     "name": "stdout",
     "output_type": "stream",
     "text": [
      "Nhập vào chuỗi:AB25SDc5DSjjh52\n",
      "5.0\n"
     ]
    }
   ],
   "source": [
    "def snt(a):\n",
    "    if a < 2:\n",
    "        return False\n",
    "    for i in range(2,a//2+1):\n",
    "        if a % i == 0:\n",
    "            return False\n",
    "    return True\n",
    "\n",
    "def shh(a):\n",
    "    tong = 0\n",
    "    for uoc in range(1,a):\n",
    "        if a % uoc == 0:\n",
    "            tong += uoc\n",
    "        uoc += 1\n",
    "    if tong == a:\n",
    "        return True\n",
    "    return False\n",
    "\n",
    "def scp(a):\n",
    "    cana = a**0.5\n",
    "    if cana % 1 == 0:\n",
    "        return True\n",
    "    return False\n",
    "\n",
    "def Amr(a):\n",
    "    save_a = a\n",
    "    chuoi_a = str(a)\n",
    "    dodai = len(chuoi_a)\n",
    "    t = 0\n",
    "    while a != 0:\n",
    "        b = a%10\n",
    "        a = a//10\n",
    "        t += b**dodai\n",
    "    a = save_a\n",
    "    if t == a:\n",
    "        return True\n",
    "    return False\n",
    "\n",
    "def main():\n",
    "    chuoi = input(\"Nhập vào chuỗi:\")\n",
    "    chuoi += \" \"\n",
    "    S = 0\n",
    "    chuoi_tam = \"\"\n",
    "    for i in chuoi:\n",
    "        if i.isnumeric():\n",
    "            chuoi_tam += i\n",
    "        else:\n",
    "            if chuoi_tam != \"\":\n",
    "                a = int(chuoi_tam)\n",
    "                if snt(a):\n",
    "                    S += a\n",
    "                elif shh(a):\n",
    "                    S -= a\n",
    "                elif scp(a):\n",
    "                    S /= a\n",
    "                elif Amr(a):\n",
    "                    S = 0\n",
    "                chuoi_tam = \"\"\n",
    "    print(S)\n",
    "    \n",
    "main()"
   ]
  }
 ],
 "metadata": {
  "kernelspec": {
   "display_name": "Python 3 (ipykernel)",
   "language": "python",
   "name": "python3"
  },
  "language_info": {
   "codemirror_mode": {
    "name": "ipython",
    "version": 3
   },
   "file_extension": ".py",
   "mimetype": "text/x-python",
   "name": "python",
   "nbconvert_exporter": "python",
   "pygments_lexer": "ipython3",
   "version": "3.9.12"
  }
 },
 "nbformat": 4,
 "nbformat_minor": 5
}
