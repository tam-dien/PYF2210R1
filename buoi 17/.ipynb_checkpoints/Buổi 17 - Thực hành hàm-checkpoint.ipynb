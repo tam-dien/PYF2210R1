{
 "cells": [
  {
   "cell_type": "markdown",
   "id": "028ffec3",
   "metadata": {},
   "source": [
    "# Thực hành hàm\n",
    "\n",
    "### Bài 1\n",
    "\n",
    "Viết hàm có dữ liệu đầu vào là 2 số a và b, số nào lớn hơn thì in bảng cửu chương của số đó"
   ]
  },
  {
   "cell_type": "code",
   "execution_count": 13,
   "id": "1974966b",
   "metadata": {},
   "outputs": [
    {
     "name": "stdout",
     "output_type": "stream",
     "text": [
      "8 x 1 = 8\n",
      "8 x 2 = 16\n",
      "8 x 3 = 24\n",
      "8 x 4 = 32\n",
      "8 x 5 = 40\n",
      "8 x 6 = 48\n",
      "8 x 7 = 56\n",
      "8 x 8 = 64\n",
      "8 x 9 = 72\n",
      "8 x 10 = 80\n"
     ]
    }
   ],
   "source": [
    "def bangcuuchuong(a,b):\n",
    "    if a < b:\n",
    "        a,b = b,a\n",
    "    for i in range(1,11):\n",
    "        S = a*i\n",
    "        print(a,\"x\",i,\"=\",S)\n",
    "bangcuuchuong(8,5)"
   ]
  },
  {
   "cell_type": "markdown",
   "id": "9de8ffaa",
   "metadata": {},
   "source": [
    "### Bài 2\n",
    "\n",
    "Viết hàm `xoachuoi` có dữ liệu đầu vào là 2 chuỗi a và b, hãy tìm trong chuỗi a có chuỗi b hay không, nếu có hãy xóa toán bộ chuỗi b trong a.\n",
    "\n",
    "Sau đó trả về chuỗi a mới\n",
    "\n",
    "Ví dụ:\n",
    "\n",
    "chuoi1 = \"xin chào các bạn, các bạn có khỏe không?\"\n",
    "\n",
    "chuoi2 = \"các bạn\"\n",
    "\n",
    "chuoi3 = xoachuoi(chuoi1,chuoi2)\n",
    "\n",
    "print(chuoi3)\n",
    "\n",
    "Kết quả in ra là:\n",
    "xin chào ,  có khỏe không"
   ]
  },
  {
   "cell_type": "code",
   "execution_count": 15,
   "id": "05de1584",
   "metadata": {},
   "outputs": [
    {
     "name": "stdout",
     "output_type": "stream",
     "text": [
      "xin   các bạn\n"
     ]
    }
   ],
   "source": [
    "### không được dùng lệnh replace\n",
    "def xoachuoi(a,b):\n",
    "    for i in range(len(a)):\n",
    "        i = a.find(b)\n",
    "        if i != -1:\n",
    "            a = a[:i] + a[i + len(b):]\n",
    "        else:\n",
    "            break\n",
    "    print(a)\n",
    "             \n",
    "xoachuoi(\"xin chào chào các bạn\",\"chào\")"
   ]
  },
  {
   "cell_type": "code",
   "execution_count": 23,
   "id": "35cf8fa5",
   "metadata": {},
   "outputs": [
    {
     "name": "stdout",
     "output_type": "stream",
     "text": [
      "xin   các bạn\n"
     ]
    }
   ],
   "source": [
    "### không được dùng lệnh replace\n",
    "def xoachuoi(a,b):\n",
    "    for i in range(len(a)-len(b)+1):\n",
    "        if i >= len(a):\n",
    "            break\n",
    "        if a[i:i+len(b)]==b:\n",
    "            a = a[:i] + a[i + len(b):]\n",
    "    print(a)\n",
    "             \n",
    "xoachuoi(\"xin chào chào các bạn\",\"chào\")"
   ]
  },
  {
   "cell_type": "markdown",
   "id": "d626394e",
   "metadata": {},
   "source": [
    "### Bài 3\n",
    "\n",
    "Viết hàm `kiemtramatkhau` với dữ liệu đầu vào là 1 chuỗi có công dụng như sau:\n",
    "\n",
    "Kiểm tra xem chuỗi đầu vào có phải là mật khẩu mạnh hay không, nếu có trả về True, nếu không trả về False\n",
    "\n",
    "Mật khẩu mạnh là mật khẩu phải có ít nhất 1 chữ hoa, 1 chữ thường, 1 số và 1 ký tự đặc biệt"
   ]
  },
  {
   "cell_type": "code",
   "execution_count": 32,
   "id": "875d88f5",
   "metadata": {},
   "outputs": [
    {
     "name": "stdout",
     "output_type": "stream",
     "text": [
      "Nhập mật khẩu: 2312kljkldasdKLSDJA\n"
     ]
    },
    {
     "data": {
      "text/plain": [
       "False"
      ]
     },
     "execution_count": 32,
     "metadata": {},
     "output_type": "execute_result"
    }
   ],
   "source": [
    "### độ dài phải lớn hơn 6\n",
    "def kiemtramatkhau(a):\n",
    "    hoa = False\n",
    "    thuong = False\n",
    "    so = False\n",
    "    dacbiet = False\n",
    "    for i in a:\n",
    "        if i.isupper():\n",
    "            hoa = True\n",
    "        elif i.islower():\n",
    "            thuong = True\n",
    "        elif i.isnumeric():\n",
    "            so = True\n",
    "        else:\n",
    "            dacbiet = True\n",
    "        if hoa and thuong and so and dacbiet:\n",
    "            return True\n",
    "    return False\n",
    "chuoi=input(\"Nhập mật khẩu: \")\n",
    "kiemtramatkhau(chuoi)"
   ]
  },
  {
   "cell_type": "markdown",
   "id": "1572568f",
   "metadata": {},
   "source": [
    "### Bài 4\n",
    "\n",
    "Viết hàm có 5 dữ liệu đầu vào là 5 số nguyên, tìm giá trị lớn nhì trong 5 số đó"
   ]
  },
  {
   "cell_type": "code",
   "execution_count": 34,
   "id": "876707ae",
   "metadata": {},
   "outputs": [
    {
     "name": "stdout",
     "output_type": "stream",
     "text": [
      "12\n"
     ]
    }
   ],
   "source": [
    "### dữ liệu đầu vào là không giới hạn\n",
    "##### max_nhi(3,3,5,7,8,10,12,12,15,15)\n",
    "def solonnhi(*a):\n",
    "    max = a[0]\n",
    "    max_2 = a[1]\n",
    "    for i in range(len(a)):\n",
    "        if max < a[i]:\n",
    "            max_2 = max\n",
    "            max = a[i]\n",
    "        elif a[i]>max_2 and max != a[i]:\n",
    "            max_2 =a[i]   \n",
    "    return max_2\n",
    "print(solonnhi(12,12,2,9,8))"
   ]
  },
  {
   "cell_type": "code",
   "execution_count": 35,
   "id": "19fbe267",
   "metadata": {},
   "outputs": [
    {
     "name": "stdout",
     "output_type": "stream",
     "text": [
      "So lon nhi la: 0\n"
     ]
    }
   ],
   "source": [
    "def process(*a):\n",
    "    max =0\n",
    "    max_2 = 0\n",
    "\n",
    "    for i in range(len(a)):\n",
    "        if a[i]>max:\n",
    "            max_2 = max\n",
    "            max = a[i]\n",
    "        elif a[i] == max:\n",
    "            continue\n",
    "        elif a[i]>max_2:\n",
    "            max_2 = a[i]\n",
    "            \n",
    "    return max_2\n",
    "\n",
    "so_lon_nhi= process(-5,-2,-7,-5)\n",
    "print(f\"So lon nhi la: {so_lon_nhi}\")\n"
   ]
  },
  {
   "cell_type": "code",
   "execution_count": 44,
   "id": "862f864e",
   "metadata": {},
   "outputs": [
    {
     "name": "stdout",
     "output_type": "stream",
     "text": [
      "12\n"
     ]
    }
   ],
   "source": [
    "def solonnhi(*a):\n",
    "    max = None\n",
    "    max_2 = None\n",
    "    for i in range(len(a)):\n",
    "        if max == None or max < a[i]:\n",
    "            max_2 = max\n",
    "            max = a[i]\n",
    "        elif max != a[i] and (max_2 == None or a[i]>max_2):\n",
    "            max_2 = a[i]\n",
    "    return max_2\n",
    "\n",
    "print(solonnhi(12,12,12,12,15))"
   ]
  },
  {
   "cell_type": "code",
   "execution_count": null,
   "id": "b80a174c",
   "metadata": {},
   "outputs": [],
   "source": [
    "def tim_max(*a,thuhang=1):\n",
    "    pass"
   ]
  },
  {
   "cell_type": "code",
   "execution_count": null,
   "id": "53445b6a",
   "metadata": {},
   "outputs": [],
   "source": [
    "\"\" và null"
   ]
  },
  {
   "cell_type": "markdown",
   "id": "974d7da1",
   "metadata": {},
   "source": [
    "### Bài 5\n",
    "\n",
    "Nhập vào 2 cặp tọa độ tâm đường tròn và 2 bán kính R\n",
    "\n",
    "Hãy vẽ 2 hình tròn theo tọa độ và bán kính trên (tọa độ thứ nhất và bán kính thứ nhất là hình tròn thứ nhất, tọa độ thứ 2 với bán kính thứ 2 là hình tròn thứ hai)\n",
    "\n",
    "Viết hàm kiểm tra xem 2 hình tròn trên cắt nhau bao nhiêu điểm"
   ]
  },
  {
   "cell_type": "code",
   "execution_count": null,
   "id": "f7722021",
   "metadata": {},
   "outputs": [],
   "source": []
  },
  {
   "cell_type": "markdown",
   "id": "a2157de8",
   "metadata": {},
   "source": [
    "### Bài 6\n",
    "\n",
    "Nhập vào 2 tọa độ là 2 đỉnh của một hình chữ nhật\n",
    "\n",
    "Sau đó\n",
    "\n",
    "Nhập vào tọa độ tâm đường tròn và bán kính R\n",
    "\n",
    "Hãy vẽ hình hình chữ nhật và đường tròn trên\n",
    "\n",
    "Viết hàm kiểm tra xem đường tròn trên và hình chữ nhật cắt nhau tại bao nhiêu điểm"
   ]
  },
  {
   "cell_type": "code",
   "execution_count": null,
   "id": "e0d7b1a2",
   "metadata": {},
   "outputs": [],
   "source": []
  },
  {
   "cell_type": "markdown",
   "id": "d1491579",
   "metadata": {},
   "source": [
    "### Bài 7\n",
    "\n",
    "Viết hàm kiểm tra số nguyên tố\n",
    "\n",
    "Viết hàm kiểm tra số hoàn hảo\n",
    "\n",
    "Viết hàm kiểm tra số chính phương\n",
    "\n",
    "Viết hàm kiểm tra số Armstrong\n",
    "\n",
    "Nhập vào một chuỗi, hãy lọc và tìm ra những số ở trong chuỗi (2 chữ số liền nhau là một chuỗi)\n",
    "\n",
    "Ví dụ chuỗi: \"AB25SDc5DSjjh52\"\n",
    "\n",
    "Trong chuỗi này ta có 3 số: 25, 5 và 52\n",
    "\n",
    "Sau khi lọc số, dùng các hàm trên để kiểm tra và thực hiện như sau:\n",
    "\n",
    "Cho biến S\n",
    "\n",
    "- Nếu số đó là số nguyên tố, ta thực hiện S += số đó\n",
    "- Nếu số đó là số hoàn hảo, ta thực hiện S -= số đó\n",
    "- Nếu số đó là số chính phương, ta thực hiện S /= số đó\n",
    "- Nếu đó là số Armstrong ta cho S = 0\n",
    "\n",
    "Hãy tính và in S"
   ]
  },
  {
   "cell_type": "code",
   "execution_count": null,
   "id": "0b699e33",
   "metadata": {},
   "outputs": [
    {
     "name": "stdout",
     "output_type": "stream",
     "text": [
      "Nhập vào chuỗi:AB25SDc5DSjjh52\n"
     ]
    }
   ],
   "source": [
    "def snt(a):\n",
    "    if a < 2:\n",
    "        return False\n",
    "    for i in range(2,a//2+1):\n",
    "        if a % i == 0:\n",
    "            return False\n",
    "    return True\n",
    "\n",
    "def shh(a):\n",
    "    tong = 0\n",
    "    for uoc in range(1,a):\n",
    "        if a % uoc == 0:\n",
    "            tong += uoc\n",
    "        uoc += 1\n",
    "    if tong == a:\n",
    "        return True\n",
    "    return False\n",
    "\n",
    "def scp(a):\n",
    "    cana = a**0.5\n",
    "    if cana % 1 == 0:\n",
    "        return True\n",
    "    return False\n",
    "\n",
    "def Amr(a):\n",
    "    save_a = a\n",
    "    chuoi_a = str(a)\n",
    "    dodai = len(chuoi_a)\n",
    "    t = 0\n",
    "    while a != 1:\n",
    "        b = a%10\n",
    "        a = a//10\n",
    "        t += b**dodai\n",
    "        print(a)\n",
    "    a = save_a\n",
    "    if t == a:\n",
    "        return True\n",
    "    return False\n",
    "\n",
    "def main():\n",
    "    chuoi = input(\"Nhập vào chuỗi:\")\n",
    "    chuoi += \" \"\n",
    "    S = 0\n",
    "    chuoi_tam = \"\"\n",
    "    for i in chuoi:\n",
    "        if i.isnumeric():\n",
    "            chuoi_tam += i\n",
    "        else:\n",
    "            if chuoi_tam != \"\":\n",
    "                a = int(chuoi_tam)\n",
    "                if snt(a):\n",
    "                    S += a\n",
    "                elif shh(a):\n",
    "                    S -= a\n",
    "                elif scp(a):\n",
    "                    S /= a\n",
    "                elif Amr(a):\n",
    "                    S = 0\n",
    "                chuoi_tam = \"\"\n",
    "    print(S)\n",
    "    \n",
    "main()"
   ]
  }
 ],
 "metadata": {
  "kernelspec": {
   "display_name": "Python 3 (ipykernel)",
   "language": "python",
   "name": "python3"
  },
  "language_info": {
   "codemirror_mode": {
    "name": "ipython",
    "version": 3
   },
   "file_extension": ".py",
   "mimetype": "text/x-python",
   "name": "python",
   "nbconvert_exporter": "python",
   "pygments_lexer": "ipython3",
   "version": "3.9.12"
  }
 },
 "nbformat": 4,
 "nbformat_minor": 5
}
