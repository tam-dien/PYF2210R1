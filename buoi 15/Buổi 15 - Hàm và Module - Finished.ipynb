{
 "cells": [
  {
   "cell_type": "markdown",
   "id": "73456e5e",
   "metadata": {},
   "source": [
    "# Hàm\n",
    "\n",
    "### Hàm\n",
    "\n",
    "Cú pháp:\n",
    "\n",
    "<code>def \\<tên hàm\\>(\\<tham số\\>):\n",
    "    //Nội dung hàm<code>\n",
    "\n",
    "Gọi hàm:\n",
    "    \n",
    "<code>\\<tên hàm\\>(\\<giá trị đầu vào\\>)<code>\n",
    "\n",
    "Ví dụ:\n",
    "\n",
    "Hãy viết 1 hàm số để tính tổng 2 số đầu vào và in nó ra màn hình"
   ]
  },
  {
   "cell_type": "code",
   "execution_count": 4,
   "id": "af5b9f6d",
   "metadata": {},
   "outputs": [
    {
     "name": "stdout",
     "output_type": "stream",
     "text": [
      "hello\n",
      "hello\n",
      "hello\n",
      "hello\n",
      "hello\n",
      "hello\n",
      "hello\n",
      "hello\n"
     ]
    }
   ],
   "source": [
    "def in_2_lan_chu_hello():\n",
    "    print('hello')\n",
    "    print('hello')\n",
    "    \n",
    "in_2_lan_chu_hello()\n",
    "in_2_lan_chu_hello()\n",
    "in_2_lan_chu_hello()\n",
    "in_2_lan_chu_hello()"
   ]
  },
  {
   "cell_type": "code",
   "execution_count": 7,
   "id": "45efd413",
   "metadata": {},
   "outputs": [
    {
     "name": "stdout",
     "output_type": "stream",
     "text": [
      "8\n",
      "8\n",
      "8\n"
     ]
    }
   ],
   "source": [
    "def tinh_tong():\n",
    "    tong = 3 + 5\n",
    "    print(tong)\n",
    "    \n",
    "tinh_tong()\n",
    "tinh_tong()\n",
    "tinh_tong()"
   ]
  },
  {
   "cell_type": "code",
   "execution_count": 11,
   "id": "3bf43b6c",
   "metadata": {
    "scrolled": true
   },
   "outputs": [
    {
     "name": "stdout",
     "output_type": "stream",
     "text": [
      "8\n",
      "19\n",
      "27\n"
     ]
    }
   ],
   "source": [
    "def tinh_tong(a,b):\n",
    "    tong = a + b\n",
    "    print(tong)\n",
    "    \n",
    "tinh_tong(3,5)\n",
    "tinh_tong(9,10)\n",
    "tinh_tong(12,15)"
   ]
  },
  {
   "cell_type": "code",
   "execution_count": 13,
   "id": "8d8b0b4e",
   "metadata": {},
   "outputs": [
    {
     "name": "stdout",
     "output_type": "stream",
     "text": [
      "-1\n",
      "-3\n"
     ]
    }
   ],
   "source": [
    "def tinh_hieu(a,b):\n",
    "    hieu = a-b\n",
    "    print(hieu)\n",
    "    \n",
    "tinh_hieu(9,10)\n",
    "tinh_hieu(12,15)"
   ]
  },
  {
   "cell_type": "code",
   "execution_count": 14,
   "id": "84a5fa14",
   "metadata": {},
   "outputs": [
    {
     "name": "stdout",
     "output_type": "stream",
     "text": [
      "ab\n"
     ]
    }
   ],
   "source": [
    "def tinh_tong(a,b):\n",
    "    tong = a + b\n",
    "    print(tong)\n",
    "    \n",
    "tinh_tong(\"a\",\"b\")"
   ]
  },
  {
   "cell_type": "code",
   "execution_count": 15,
   "id": "62388507",
   "metadata": {},
   "outputs": [
    {
     "ename": "TypeError",
     "evalue": "can only concatenate str (not \"int\") to str",
     "output_type": "error",
     "traceback": [
      "\u001b[1;31m---------------------------------------------------------------------------\u001b[0m",
      "\u001b[1;31mTypeError\u001b[0m                                 Traceback (most recent call last)",
      "Cell \u001b[1;32mIn [15], line 5\u001b[0m\n\u001b[0;32m      2\u001b[0m     tong \u001b[38;5;241m=\u001b[39m a \u001b[38;5;241m+\u001b[39m b\n\u001b[0;32m      3\u001b[0m     \u001b[38;5;28mprint\u001b[39m(tong)\n\u001b[1;32m----> 5\u001b[0m \u001b[43mtinh_tong\u001b[49m\u001b[43m(\u001b[49m\u001b[38;5;124;43m\"\u001b[39;49m\u001b[38;5;124;43ma\u001b[39;49m\u001b[38;5;124;43m\"\u001b[39;49m\u001b[43m,\u001b[49m\u001b[38;5;241;43m5\u001b[39;49m\u001b[43m)\u001b[49m\n",
      "Cell \u001b[1;32mIn [15], line 2\u001b[0m, in \u001b[0;36mtinh_tong\u001b[1;34m(a, b)\u001b[0m\n\u001b[0;32m      1\u001b[0m \u001b[38;5;28;01mdef\u001b[39;00m \u001b[38;5;21mtinh_tong\u001b[39m(a,b):\n\u001b[1;32m----> 2\u001b[0m     tong \u001b[38;5;241m=\u001b[39m \u001b[43ma\u001b[49m\u001b[43m \u001b[49m\u001b[38;5;241;43m+\u001b[39;49m\u001b[43m \u001b[49m\u001b[43mb\u001b[49m\n\u001b[0;32m      3\u001b[0m     \u001b[38;5;28mprint\u001b[39m(tong)\n",
      "\u001b[1;31mTypeError\u001b[0m: can only concatenate str (not \"int\") to str"
     ]
    }
   ],
   "source": [
    "def tinh_tong(a,b):\n",
    "    tong = a + b\n",
    "    print(tong)\n",
    "    \n",
    "tinh_tong(\"a\",5)"
   ]
  },
  {
   "cell_type": "code",
   "execution_count": 17,
   "id": "b5dc29e9",
   "metadata": {},
   "outputs": [
    {
     "name": "stdout",
     "output_type": "stream",
     "text": [
      "3.55\n"
     ]
    }
   ],
   "source": [
    "def cong_chuoi(a,b):\n",
    "    a = str(a)\n",
    "    b = str(b)\n",
    "    kq = a + b\n",
    "    print(kq)\n",
    "    \n",
    "cong_chuoi(3.5,5)"
   ]
  },
  {
   "cell_type": "code",
   "execution_count": 18,
   "id": "667d21a8",
   "metadata": {},
   "outputs": [
    {
     "name": "stdout",
     "output_type": "stream",
     "text": [
      "5 7\n"
     ]
    }
   ],
   "source": [
    "print(5,7)"
   ]
  },
  {
   "cell_type": "code",
   "execution_count": 21,
   "id": "96bb8fa5",
   "metadata": {},
   "outputs": [
    {
     "name": "stdout",
     "output_type": "stream",
     "text": [
      "Min: 2\n",
      "Max: 54\n"
     ]
    }
   ],
   "source": [
    "### viết hàm có 3 tham số đầu vào là a, b, c\n",
    "### tìm và in ra giá trị lớn nhất và giá trị nhỏ nhất của 3 số đưa vào\n",
    "\n",
    "def ham_gi_do(a,b,c):\n",
    "    if a > b:\n",
    "        a, b = b, a\n",
    "    if a > c:\n",
    "        a, c = c, a\n",
    "    if b > c:\n",
    "        b, c = c, b\n",
    "    print(\"Min:\",a)\n",
    "    print(\"Max:\",c)\n",
    "    \n",
    "ham_gi_do(54,2,4)"
   ]
  },
  {
   "cell_type": "markdown",
   "id": "a7c39f47",
   "metadata": {},
   "source": [
    "### Giá trị trả về của hàm\n",
    "\n",
    "# return\n",
    "\n",
    "Cú pháp:\n",
    "\n",
    "`return <giá trị trả về>`\n",
    "\n",
    "##### Lưu ý: Sau khi thực hiện lệnh return, chương trình sẽ thoát khỏi hàm ngay lập tức (những lệnh sau đó không được thực hiện)\n",
    "\n",
    "Ví dụ:\n",
    "\n",
    "Hãy viết 1 hàm trả về giá trị trung bình của 2 số bất kỳ"
   ]
  },
  {
   "cell_type": "code",
   "execution_count": 24,
   "id": "0b527b95",
   "metadata": {},
   "outputs": [],
   "source": [
    "a = \"10\"\n",
    "b = int(a)"
   ]
  },
  {
   "cell_type": "code",
   "execution_count": 31,
   "id": "d2383cc5",
   "metadata": {},
   "outputs": [
    {
     "name": "stdout",
     "output_type": "stream",
     "text": [
      "15\n",
      "28\n"
     ]
    }
   ],
   "source": [
    "def tinh_tong(a,b):\n",
    "    tong = a + b\n",
    "    return tong\n",
    "\n",
    "a = tinh_tong(7,8)\n",
    "b = tinh_tong(10,18)\n",
    "tinh_tong(35,30)\n",
    "print(a)\n",
    "print(b)"
   ]
  },
  {
   "cell_type": "code",
   "execution_count": 29,
   "id": "c7a5659e",
   "metadata": {},
   "outputs": [
    {
     "name": "stdout",
     "output_type": "stream",
     "text": [
      "15\n",
      "None\n"
     ]
    }
   ],
   "source": [
    "def tinh_tong(a,b):\n",
    "    tong = a + b\n",
    "    print(tong)\n",
    "    \n",
    "a = tinh_tong(7,8)\n",
    "print(a)"
   ]
  },
  {
   "cell_type": "code",
   "execution_count": 32,
   "id": "3c298f8a",
   "metadata": {},
   "outputs": [
    {
     "name": "stdout",
     "output_type": "stream",
     "text": [
      "12\n"
     ]
    }
   ],
   "source": [
    "def tinh_tong(a,b):\n",
    "    tong = a + b\n",
    "    return tong\n",
    "\n",
    "c = tinh_tong(5,7)\n",
    "d = tinh_tong(c,10)\n",
    "print(c)"
   ]
  },
  {
   "cell_type": "code",
   "execution_count": 37,
   "id": "aa396e99",
   "metadata": {},
   "outputs": [
    {
     "ename": "NameError",
     "evalue": "name 'tong' is not defined",
     "output_type": "error",
     "traceback": [
      "\u001b[1;31m---------------------------------------------------------------------------\u001b[0m",
      "\u001b[1;31mNameError\u001b[0m                                 Traceback (most recent call last)",
      "Cell \u001b[1;32mIn [37], line 8\u001b[0m\n\u001b[0;32m      4\u001b[0m     \u001b[38;5;28;01mreturn\u001b[39;00m tong\n\u001b[0;32m      6\u001b[0m tong_3_5 \u001b[38;5;241m=\u001b[39m tinh_tong(\u001b[38;5;241m3\u001b[39m,\u001b[38;5;241m5\u001b[39m)\n\u001b[1;32m----> 8\u001b[0m a \u001b[38;5;241m=\u001b[39m \u001b[38;5;28mprint\u001b[39m(\u001b[43mtong\u001b[49m)\n",
      "\u001b[1;31mNameError\u001b[0m: name 'tong' is not defined"
     ]
    }
   ],
   "source": [
    "def tinh_tong(a,b):\n",
    "    tong = a + b\n",
    "    ### tong là biến được khởi tạo bên trong hàm\n",
    "    return tong\n",
    "\n",
    "tong_3_5 = tinh_tong(3,5)\n",
    "\n",
    "a = print(tong)"
   ]
  },
  {
   "cell_type": "code",
   "execution_count": 40,
   "id": "3e8995b6",
   "metadata": {},
   "outputs": [
    {
     "name": "stdout",
     "output_type": "stream",
     "text": [
      "7 là số dương\n",
      "-10 là không dương\n"
     ]
    }
   ],
   "source": [
    "### viết hàm có 1 tham số đầu vào kiểm tra xem, số được đưa vào có phải là số dương hay không, nếu có thì trả về True\n",
    "### nếu không thì trả về False\n",
    "\n",
    "def check_duong(a):\n",
    "    if a > 0:\n",
    "        return True\n",
    "    else:\n",
    "        return False\n",
    "    \n",
    "if check_duong(7):\n",
    "    print(\"7 là số dương\")\n",
    "else:\n",
    "    print(\"7 là số không dương\")\n",
    "    \n",
    "if check_duong(-10):\n",
    "    print(\"-10 là số dương\")\n",
    "else:\n",
    "    print(\"-10 là không dương\")"
   ]
  },
  {
   "cell_type": "code",
   "execution_count": null,
   "id": "7872c9c1",
   "metadata": {},
   "outputs": [],
   "source": [
    "def check_duong(a):\n",
    "    b = a > 0\n",
    "    return b\n"
   ]
  },
  {
   "cell_type": "code",
   "execution_count": null,
   "id": "ffd3066b",
   "metadata": {},
   "outputs": [],
   "source": [
    "## một số hàm trả về kiểu boolean như: isnumeric(), isupper(), islower(),..."
   ]
  },
  {
   "cell_type": "code",
   "execution_count": 43,
   "id": "a4f741c0",
   "metadata": {},
   "outputs": [
    {
     "name": "stdout",
     "output_type": "stream",
     "text": [
      "hello\n",
      "hello\n",
      "7 17\n"
     ]
    }
   ],
   "source": [
    "def ham_gi_do(a):\n",
    "    print('hello')\n",
    "    return a\n",
    "    print('hi')\n",
    "\n",
    "b = ham_gi_do(7)\n",
    "c = ham_gi_do(17)\n",
    "print(b,c)"
   ]
  },
  {
   "cell_type": "code",
   "execution_count": 47,
   "id": "a2f3e076",
   "metadata": {},
   "outputs": [
    {
     "name": "stdout",
     "output_type": "stream",
     "text": [
      "True\n",
      "True\n",
      "False\n"
     ]
    }
   ],
   "source": [
    "def check_duong(a):\n",
    "    if a > 0:\n",
    "        return True\n",
    "    return False\n",
    "\n",
    "print(check_duong(7))\n",
    "print(check_duong(10))\n",
    "print(check_duong(-15))"
   ]
  },
  {
   "cell_type": "code",
   "execution_count": 52,
   "id": "faade539",
   "metadata": {},
   "outputs": [
    {
     "name": "stdout",
     "output_type": "stream",
     "text": [
      "26\n"
     ]
    }
   ],
   "source": [
    "def ham_gi_do():\n",
    "    tong = 0\n",
    "    for i in range(100):\n",
    "        for j in range(50):\n",
    "            tong += 1\n",
    "            if j == 25:\n",
    "                return tong\n",
    "            \n",
    "a = ham_gi_do()\n",
    "print(a)"
   ]
  },
  {
   "cell_type": "code",
   "execution_count": 54,
   "id": "9087acb6",
   "metadata": {},
   "outputs": [
    {
     "ename": "NameError",
     "evalue": "name 'tong' is not defined",
     "output_type": "error",
     "traceback": [
      "\u001b[1;31m---------------------------------------------------------------------------\u001b[0m",
      "\u001b[1;31mNameError\u001b[0m                                 Traceback (most recent call last)",
      "Cell \u001b[1;32mIn [54], line 8\u001b[0m\n\u001b[0;32m      5\u001b[0m     \u001b[38;5;28mprint\u001b[39m(tong)\n\u001b[0;32m      7\u001b[0m test_ham()\n\u001b[1;32m----> 8\u001b[0m \u001b[43mtest_ham_2\u001b[49m\u001b[43m(\u001b[49m\u001b[43m)\u001b[49m\n",
      "Cell \u001b[1;32mIn [54], line 5\u001b[0m, in \u001b[0;36mtest_ham_2\u001b[1;34m()\u001b[0m\n\u001b[0;32m      4\u001b[0m \u001b[38;5;28;01mdef\u001b[39;00m \u001b[38;5;21mtest_ham_2\u001b[39m():\n\u001b[1;32m----> 5\u001b[0m     \u001b[38;5;28mprint\u001b[39m(\u001b[43mtong\u001b[49m)\n",
      "\u001b[1;31mNameError\u001b[0m: name 'tong' is not defined"
     ]
    }
   ],
   "source": [
    "def test_ham():\n",
    "    tong = 0\n",
    "    \n",
    "def test_ham_2():\n",
    "    print(tong)\n",
    "\n",
    "test_ham_2()"
   ]
  },
  {
   "cell_type": "markdown",
   "id": "1d7f8db0",
   "metadata": {},
   "source": [
    "### Bài tập"
   ]
  },
  {
   "cell_type": "markdown",
   "id": "75fb488b",
   "metadata": {},
   "source": [
    "Viết hàm kiểm tra số nguyên tố"
   ]
  },
  {
   "cell_type": "code",
   "execution_count": null,
   "id": "63701bd7",
   "metadata": {},
   "outputs": [],
   "source": [
    "def songuyento(a):\n",
    "    ### nếu a là số nguyên tố trả về True\n",
    "    ### nếu a không là số nguyên tố trả về False\n",
    "    for i in range(2,a//2+1):\n",
    "        if a % i == 0:\n",
    "            return False\n",
    "    return True"
   ]
  },
  {
   "cell_type": "code",
   "execution_count": 59,
   "id": "cdb358c6",
   "metadata": {},
   "outputs": [
    {
     "name": "stdout",
     "output_type": "stream",
     "text": [
      "[2, 3]\n"
     ]
    }
   ],
   "source": [
    "a = 4\n",
    "print(list(range(2,a)))"
   ]
  },
  {
   "cell_type": "markdown",
   "id": "221103cf",
   "metadata": {},
   "source": [
    "Nhập vào 3 điểm toán, lý, hóa\n",
    "\n",
    "Hãy viết hàm in điểm trung bung bình rồi tính điểm trung bình của toán lý, toán hóa, lý hóa và toán lý hóa"
   ]
  },
  {
   "cell_type": "code",
   "execution_count": 63,
   "id": "1ba1d8ae",
   "metadata": {},
   "outputs": [
    {
     "name": "stdout",
     "output_type": "stream",
     "text": [
      "Nhập toán:9\n",
      "Nhập lý:10\n",
      "Nhập hóa:8\n",
      "Toán lý hóa: 9.0\n",
      "Toán lý: 9.5\n",
      "Lý hóa: 9.0\n",
      "Toán hóa: 8.5\n"
     ]
    }
   ],
   "source": [
    "### viết hàm thì kết quả trả phải được trả về, không in ra\n",
    "\n",
    "def tinh_tb_3_mon(a,b,c):\n",
    "    return (a+b+c)/3\n",
    "\n",
    "def tinh_tb_2_mon(a,b):\n",
    "    return (a+b)/2\n",
    "\n",
    "t = float(input(\"Nhập toán:\"))\n",
    "l = float(input(\"Nhập lý:\"))\n",
    "h = float(input(\"Nhập hóa:\"))\n",
    "\n",
    "print(\"Toán lý hóa:\",tinh_tb_3_mon(t,l,h))\n",
    "print(\"Toán lý:\",tinh_tb_2_mon(t,l))\n",
    "print(\"Lý hóa:\",tinh_tb_2_mon(l,h))\n",
    "print(\"Toán hóa:\",tinh_tb_2_mon(t,h))"
   ]
  },
  {
   "cell_type": "markdown",
   "id": "50f43307",
   "metadata": {},
   "source": [
    "Viết hàm đếm số lượng từ của một chuỗi đưa vào"
   ]
  },
  {
   "cell_type": "code",
   "execution_count": 4,
   "id": "be785b29",
   "metadata": {},
   "outputs": [
    {
     "name": "stdout",
     "output_type": "stream",
     "text": [
      "4\n"
     ]
    }
   ],
   "source": [
    "### không dùng lệnh count\n",
    "### chuỗi sẽ bao gồm ký tự a - z và dấu chấm, dấu phẩy, khoảng trắng\n",
    "### chuỗi có thể là một chuỗi không đúng định dạng văn bản\n",
    "### ví dụ: \"xin chào   ,    các bạn\" ~~> đếm ra được 4 từ\n",
    "\n",
    "def dem_so_luong_tu(chuoi):\n",
    "    chuoi += \" \"\n",
    "    chuoi_tam = \"\"\n",
    "    dem = 0\n",
    "    for i in chuoi:\n",
    "        if i != \" \" and i != \",\" and i != \".\":\n",
    "            chuoi_tam += i\n",
    "        else:\n",
    "            if chuoi_tam != \"\":\n",
    "#                 print(chuoi_tam)\n",
    "                dem += 1\n",
    "                chuoi_tam = \"\"\n",
    "    return dem\n",
    "\n",
    "print(dem_so_luong_tu(\"xin chào   ,    các bạn\"))"
   ]
  },
  {
   "cell_type": "markdown",
   "id": "b4adef40",
   "metadata": {},
   "source": [
    "Viết một hàm vẽ hình tròn, một hàm vẽ hình vuông và một hàm vẽ hình tam giác đều (giá trị đầu vào là a)\n",
    "\n",
    "Tất cả hàm này, bắt đầu từ 1 vị trí, sau khi vẽ ra, con trỏ sẽ tiến tới vị trí tiếp theo, cách vì đầu một khoảng a + 10 theo chiều x từ trái sang"
   ]
  },
  {
   "cell_type": "code",
   "execution_count": 1,
   "id": "e405d1d4",
   "metadata": {},
   "outputs": [],
   "source": [
    "import turtle\n",
    "\n",
    "t = turtle.Turtle()\n",
    "\n",
    "def hinhtron(a):\n",
    "    t.penup()\n",
    "    t.fd(a/2)\n",
    "    t.pendown()\n",
    "    t.circle(a/2)\n",
    "    t.penup()\n",
    "    t.fd(a/2+10)\n",
    "    t.pendown()\n",
    "    \n",
    "def hinhvuong(a):\n",
    "    for i in range(4):\n",
    "        t.fd(a)\n",
    "        t.lt(90)\n",
    "    t.penup()\n",
    "    t.fd(a+10)\n",
    "    t.pendown()\n",
    "    \n",
    "def hinhtamgiac(a):\n",
    "    for i in range(3):\n",
    "        t.fd(a)\n",
    "        t.lt(120)\n",
    "    t.penup()\n",
    "    t.fd(a+10)\n",
    "    t.pendown()\n",
    "    \n",
    "hinhtron(60)\n",
    "hinhvuong(60)\n",
    "hinhtamgiac(40)\n",
    "hinhtron(30)\n",
    "hinhvuong(20)"
   ]
  }
 ],
 "metadata": {
  "kernelspec": {
   "display_name": "Python 3 (ipykernel)",
   "language": "python",
   "name": "python3"
  },
  "language_info": {
   "codemirror_mode": {
    "name": "ipython",
    "version": 3
   },
   "file_extension": ".py",
   "mimetype": "text/x-python",
   "name": "python",
   "nbconvert_exporter": "python",
   "pygments_lexer": "ipython3",
   "version": "3.9.12"
  }
 },
 "nbformat": 4,
 "nbformat_minor": 5
}
