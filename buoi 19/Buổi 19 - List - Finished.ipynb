{
 "cells": [
  {
   "cell_type": "markdown",
   "id": "fad0ff18",
   "metadata": {},
   "source": [
    "# List\n",
    "\n",
    "### Đặt vấn đề\n",
    "\n",
    "Nếu như ta có một lượng dữ liệu không biết trước được số lượng cần lưu vào biến, ta không thể lưu bằng cách thông thường\n",
    "\n",
    "Lấy ví dụ:\n",
    "\n",
    "Nhập vào số n, sau đó nhập tiếp n số và lưu trữ n số đó vào biến\n",
    "\n",
    "Vậy ta hoàn toàn không biết được người dùng sẽ nhập bao nhiêu số để lưu trữ\n",
    "\n",
    "Lúc này ta cần đến List\n",
    "\n",
    "List giúp chúng ta lưu nhiều giá trị cùng 1 lúc, nhưng chỉ cần đặt tên cho nó lần\n",
    "\n",
    "##### Tài liệu tham khảo: https://www.w3schools.com/python/python_lists.asp"
   ]
  },
  {
   "cell_type": "markdown",
   "id": "4ca9e91e",
   "metadata": {},
   "source": [
    "### Cách thức khai báo List\n",
    "\n",
    "Cú pháp:\n",
    "\n",
    "`<tên list> = []`\n",
    "\n",
    "##### List được khai báo bằng 2 dấu ngoặc vuông\n",
    "\n",
    "<b> Ví dụ 1: </b>\n",
    "\n",
    "`a = []`\n",
    "\n",
    "a là một list, không có bất kỳ phần tử nào trong đó\n",
    "\n",
    "<b> Ví dụ 2: </b>\n",
    "\n",
    "`b = [1,2,3]`\n",
    "\n",
    "##### Các phần tử trong list được khai báo, mỗi phần tử cách nhau một dấu phẩy\n",
    "\n",
    "b là một list có 3 phần tử\n",
    "\n",
    "<b> Ví dụ 3: </b>\n",
    "\n",
    "`c = [\"abc\",5,1.5]`\n",
    "\n",
    "##### Các phần tử trong list có thể có những kiểu dữ liệu khác nhau\n",
    "\n",
    "c là một list có 3 phần tử, phần tử thứ nhất có kiểu dữ liệu là chuỗi, phần tử thứ hai có kiểu dữ liệu là số nguyên và phần tử cuối cùng có kiểu dữ liệu là số thực\n",
    "\n",
    "<b> Hãy khai báo một list xong rồi in list đó lên màn hình </b>"
   ]
  },
  {
   "cell_type": "code",
   "execution_count": 1,
   "id": "c2f37351",
   "metadata": {},
   "outputs": [
    {
     "name": "stdout",
     "output_type": "stream",
     "text": [
      "[1, 2, 3]\n"
     ]
    }
   ],
   "source": [
    "L_a = [1,2,3]\n",
    "print(a)"
   ]
  },
  {
   "cell_type": "code",
   "execution_count": 2,
   "id": "93ddeb00",
   "metadata": {},
   "outputs": [
    {
     "name": "stdout",
     "output_type": "stream",
     "text": [
      "['xin chào', 3, 'các bạn', 5]\n"
     ]
    }
   ],
   "source": [
    "L_a = [\"xin chào\",3,\"các bạn\",5]\n",
    "print(L_a)"
   ]
  },
  {
   "cell_type": "code",
   "execution_count": null,
   "id": "ad45c848",
   "metadata": {},
   "outputs": [],
   "source": [
    "L_a = [\"xin chào,các bạn\",\"hello',mọi người,'\"]"
   ]
  },
  {
   "cell_type": "markdown",
   "id": "be8e19b0",
   "metadata": {},
   "source": [
    "### Truy xuất phần tử trong List\n",
    "\n",
    "Giống như chuỗi, các phần tử trong list được truy xuất theo cú pháp:\n",
    "\n",
    "`<tên list>[<vị trí của phần tử>]`\n",
    "\n",
    "<b> Ví dụ 1: </b>\n",
    "\n",
    "`a = [1,4,6]\n",
    "print(a[1])`\n",
    "\n",
    "Màn hình sẽ in ra 4\n",
    "\n",
    "<b> Hãy khai báo một list có một chuỗi và một số rồi in chuỗi trong list đó ra màn hình </b>"
   ]
  },
  {
   "cell_type": "code",
   "execution_count": 8,
   "id": "bb3f9141",
   "metadata": {},
   "outputs": [
    {
     "name": "stdout",
     "output_type": "stream",
     "text": [
      "xin chào,các bạn\n",
      "hello',mọi người,'\n"
     ]
    },
    {
     "ename": "IndexError",
     "evalue": "list index out of range",
     "output_type": "error",
     "traceback": [
      "\u001b[1;31m---------------------------------------------------------------------------\u001b[0m",
      "\u001b[1;31mIndexError\u001b[0m                                Traceback (most recent call last)",
      "Cell \u001b[1;32mIn [8], line 4\u001b[0m\n\u001b[0;32m      2\u001b[0m \u001b[38;5;28mprint\u001b[39m(L_a[\u001b[38;5;241m0\u001b[39m])\n\u001b[0;32m      3\u001b[0m \u001b[38;5;28mprint\u001b[39m(L_a[\u001b[38;5;241m1\u001b[39m])\n\u001b[1;32m----> 4\u001b[0m \u001b[38;5;28mprint\u001b[39m(\u001b[43mL_a\u001b[49m\u001b[43m[\u001b[49m\u001b[38;5;241;43m2\u001b[39;49m\u001b[43m]\u001b[49m)\n",
      "\u001b[1;31mIndexError\u001b[0m: list index out of range"
     ]
    }
   ],
   "source": [
    "L_a = [\"xin chào,các bạn\",\"hello',mọi người,'\"]\n",
    "print(L_a[0])\n",
    "print(L_a[1])\n",
    "print(L_a[2])"
   ]
  },
  {
   "cell_type": "code",
   "execution_count": 7,
   "id": "0748aeb1",
   "metadata": {},
   "outputs": [
    {
     "name": "stdout",
     "output_type": "stream",
     "text": [
      "hello',mọi người,'\n",
      "xin chào,các bạn\n"
     ]
    },
    {
     "ename": "IndexError",
     "evalue": "list index out of range",
     "output_type": "error",
     "traceback": [
      "\u001b[1;31m---------------------------------------------------------------------------\u001b[0m",
      "\u001b[1;31mIndexError\u001b[0m                                Traceback (most recent call last)",
      "Cell \u001b[1;32mIn [7], line 4\u001b[0m\n\u001b[0;32m      2\u001b[0m \u001b[38;5;28mprint\u001b[39m(L_a[\u001b[38;5;241m-\u001b[39m\u001b[38;5;241m1\u001b[39m])\n\u001b[0;32m      3\u001b[0m \u001b[38;5;28mprint\u001b[39m(L_a[\u001b[38;5;241m-\u001b[39m\u001b[38;5;241m2\u001b[39m])\n\u001b[1;32m----> 4\u001b[0m \u001b[38;5;28mprint\u001b[39m(\u001b[43mL_a\u001b[49m\u001b[43m[\u001b[49m\u001b[38;5;241;43m-\u001b[39;49m\u001b[38;5;241;43m3\u001b[39;49m\u001b[43m]\u001b[49m)\n",
      "\u001b[1;31mIndexError\u001b[0m: list index out of range"
     ]
    }
   ],
   "source": [
    "L_a = [\"xin chào,các bạn\",\"hello',mọi người,'\"]\n",
    "print(L_a[-1])\n",
    "print(L_a[-2])\n",
    "print(L_a[-3])"
   ]
  },
  {
   "cell_type": "code",
   "execution_count": null,
   "id": "5d9f1d8e",
   "metadata": {},
   "outputs": [],
   "source": [
    "L_a = [\"xin chào,các bạn\",5,10,\"hello',mọi người,'\",15.2,17]\n",
    "print(L_a[3])"
   ]
  },
  {
   "cell_type": "code",
   "execution_count": 9,
   "id": "c2c2e3bc",
   "metadata": {},
   "outputs": [
    {
     "name": "stdout",
     "output_type": "stream",
     "text": [
      "10\n"
     ]
    }
   ],
   "source": [
    "L_a = [\"xin chào,các bạn\",5,10,\"hello',mọi người,'\",15.2,17]\n",
    "print(L_a[-4])"
   ]
  },
  {
   "cell_type": "code",
   "execution_count": 10,
   "id": "ed7b7b49",
   "metadata": {},
   "outputs": [
    {
     "name": "stdout",
     "output_type": "stream",
     "text": [
      "l\n"
     ]
    }
   ],
   "source": [
    "L_a = [\"xin chào,các bạn\",5,10,\"hello',mọi người,'\",15.2,17]\n",
    "print(L_a[-3][3])"
   ]
  },
  {
   "cell_type": "code",
   "execution_count": 2,
   "id": "06bc81af",
   "metadata": {},
   "outputs": [
    {
     "name": "stdout",
     "output_type": "stream",
     "text": [
      "Nhập vào n:2\n",
      "Nhập vào số:3\n",
      "Nhập vào số:4\n",
      "[3, 4]\n"
     ]
    }
   ],
   "source": [
    "## Nhập vào số n, sau đó nhập tiếp n số và lưu trữ n số đó vào biến\n",
    "\n",
    "# Vậy ta hoàn toàn không biết được người dùng sẽ nhập bao nhiêu số để lưu trữ\n",
    "\n",
    "n = int(input(\"Nhập vào n:\"))\n",
    "L_a = []\n",
    "\n",
    "for i in range(n):\n",
    "    a = int(input(\"Nhập vào số:\"))\n",
    "    L_a.append(a)\n",
    "    \n",
    "print(L_a)"
   ]
  },
  {
   "cell_type": "markdown",
   "id": "ad61e236",
   "metadata": {},
   "source": [
    "### Thêm phần tử vào List\n",
    "\n",
    "Cú pháp:\n",
    "\n",
    "`<tên list>.append()`\n",
    "\n",
    "<b>Ví dụ:</b>\n",
    "\n",
    "`a = []\n",
    "a.append(5)`\n",
    "\n",
    "a sẽ có 1 phần tử là 5\n",
    "\n",
    "<b> Hãy khai báo một list rỗng, rồi thêm 2 phần tử bất kỳ vào list đó, sau đó in list đó ra</b>"
   ]
  },
  {
   "cell_type": "code",
   "execution_count": 11,
   "id": "5823ddca",
   "metadata": {},
   "outputs": [
    {
     "name": "stdout",
     "output_type": "stream",
     "text": [
      "['xin chào,các bạn', 5, 10, \"hello',mọi người,'\", 15.2, 17, 15]\n"
     ]
    }
   ],
   "source": [
    "L_a = [\"xin chào,các bạn\",5,10,\"hello',mọi người,'\",15.2,17]\n",
    "L_a.append(15)\n",
    "print(L_a)"
   ]
  },
  {
   "cell_type": "code",
   "execution_count": 12,
   "id": "deb00729",
   "metadata": {},
   "outputs": [
    {
     "name": "stdout",
     "output_type": "stream",
     "text": [
      "17\n",
      "15\n"
     ]
    }
   ],
   "source": [
    "L_a = [\"xin chào,các bạn\",5,10,\"hello',mọi người,'\",15.2,17]\n",
    "print(L_a[-1])\n",
    "L_a.append(15)\n",
    "print(L_a[-1])"
   ]
  },
  {
   "cell_type": "code",
   "execution_count": 13,
   "id": "c54ab603",
   "metadata": {},
   "outputs": [
    {
     "name": "stdout",
     "output_type": "stream",
     "text": [
      "15.2\n",
      "15.2\n"
     ]
    }
   ],
   "source": [
    "L_a = [\"xin chào,các bạn\",5,10,\"hello',mọi người,'\",15.2,17]\n",
    "print(L_a[4])\n",
    "L_a.append(15)\n",
    "print(L_a[4])"
   ]
  },
  {
   "cell_type": "code",
   "execution_count": 15,
   "id": "e644c789",
   "metadata": {},
   "outputs": [
    {
     "name": "stdout",
     "output_type": "stream",
     "text": [
      "['xin chào,các bạn', 2, 5, 10, \"hello',mọi người,'\", 15.2, 17]\n"
     ]
    }
   ],
   "source": [
    "L_a = [\"xin chào,các bạn\",5,10,\"hello',mọi người,'\",15.2,17]\n",
    "L_a.insert(1,2) ## insert(vị trí,giá trị)\n",
    "print(L_a)"
   ]
  },
  {
   "cell_type": "code",
   "execution_count": 19,
   "id": "e4bd56d9",
   "metadata": {},
   "outputs": [
    {
     "name": "stdout",
     "output_type": "stream",
     "text": [
      "Nhap so n: 3\n",
      "Nhap so thu 1:7\n",
      "Nhap so thu 2:9\n",
      "Nhap so thu 3:10\n",
      "[7, 9, 10]\n"
     ]
    }
   ],
   "source": [
    "n = int(input(\"Nhap so n: \"))\n",
    "\n",
    "L_n = []\n",
    "\n",
    "for i in range(0,n):\n",
    "    so = int(input(\"Nhap so thu \" + str(i+1) + \":\"))\n",
    "    L_n.append(so)\n",
    "    \n",
    "print(L_n)"
   ]
  },
  {
   "cell_type": "markdown",
   "id": "8c92d3d3",
   "metadata": {},
   "source": [
    "### Thay đổi giá trị của List\n",
    "\n",
    "Cú pháp:\n",
    "\n",
    "`<tên list>[<vị trí của phần tử>] = <giá trị mới>`\n",
    "\n",
    "<b> Hãy khai báo một list bất kỳ, rồi thay đổi 1 phần tử trong nó, sau đó in list đó ra</b>"
   ]
  },
  {
   "cell_type": "code",
   "execution_count": 20,
   "id": "13c61075",
   "metadata": {},
   "outputs": [
    {
     "name": "stdout",
     "output_type": "stream",
     "text": [
      "[15, 9, 10]\n"
     ]
    }
   ],
   "source": [
    "L_a = [7, 9, 10]\n",
    "\n",
    "L_a[0] = 15\n",
    "\n",
    "print(L_a)"
   ]
  },
  {
   "cell_type": "code",
   "execution_count": 21,
   "id": "8653b9eb",
   "metadata": {},
   "outputs": [
    {
     "ename": "TypeError",
     "evalue": "'str' object does not support item assignment",
     "output_type": "error",
     "traceback": [
      "\u001b[1;31m---------------------------------------------------------------------------\u001b[0m",
      "\u001b[1;31mTypeError\u001b[0m                                 Traceback (most recent call last)",
      "Cell \u001b[1;32mIn [21], line 3\u001b[0m\n\u001b[0;32m      1\u001b[0m chuoi \u001b[38;5;241m=\u001b[39m \u001b[38;5;124m\"\u001b[39m\u001b[38;5;124mabc\u001b[39m\u001b[38;5;124m\"\u001b[39m\n\u001b[1;32m----> 3\u001b[0m \u001b[43mchuoi\u001b[49m\u001b[43m[\u001b[49m\u001b[38;5;241;43m0\u001b[39;49m\u001b[43m]\u001b[49m \u001b[38;5;241m=\u001b[39m \u001b[38;5;124m\"\u001b[39m\u001b[38;5;124md\u001b[39m\u001b[38;5;124m\"\u001b[39m\n\u001b[0;32m      5\u001b[0m \u001b[38;5;28mprint\u001b[39m(chuoi)\n",
      "\u001b[1;31mTypeError\u001b[0m: 'str' object does not support item assignment"
     ]
    }
   ],
   "source": [
    "### không áp dụng với chuỗi\n",
    "\n",
    "chuoi = \"abc\"\n",
    "\n",
    "chuoi[0] = \"d\"\n",
    "\n",
    "print(chuoi)"
   ]
  },
  {
   "cell_type": "code",
   "execution_count": 24,
   "id": "0bc67430",
   "metadata": {},
   "outputs": [
    {
     "name": "stdout",
     "output_type": "stream",
     "text": [
      "Nhap so thu 1:5\n",
      "Nhap so thu 2:6\n",
      "Nhap so thu 3:23\n",
      "Nhap so thu 4:3\n",
      "Nhap so thu 5:3\n",
      "Nhap so thu 6:4\n",
      "Nhap so thu 7:5\n",
      "Nhap so thu 8:10\n",
      "Nhap so thu 9:2\n",
      "Nhap so thu 10:3\n",
      "[5, 6, 3, 3, 23, 4, 5, 10, 2, 3]\n"
     ]
    }
   ],
   "source": [
    "### nhập vào 10 số nguyên rồi lưu vào List\n",
    "### hoán đổi vị trí của phần tử thứ 3 và phần tử thứ 5\n",
    "### in List ra màn hình\n",
    "\n",
    "L_a = []\n",
    "\n",
    "for i in range(10):\n",
    "    so = int(input(\"Nhap so thu \" + str(i+1) + \":\"))\n",
    "    L_a.append(so)\n",
    "    \n",
    "L_a[2], L_a[4] = L_a[4], L_a[2]\n",
    "\n",
    "print(L_a)"
   ]
  },
  {
   "cell_type": "markdown",
   "id": "ce14eefe",
   "metadata": {},
   "source": [
    "### Xóa 1 phần tử trong list\n",
    "\n",
    "#### Lệnh remove()\n",
    "\n",
    "Cú pháp:\n",
    "\n",
    "`<tên list>.remove(<giá trị cần xóa>)`\n",
    "\n",
    "<b>Ví dụ:</b>\n",
    "\n",
    "`a = [\"hi\",3,\"hello\",4]\n",
    "a.remove(\"hi\")`\n",
    "\n",
    "Sau khi thực hiện lệnh trên, a chỉ còn [3,\"hello\",4]\n",
    "\n",
    "<b> Hãy khai báo một list bất kỳ, rồi xóa 1 phần tử trong nó bằng lệnh remove(), sau đó in list đó ra</b>"
   ]
  },
  {
   "cell_type": "code",
   "execution_count": 25,
   "id": "f79402ad",
   "metadata": {},
   "outputs": [
    {
     "name": "stdout",
     "output_type": "stream",
     "text": [
      "[3, 'hello', 4]\n"
     ]
    }
   ],
   "source": [
    "L_a = [\"hi\",3,\"hello\",4]\n",
    "L_a.remove('hi')\n",
    "print(L_a)"
   ]
  },
  {
   "cell_type": "code",
   "execution_count": 26,
   "id": "8e505e94",
   "metadata": {},
   "outputs": [
    {
     "name": "stdout",
     "output_type": "stream",
     "text": [
      "[3, 'hello', 4, 'hi']\n"
     ]
    }
   ],
   "source": [
    "L_a = [\"hi\",3,\"hello\",4,\"hi\"]\n",
    "L_a.remove('hi')\n",
    "print(L_a)"
   ]
  },
  {
   "cell_type": "code",
   "execution_count": 27,
   "id": "558e6c63",
   "metadata": {},
   "outputs": [
    {
     "name": "stdout",
     "output_type": "stream",
     "text": [
      "[3, 'hello', 4]\n"
     ]
    }
   ],
   "source": [
    "L_a = [\"hi\",3,\"hello\",4,\"hi\"]\n",
    "L_a.remove('hi')\n",
    "L_a.remove('hi')\n",
    "print(L_a)"
   ]
  },
  {
   "cell_type": "code",
   "execution_count": 29,
   "id": "0f4f42e9",
   "metadata": {},
   "outputs": [
    {
     "ename": "ValueError",
     "evalue": "list.remove(x): x not in list",
     "output_type": "error",
     "traceback": [
      "\u001b[1;31m---------------------------------------------------------------------------\u001b[0m",
      "\u001b[1;31mValueError\u001b[0m                                Traceback (most recent call last)",
      "Cell \u001b[1;32mIn [29], line 2\u001b[0m\n\u001b[0;32m      1\u001b[0m L_a \u001b[38;5;241m=\u001b[39m [\u001b[38;5;241m3\u001b[39m,\u001b[38;5;124m\"\u001b[39m\u001b[38;5;124mhello\u001b[39m\u001b[38;5;124m\"\u001b[39m,\u001b[38;5;241m4\u001b[39m]\n\u001b[1;32m----> 2\u001b[0m \u001b[43mL_a\u001b[49m\u001b[38;5;241;43m.\u001b[39;49m\u001b[43mremove\u001b[49m\u001b[43m(\u001b[49m\u001b[38;5;124;43m'\u001b[39;49m\u001b[38;5;124;43mhi\u001b[39;49m\u001b[38;5;124;43m'\u001b[39;49m\u001b[43m)\u001b[49m\n\u001b[0;32m      3\u001b[0m \u001b[38;5;28mprint\u001b[39m(L_a)\n",
      "\u001b[1;31mValueError\u001b[0m: list.remove(x): x not in list"
     ]
    }
   ],
   "source": [
    "L_a = [3,\"hello\",4]\n",
    "L_a.remove('hi')\n",
    "print(L_a)"
   ]
  },
  {
   "cell_type": "code",
   "execution_count": 30,
   "id": "848561f1",
   "metadata": {},
   "outputs": [
    {
     "name": "stdout",
     "output_type": "stream",
     "text": [
      "[3, 'hello', 4]\n"
     ]
    },
    {
     "ename": "ValueError",
     "evalue": "list.remove(x): x not in list",
     "output_type": "error",
     "traceback": [
      "\u001b[1;31m---------------------------------------------------------------------------\u001b[0m",
      "\u001b[1;31mValueError\u001b[0m                                Traceback (most recent call last)",
      "Cell \u001b[1;32mIn [30], line 4\u001b[0m\n\u001b[0;32m      2\u001b[0m L_a\u001b[38;5;241m.\u001b[39mremove(\u001b[38;5;124m'\u001b[39m\u001b[38;5;124mhi\u001b[39m\u001b[38;5;124m'\u001b[39m)\n\u001b[0;32m      3\u001b[0m \u001b[38;5;28mprint\u001b[39m(L_a)\n\u001b[1;32m----> 4\u001b[0m \u001b[43mL_a\u001b[49m\u001b[38;5;241;43m.\u001b[39;49m\u001b[43mremove\u001b[49m\u001b[43m(\u001b[49m\u001b[38;5;124;43m'\u001b[39;49m\u001b[38;5;124;43mhi\u001b[39;49m\u001b[38;5;124;43m'\u001b[39;49m\u001b[43m)\u001b[49m\n\u001b[0;32m      5\u001b[0m \u001b[38;5;28mprint\u001b[39m(L_a)\n",
      "\u001b[1;31mValueError\u001b[0m: list.remove(x): x not in list"
     ]
    }
   ],
   "source": [
    "L_a = [\"hi\",3,\"hello\",4]\n",
    "L_a.remove('hi')\n",
    "print(L_a)\n",
    "L_a.remove('hi')\n",
    "print(L_a)"
   ]
  },
  {
   "cell_type": "code",
   "execution_count": 31,
   "id": "d6d9ab69",
   "metadata": {},
   "outputs": [
    {
     "ename": "ValueError",
     "evalue": "list.remove(x): x not in list",
     "output_type": "error",
     "traceback": [
      "\u001b[1;31m---------------------------------------------------------------------------\u001b[0m",
      "\u001b[1;31mValueError\u001b[0m                                Traceback (most recent call last)",
      "Cell \u001b[1;32mIn [31], line 2\u001b[0m\n\u001b[0;32m      1\u001b[0m L_a \u001b[38;5;241m=\u001b[39m [\u001b[38;5;124m\"\u001b[39m\u001b[38;5;124mhi\u001b[39m\u001b[38;5;124m\"\u001b[39m,\u001b[38;5;241m3\u001b[39m,\u001b[38;5;124m\"\u001b[39m\u001b[38;5;124mhello\u001b[39m\u001b[38;5;124m\"\u001b[39m,\u001b[38;5;241m4\u001b[39m]\n\u001b[1;32m----> 2\u001b[0m \u001b[43mL_a\u001b[49m\u001b[38;5;241;43m.\u001b[39;49m\u001b[43mremove\u001b[49m\u001b[43m(\u001b[49m\u001b[38;5;124;43m\"\u001b[39;49m\u001b[38;5;124;43m3\u001b[39;49m\u001b[38;5;124;43m\"\u001b[39;49m\u001b[43m)\u001b[49m\n\u001b[0;32m      3\u001b[0m \u001b[38;5;28mprint\u001b[39m(L_a)\n",
      "\u001b[1;31mValueError\u001b[0m: list.remove(x): x not in list"
     ]
    }
   ],
   "source": [
    "L_a = [\"hi\",3,\"hello\",4]\n",
    "L_a.remove(\"3\")\n",
    "print(L_a)"
   ]
  },
  {
   "cell_type": "code",
   "execution_count": 32,
   "id": "0e5abbd8",
   "metadata": {},
   "outputs": [
    {
     "name": "stdout",
     "output_type": "stream",
     "text": [
      "True\n"
     ]
    }
   ],
   "source": [
    "L = [\"hi\",3,\"hello\",4]\n",
    "print(\"hi\" in L)"
   ]
  },
  {
   "cell_type": "code",
   "execution_count": 33,
   "id": "39ea33cb",
   "metadata": {},
   "outputs": [
    {
     "name": "stdout",
     "output_type": "stream",
     "text": [
      "False\n"
     ]
    }
   ],
   "source": [
    "L = [\"hi\",3,\"hello\",4]\n",
    "print(\"3\" in L)"
   ]
  },
  {
   "cell_type": "code",
   "execution_count": 34,
   "id": "a46fa25a",
   "metadata": {},
   "outputs": [
    {
     "name": "stdout",
     "output_type": "stream",
     "text": [
      "Nhap so thu 1: 5\n",
      "Nhap so thu 2: 7\n",
      "Nhap so thu 3: 0\n",
      "Nhap so thu 4: 4\n",
      "Nhap so thu 5: 5\n",
      "Nhap so thu 6: 0\n",
      "Nhap so thu 7: 4\n",
      "Nhap so thu 8: 2\n",
      "Nhap so thu 9: 1\n",
      "Nhap so thu 10: 4\n",
      "[5, 7, 4, 5, 4, 2, 1, 4]\n"
     ]
    }
   ],
   "source": [
    "### nhập vào 10 số nguyên rồi lưu vào List\n",
    "### hãy xóa toàn bộ phần tử mang giá trị 0 trong list\n",
    "### in list ra màn hình\n",
    "\n",
    "L_a=[]\n",
    "\n",
    "for i in range(10):\n",
    "    b=input(\"Nhap so thu \"+str(i+1)+\": \")\n",
    "    L_a.append(int(b))\n",
    "\n",
    "while 0 in L_a:\n",
    "    L_a.remove(0)\n",
    "    \n",
    "print(L_a)"
   ]
  },
  {
   "cell_type": "markdown",
   "id": "ec66c5cc",
   "metadata": {},
   "source": [
    "#### Lệnh pop()\n",
    "\n",
    "Cú pháp:\n",
    "\n",
    "`<tên list>.pop(<vị trí cần xóa>)`\n",
    "\n",
    "<b>Ví dụ:</b>\n",
    "\n",
    "`a = [\"hi\",3,\"hello\",4]\n",
    "a.pop(3)`\n",
    "\n",
    "Sau khi thực hiện lệnh trên, a chỉ còn [\"hi\",3,\"hello\"]\n",
    "\n",
    "<b> Hãy khai báo một list bất kỳ, rồi xóa 1 phần tử trong nó bằng lệnh pop(), sau đó in list đó ra</b>"
   ]
  },
  {
   "cell_type": "code",
   "execution_count": 35,
   "id": "eeaa0766",
   "metadata": {},
   "outputs": [
    {
     "name": "stdout",
     "output_type": "stream",
     "text": [
      "['hi', 3, 'hello']\n"
     ]
    }
   ],
   "source": [
    "a = [\"hi\",3,\"hello\",4]\n",
    "a.pop(3) ## xóa phần tử tại vị trí số 3 ~~> là số 4\n",
    "print(a)"
   ]
  },
  {
   "cell_type": "code",
   "execution_count": 37,
   "id": "a4b3ae43",
   "metadata": {},
   "outputs": [
    {
     "name": "stdout",
     "output_type": "stream",
     "text": [
      "['hi', 3]\n"
     ]
    }
   ],
   "source": [
    "a = [\"hi\",3,\"hello\",4]\n",
    "a.pop(-1)\n",
    "a.pop(-1)\n",
    "print(a)"
   ]
  },
  {
   "cell_type": "code",
   "execution_count": 40,
   "id": "1bf9e1b7",
   "metadata": {},
   "outputs": [
    {
     "ename": "IndexError",
     "evalue": "pop index out of range",
     "output_type": "error",
     "traceback": [
      "\u001b[1;31m---------------------------------------------------------------------------\u001b[0m",
      "\u001b[1;31mIndexError\u001b[0m                                Traceback (most recent call last)",
      "Cell \u001b[1;32mIn [40], line 2\u001b[0m\n\u001b[0;32m      1\u001b[0m a \u001b[38;5;241m=\u001b[39m [\u001b[38;5;124m\"\u001b[39m\u001b[38;5;124mhi\u001b[39m\u001b[38;5;124m\"\u001b[39m,\u001b[38;5;241m3\u001b[39m,\u001b[38;5;124m\"\u001b[39m\u001b[38;5;124mhello\u001b[39m\u001b[38;5;124m\"\u001b[39m,\u001b[38;5;241m4\u001b[39m]\n\u001b[1;32m----> 2\u001b[0m \u001b[43ma\u001b[49m\u001b[38;5;241;43m.\u001b[39;49m\u001b[43mpop\u001b[49m\u001b[43m(\u001b[49m\u001b[38;5;241;43m4\u001b[39;49m\u001b[43m)\u001b[49m\n\u001b[0;32m      3\u001b[0m \u001b[38;5;28mprint\u001b[39m(a)\n",
      "\u001b[1;31mIndexError\u001b[0m: pop index out of range"
     ]
    }
   ],
   "source": [
    "a = [\"hi\",3,\"hello\",4]\n",
    "a.pop(4)\n",
    "print(a)"
   ]
  },
  {
   "cell_type": "markdown",
   "id": "96daac1c",
   "metadata": {},
   "source": [
    "### Sao chép list\n",
    "\n",
    "###### Lưu ý: Nếu ta có list a, ta thực hiện lệnh b = a, list b sẽ bị ảnh hưởng khi list a có sự thay đổi\n",
    "\n",
    "<b> Ví dụ: </b>\n",
    "\n",
    "`a = [5,7,1]\n",
    "b = a\n",
    "a.remove(5)`\n",
    "\n",
    "Khi thực hiện 3 lệnh trên, b sẽ bằng [7,1], dù cho ta thực hiện lệnh `b = a` trước `a.remove(5)`\n",
    "\n",
    "<b> Kiểm chứng sự ảnh hưởng khi gán list </b>"
   ]
  },
  {
   "cell_type": "code",
   "execution_count": 41,
   "id": "1dbdf54b",
   "metadata": {},
   "outputs": [
    {
     "name": "stdout",
     "output_type": "stream",
     "text": [
      "[5, 7, 1]\n",
      "[5, 7, 1]\n"
     ]
    }
   ],
   "source": [
    "a = [5,7,1]\n",
    "b = a\n",
    "print(a)\n",
    "print(b)"
   ]
  },
  {
   "cell_type": "code",
   "execution_count": 42,
   "id": "fb04298a",
   "metadata": {},
   "outputs": [
    {
     "name": "stdout",
     "output_type": "stream",
     "text": [
      "[10, 7, 1]\n",
      "[10, 7, 1]\n"
     ]
    }
   ],
   "source": [
    "a = [5,7,1]\n",
    "b = a\n",
    "a[0] = 10\n",
    "print(a)\n",
    "print(b)"
   ]
  },
  {
   "cell_type": "code",
   "execution_count": 43,
   "id": "bf3262a1",
   "metadata": {},
   "outputs": [
    {
     "name": "stdout",
     "output_type": "stream",
     "text": [
      "[5, 7, 1, 17, 15]\n",
      "[5, 7, 1, 17, 15]\n"
     ]
    }
   ],
   "source": [
    "a = [5,7,1]\n",
    "b = a\n",
    "a.append(17)\n",
    "b.append(15)\n",
    "print(a)\n",
    "print(b)"
   ]
  },
  {
   "cell_type": "markdown",
   "id": "c9c51aad",
   "metadata": {},
   "source": [
    "### Lệnh copy()\n",
    "\n",
    "Cú pháp:\n",
    "\n",
    "`<tên list>.copy()`\n",
    "\n",
    "##### Dùng lệnh copy sẽ khắc phục được vấn đề gán list a cho b\n",
    "\n",
    "<b> Ví dụ: </b>\n",
    "\n",
    "`a = [5,7,1]\n",
    "b = a.copy()\n",
    "a.remove(5)`\n",
    "\n",
    "Khi thực hiện 3 lệnh trên, b vẫn sẽ bằng [5,7,1]\n",
    "\n",
    "Lúc này, b sẽ là một list mới độc lập hoàn toàn với a\n",
    "\n",
    "<b> Khai báo list a, dùng lệnh copy cho list b, rồi thêm phần tử vào list a, sau đó in cả 2 list lên màn hình</b>"
   ]
  },
  {
   "cell_type": "code",
   "execution_count": 45,
   "id": "46759662",
   "metadata": {},
   "outputs": [
    {
     "name": "stdout",
     "output_type": "stream",
     "text": [
      "[5, 7, 1, 17]\n",
      "[5, 7, 1, 15]\n"
     ]
    }
   ],
   "source": [
    "a = [5,7,1]\n",
    "b = a.copy()\n",
    "a.append(17)\n",
    "b.append(15)\n",
    "print(a)\n",
    "print(b)"
   ]
  },
  {
   "cell_type": "code",
   "execution_count": 47,
   "id": "ac9a8b59",
   "metadata": {},
   "outputs": [
    {
     "name": "stdout",
     "output_type": "stream",
     "text": [
      "[17, 15, 10]\n"
     ]
    }
   ],
   "source": [
    "def ham(L):\n",
    "    L.append(10)\n",
    "    L[0] = 17\n",
    "    \n",
    "L_a = [10,15]\n",
    "ham(L_a)\n",
    "print(L_a)"
   ]
  },
  {
   "cell_type": "code",
   "execution_count": null,
   "id": "7e3e3a8a",
   "metadata": {},
   "outputs": [],
   "source": [
    "def ham(a):\n",
    "    a = a + 10\n",
    "    print(a)\n",
    "    \n",
    "b = 15\n",
    "ham(b)\n",
    "print(b)"
   ]
  },
  {
   "cell_type": "code",
   "execution_count": 48,
   "id": "36284644",
   "metadata": {},
   "outputs": [
    {
     "name": "stdout",
     "output_type": "stream",
     "text": [
      "[]\n",
      "[17, 10, 15]\n"
     ]
    }
   ],
   "source": [
    "a = [17,10,15]\n",
    "b = a\n",
    "a = []\n",
    "print(a)\n",
    "print(b)"
   ]
  },
  {
   "cell_type": "code",
   "execution_count": 52,
   "id": "4718e0d4",
   "metadata": {},
   "outputs": [
    {
     "name": "stdout",
     "output_type": "stream",
     "text": [
      "[19, 20, 30]\n",
      "[17, 10, 15]\n"
     ]
    }
   ],
   "source": [
    "a = [17,10,15]\n",
    "b = a\n",
    "a = [19,20,30]\n",
    "print(a)\n",
    "print(b)"
   ]
  },
  {
   "cell_type": "code",
   "execution_count": 53,
   "id": "531a4a1d",
   "metadata": {},
   "outputs": [
    {
     "name": "stdout",
     "output_type": "stream",
     "text": [
      "[19, 20, 30]\n",
      "[30, 10, 15]\n"
     ]
    }
   ],
   "source": [
    "a = [17,10,15]\n",
    "b = a\n",
    "a = [19,20,30]\n",
    "b[0] = 30\n",
    "print(a)\n",
    "print(b)"
   ]
  },
  {
   "cell_type": "code",
   "execution_count": 55,
   "id": "550209c5",
   "metadata": {},
   "outputs": [
    {
     "name": "stdout",
     "output_type": "stream",
     "text": [
      "[]\n",
      "[]\n"
     ]
    }
   ],
   "source": [
    "a = [17,10,15]\n",
    "b = a\n",
    "b.clear()\n",
    "print(a)\n",
    "print(b)"
   ]
  },
  {
   "cell_type": "code",
   "execution_count": 56,
   "id": "2331ccb0",
   "metadata": {},
   "outputs": [
    {
     "name": "stdout",
     "output_type": "stream",
     "text": [
      "[15]\n",
      "[17, 20, 30]\n"
     ]
    }
   ],
   "source": [
    "def ham(L):\n",
    "    L = []\n",
    "    L.append(15)\n",
    "    print(L)\n",
    "\n",
    "L_a = [17,20,30]\n",
    "ham(L_a)\n",
    "print(L_a)"
   ]
  },
  {
   "cell_type": "markdown",
   "id": "d8f470e0",
   "metadata": {},
   "source": [
    "### Lệnh len()\n",
    "\n",
    "Tương tự như chuỗi, ta có thể dùng lệnh len cho list để trả về số lượng của list\n",
    "\n",
    "<b> Ví dụ:</b>\n",
    "\n",
    "`a = [3,\"Hello\",5,\"hi\"]\n",
    "b = len(a)`\n",
    "\n",
    "Giá trị của b là 4\n",
    "\n",
    "<b> Khai báo list a, in lên độ dài của list a </b>"
   ]
  },
  {
   "cell_type": "code",
   "execution_count": 57,
   "id": "dfbcf0db",
   "metadata": {},
   "outputs": [
    {
     "name": "stdout",
     "output_type": "stream",
     "text": [
      "4\n"
     ]
    }
   ],
   "source": [
    "a = [3,\"Hello\",5,\"hi\"]\n",
    "\n",
    "print(len(a))"
   ]
  },
  {
   "cell_type": "markdown",
   "id": "8ac29b78",
   "metadata": {},
   "source": [
    "### Duyệt list bằng lệnh for\n",
    "\n",
    "<b> Duyệt list với vị trí </b>"
   ]
  },
  {
   "cell_type": "code",
   "execution_count": 60,
   "id": "1be33622",
   "metadata": {},
   "outputs": [
    {
     "name": "stdout",
     "output_type": "stream",
     "text": [
      "3\n",
      "Hello\n",
      "5\n",
      "hi\n"
     ]
    }
   ],
   "source": [
    "L_a = [3,\"Hello\",5,\"hi\"]\n",
    "\n",
    "for i in range(len(L_a)): ### ~~> len(L_a) = 4 ~~> range(4) ~~> i chạy 0,1,2,3\n",
    "    print(L_a[i])"
   ]
  },
  {
   "cell_type": "markdown",
   "id": "53b6e6eb",
   "metadata": {},
   "source": [
    "<b> Duyệt list với giá trị từng phần tử</b>"
   ]
  },
  {
   "cell_type": "code",
   "execution_count": 61,
   "id": "cdf22aa3",
   "metadata": {},
   "outputs": [
    {
     "name": "stdout",
     "output_type": "stream",
     "text": [
      "3\n",
      "Hello\n",
      "5\n",
      "hi\n"
     ]
    }
   ],
   "source": [
    "L_a = [3,\"Hello\",5,\"hi\"]\n",
    "\n",
    "for i in L_a: ### ~~> L_a chính là tập lặp ~~> i sẽ là từng phần tử bên trong L_a\n",
    "    print(i)"
   ]
  },
  {
   "cell_type": "code",
   "execution_count": 65,
   "id": "9d545a76",
   "metadata": {},
   "outputs": [
    {
     "name": "stdout",
     "output_type": "stream",
     "text": [
      "[1, 1, 1, 1, 1, 1, 1]\n"
     ]
    }
   ],
   "source": [
    "L_a = [3,\"Hello\",5,\"hi\",\"4\",\"abcsd\",\"232\"]\n",
    "\n",
    "### thay đổi toàn bộ phần tử bên trong L_a thành số 1\n",
    "for i in range(len(L_a)):\n",
    "    L_a[i] = 1\n",
    "    \n",
    "print(L_a)"
   ]
  },
  {
   "cell_type": "code",
   "execution_count": 63,
   "id": "3523ff6a",
   "metadata": {},
   "outputs": [
    {
     "name": "stdout",
     "output_type": "stream",
     "text": [
      "[3, 'Hello', 5, 'hi', '4', 'abcsd', '232']\n"
     ]
    }
   ],
   "source": [
    "L_a = [3,\"Hello\",5,\"hi\",\"4\",\"abcsd\",\"232\"]\n",
    "\n",
    "### thay đổi toàn bộ phần tử bên trong L_a thành số 1\n",
    "for i in L_a:\n",
    "    i = 1 ## khi cho i = 1 thì giá trị của biến i thay đổi nhưng giá trị của phần tử trong list vẫn giữ nguyên\n",
    "    \n",
    "print(L_a)"
   ]
  },
  {
   "cell_type": "code",
   "execution_count": 69,
   "id": "f7568896",
   "metadata": {},
   "outputs": [
    {
     "name": "stdout",
     "output_type": "stream",
     "text": [
      "3\n",
      "4\n",
      "7\n"
     ]
    }
   ],
   "source": [
    "L_a = [3,4,5,6,7]\n",
    "\n",
    "for i in L_a:\n",
    "    if i == 5:\n",
    "        L_a.remove(i)\n",
    "    else:\n",
    "        print(i)\n",
    "        \n",
    "### trong quá trình đang duyệt list tuyệt đối không thay đổi cấu trúc của List"
   ]
  },
  {
   "cell_type": "code",
   "execution_count": 74,
   "id": "6ca3f54c",
   "metadata": {},
   "outputs": [
    {
     "name": "stdout",
     "output_type": "stream",
     "text": [
      "[3, 4, 5, 7]\n"
     ]
    }
   ],
   "source": [
    "L_a = [3,4,5,5,7]\n",
    "\n",
    "for i in L_a:\n",
    "    if i == 5:\n",
    "        L_a.remove(i)\n",
    "\n",
    "print(L_a)"
   ]
  },
  {
   "cell_type": "code",
   "execution_count": 77,
   "id": "ad538bcd",
   "metadata": {},
   "outputs": [
    {
     "ename": "IndexError",
     "evalue": "list index out of range",
     "output_type": "error",
     "traceback": [
      "\u001b[1;31m---------------------------------------------------------------------------\u001b[0m",
      "\u001b[1;31mIndexError\u001b[0m                                Traceback (most recent call last)",
      "Cell \u001b[1;32mIn [77], line 4\u001b[0m\n\u001b[0;32m      1\u001b[0m L_a \u001b[38;5;241m=\u001b[39m [\u001b[38;5;241m3\u001b[39m,\u001b[38;5;241m4\u001b[39m,\u001b[38;5;241m5\u001b[39m,\u001b[38;5;241m5\u001b[39m,\u001b[38;5;241m7\u001b[39m]\n\u001b[0;32m      3\u001b[0m \u001b[38;5;28;01mfor\u001b[39;00m i \u001b[38;5;129;01min\u001b[39;00m \u001b[38;5;28mrange\u001b[39m(\u001b[38;5;28mlen\u001b[39m(L_a)):\n\u001b[1;32m----> 4\u001b[0m     \u001b[38;5;28;01mif\u001b[39;00m \u001b[43mL_a\u001b[49m\u001b[43m[\u001b[49m\u001b[43mi\u001b[49m\u001b[43m]\u001b[49m \u001b[38;5;241m==\u001b[39m \u001b[38;5;241m5\u001b[39m:\n\u001b[0;32m      5\u001b[0m         L_a\u001b[38;5;241m.\u001b[39mremove(L_a[i])\n\u001b[0;32m      7\u001b[0m \u001b[38;5;28mprint\u001b[39m(L_a)\n",
      "\u001b[1;31mIndexError\u001b[0m: list index out of range"
     ]
    }
   ],
   "source": [
    "L_a = [3,4,5,5,7]\n",
    "### ban đầu L_a có 5 phần tử nên i sẽ chạy từ 0 ~~> 4\n",
    "for i in range(len(L_a)):\n",
    "    if L_a[i] == 5:\n",
    "        L_a.remove(L_a[i])\n",
    "\n",
    "print(L_a)"
   ]
  },
  {
   "cell_type": "code",
   "execution_count": 78,
   "id": "e7c6c45b",
   "metadata": {},
   "outputs": [
    {
     "name": "stdout",
     "output_type": "stream",
     "text": [
      "[3, 4]\n"
     ]
    }
   ],
   "source": [
    "L_a = [3,4,5,5,7]\n",
    "L_b = L_a[:2]\n",
    "print(L_b)"
   ]
  },
  {
   "cell_type": "code",
   "execution_count": 80,
   "id": "c85bd81e",
   "metadata": {},
   "outputs": [
    {
     "name": "stdout",
     "output_type": "stream",
     "text": [
      "[10, 4, 5, 5, 7]\n",
      "[10, 4, 5, 5, 7]\n"
     ]
    }
   ],
   "source": [
    "L_a = [3,4,5,5,7]\n",
    "L_b = L_a\n",
    "L_a[0] = 10\n",
    "print(L_a)\n",
    "print(L_b)"
   ]
  },
  {
   "cell_type": "code",
   "execution_count": 81,
   "id": "a7a9ea4d",
   "metadata": {},
   "outputs": [
    {
     "name": "stdout",
     "output_type": "stream",
     "text": [
      "[10, 4, 5, 5, 7]\n",
      "[3, 4, 5, 5, 7]\n"
     ]
    }
   ],
   "source": [
    "L_a = [3,4,5,5,7]\n",
    "L_b = L_a[:]\n",
    "L_a[0] = 10\n",
    "print(L_a)\n",
    "print(L_b)"
   ]
  },
  {
   "cell_type": "code",
   "execution_count": 82,
   "id": "2732cc16",
   "metadata": {},
   "outputs": [
    {
     "name": "stdout",
     "output_type": "stream",
     "text": [
      "[3, 4, 5, 5, 7]\n",
      "[2, 4]\n"
     ]
    }
   ],
   "source": [
    "L_a = [3,4,5,5,7]\n",
    "L_b = L_a[:2]\n",
    "L_b[0] = 2\n",
    "print(L_a)\n",
    "print(L_b)"
   ]
  },
  {
   "cell_type": "code",
   "execution_count": 83,
   "id": "de30f823",
   "metadata": {},
   "outputs": [
    {
     "ename": "TypeError",
     "evalue": "'tuple' object does not support item assignment",
     "output_type": "error",
     "traceback": [
      "\u001b[1;31m---------------------------------------------------------------------------\u001b[0m",
      "\u001b[1;31mTypeError\u001b[0m                                 Traceback (most recent call last)",
      "Cell \u001b[1;32mIn [83], line 2\u001b[0m\n\u001b[0;32m      1\u001b[0m L_a \u001b[38;5;241m=\u001b[39m (\u001b[38;5;241m4\u001b[39m,\u001b[38;5;241m5\u001b[39m,\u001b[38;5;241m10\u001b[39m)\n\u001b[1;32m----> 2\u001b[0m \u001b[43mL_a\u001b[49m\u001b[43m[\u001b[49m\u001b[38;5;241;43m0\u001b[39;49m\u001b[43m]\u001b[49m \u001b[38;5;241m=\u001b[39m \u001b[38;5;241m10\u001b[39m\n",
      "\u001b[1;31mTypeError\u001b[0m: 'tuple' object does not support item assignment"
     ]
    }
   ],
   "source": [
    "L_a = (4,5,10)\n",
    "L_a[0] = 10"
   ]
  },
  {
   "cell_type": "code",
   "execution_count": 89,
   "id": "dd2c406f",
   "metadata": {},
   "outputs": [
    {
     "name": "stdout",
     "output_type": "stream",
     "text": [
      "{10, 4, 5}\n"
     ]
    }
   ],
   "source": [
    "L_a = {4,5,10,10,4}\n",
    "print(L_a)"
   ]
  },
  {
   "cell_type": "code",
   "execution_count": 1,
   "id": "3ff05a52",
   "metadata": {},
   "outputs": [
    {
     "name": "stdout",
     "output_type": "stream",
     "text": [
      "Nhập vào số:3\n",
      "Nhập vào số:4\n",
      "Nhập vào số:5\n",
      "Nhập vào số:3\n",
      "Nhập vào số:4\n",
      "Nhập vào số:5\n",
      "Nhập vào số:3\n",
      "Nhập vào số:4\n",
      "Nhập vào số:5\n",
      "Nhập vào số:3\n",
      "{3, 4, 5}\n"
     ]
    }
   ],
   "source": [
    "L_a = set()\n",
    "\n",
    "for i in range(10):\n",
    "    a = int(input(\"Nhập vào số:\"))\n",
    "    L_a.add(a)\n",
    "    \n",
    "print(L_a)"
   ]
  },
  {
   "cell_type": "markdown",
   "id": "3fcda853",
   "metadata": {},
   "source": [
    "### Bài tập"
   ]
  },
  {
   "cell_type": "markdown",
   "id": "72d9a5fa",
   "metadata": {},
   "source": [
    "Nhập vào một dãy số nguyên dương (ngưng nhập nếu người dùng nhập -1)\n",
    "\n",
    "Sau khi nhập hãy:\n",
    "- In ra số lớn nhất trong dãy\n",
    "- In ra số bé nhất trong dãy\n",
    "- In ra dãy số nguyên tố tìm được trong dãy vừa nhập"
   ]
  },
  {
   "cell_type": "code",
   "execution_count": 3,
   "id": "a1154081",
   "metadata": {},
   "outputs": [
    {
     "name": "stdout",
     "output_type": "stream",
     "text": [
      "nhập: 3\n",
      "nhập: 4\n",
      "nhập: 5\n",
      "nhập: 2\n",
      "nhập: 8\n",
      "nhập: 3\n",
      "nhập: -1\n",
      "[3, 4, 5, 2, 8, 3]\n",
      "8\n",
      "2\n",
      "[3, 5, 2]\n"
     ]
    }
   ],
   "source": [
    "def songuyento(a):\n",
    "    if a < 2:\n",
    "        return False\n",
    "    for i in range(2,a//2+1):\n",
    "        if a % i == 0:\n",
    "            return False\n",
    "    return True\n",
    "\n",
    "L_a = []\n",
    "\n",
    "while True:\n",
    "    a = int(input(\"nhập: \"))\n",
    "    if a == -1:\n",
    "        break\n",
    "    if a > 0:\n",
    "        L_a.append(a)\n",
    "    \n",
    "\n",
    "print(L_a)\n",
    "\n",
    "sln = L_a[0]\n",
    "snn = L_a[0]\n",
    "L_snt = []\n",
    "\n",
    "for i in L_a:\n",
    "    if i > sln:\n",
    "        sln = i\n",
    "    if i < snn:\n",
    "        snn = i\n",
    "    if songuyento(i) and i not in L_snt:\n",
    "        L_snt.append(i)\n",
    "        \n",
    "print(sln)\n",
    "print(snn)\n",
    "print(L_snt)"
   ]
  },
  {
   "cell_type": "code",
   "execution_count": 4,
   "id": "b5ecb59d",
   "metadata": {},
   "outputs": [
    {
     "name": "stdout",
     "output_type": "stream",
     "text": [
      "[1, 2, 3, 5, 7, 9]\n"
     ]
    }
   ],
   "source": [
    "L_a = [1,2,3]\n",
    "L_b = [5,7,9]\n",
    "L_c = L_a + L_b\n",
    "print(L_c)"
   ]
  },
  {
   "cell_type": "markdown",
   "id": "f493bb3e",
   "metadata": {},
   "source": [
    "Viết hàm với dữ liệu đầu vào bao gồm 3 tham số: list, a, b. Hàm này có công dụng tìm số lớn nhất trong đoạn từ vị trí a đến vị trí b trong list."
   ]
  },
  {
   "cell_type": "code",
   "execution_count": 6,
   "id": "a730c2f8",
   "metadata": {},
   "outputs": [
    {
     "name": "stdout",
     "output_type": "stream",
     "text": [
      "3\n"
     ]
    }
   ],
   "source": [
    "def ham_tim_max_ab(L,a,b):\n",
    "    m = L[a]\n",
    "    for i in range(a,b):\n",
    "        if m < L[i]:\n",
    "            m = L[i]\n",
    "    return m\n",
    "\n",
    "print(ham_tim_max_ab([5,7,2,3,1],2,4))"
   ]
  },
  {
   "cell_type": "markdown",
   "id": "87acccb8",
   "metadata": {},
   "source": [
    "Viết hàm có tham số đầu vào là list, giá trị trả về là số lượng số nguyên tố bé hơn 100 trong list"
   ]
  },
  {
   "cell_type": "code",
   "execution_count": 7,
   "id": "c605991d",
   "metadata": {},
   "outputs": [
    {
     "name": "stdout",
     "output_type": "stream",
     "text": [
      "3\n"
     ]
    }
   ],
   "source": [
    "def songuyento(a):\n",
    "    if a < 2:\n",
    "        return False\n",
    "    for i in range(2,a//2+1):\n",
    "        if a % i == 0:\n",
    "            return False\n",
    "    return True\n",
    "\n",
    "def ham_dem_snt(L):\n",
    "    c = 0\n",
    "    for i in L:\n",
    "        if i < 100 and songuyento(i):\n",
    "            c += 1\n",
    "    return c\n",
    "\n",
    "print(ham_dem_snt([5,7,4,2,1,4]))"
   ]
  },
  {
   "cell_type": "markdown",
   "id": "13840ec8",
   "metadata": {},
   "source": [
    "Viết hàm tìm giá trị dương đầu tiên của list, nếu không có giá trị dương trả về -1"
   ]
  },
  {
   "cell_type": "code",
   "execution_count": 10,
   "id": "d7ffb2b7",
   "metadata": {},
   "outputs": [
    {
     "name": "stdout",
     "output_type": "stream",
     "text": [
      "-1\n"
     ]
    }
   ],
   "source": [
    "def ham_gt_duong(L):\n",
    "    for i in L:\n",
    "        if i > 0:\n",
    "            return i\n",
    "    return -1\n",
    "\n",
    "print(ham_gt_duong([-5,-6,-7,-2,-3,-1]))"
   ]
  },
  {
   "cell_type": "markdown",
   "id": "0f71c71e",
   "metadata": {},
   "source": [
    "Viết hàm có 2 giá trị đầu vào là list và x. Tìm giá trị trong list xa x nhất"
   ]
  },
  {
   "cell_type": "code",
   "execution_count": 15,
   "id": "03ef7d4c",
   "metadata": {},
   "outputs": [
    {
     "name": "stdout",
     "output_type": "stream",
     "text": [
      "-5\n"
     ]
    }
   ],
   "source": [
    "def ham(L,x):\n",
    "    kq = None\n",
    "    for i in L:\n",
    "        if kq == None or abs(kq-x) < abs(i-x):\n",
    "            kq = i\n",
    "    return kq\n",
    "\n",
    "L = [-5,2,2,3,5,1]\n",
    "print(ham(L,0))"
   ]
  },
  {
   "cell_type": "markdown",
   "id": "3b634d0f",
   "metadata": {},
   "source": [
    "Một người dùng số tiền là U đô-la và V Euro để mua một loại nguyên liệu sản xuất. \n",
    "\n",
    "Có N công ty nước ngoài bán nguyên liệu trên được đánh số từ 1 đến N. Công ty thứ i có giá bán Ai đô la/1 kg nguyên liệu và Bi Euro/1 kg nguyên liệu. \n",
    "\n",
    "Tuy nhiên, tại mỗi công ty chỉ bán nguyên liệu cho một khách hàng hoặc theo đô-la, hoặc theo Euro. \n",
    "\n",
    "Hãy giúp người đó tìm cách chọn ra 2 công ty để mua hàng sao cho số lượng nguyên liệu sản xuất có thể mua được là nhiều nhất.\n",
    "\n",
    "Nhập vào: Từ bàn phím 3 số theo thứ tự : N U V (1 ≤ N ≤ 20; 1 ≤ U, V ≤ 1000) và N cặp số nguyên Ai, Bi (1 < Ai, Bi < 1000) (nhập lần lượng A1, B1 rồi A2, B2)\n",
    "\n",
    "In ra : Số lượng nguyên liệu S(kg) người đó mua được với 2 chữ số thập phân."
   ]
  },
  {
   "cell_type": "code",
   "execution_count": 22,
   "id": "677abefe",
   "metadata": {},
   "outputs": [
    {
     "name": "stdout",
     "output_type": "stream",
     "text": [
      "Khối lượng: 8.0\n"
     ]
    }
   ],
   "source": [
    "## Nhập dữ liệu\n",
    "\n",
    "# n = int(input(\"Nhập N:\"))\n",
    "# u = int(input(\"Nhập U:\"))\n",
    "# v = int(input(\"Nhập V:\"))\n",
    "\n",
    "# L_dola = []\n",
    "# L_euro = []\n",
    "\n",
    "# for i in range(N):\n",
    "#     a = int(input(\"Nhập vào giá đôla:\"))\n",
    "#     L_dola.append(a)\n",
    "#     b = int(input(\"Nhập vào giá euro:\"))\n",
    "#     L_dola.append(b)\n",
    "\n",
    "## B1: Tìm công ty rẻ nhất theo từng loại đồng\n",
    "#### tìm vt công ty bán theo đồng đô la rẻ nhất\n",
    "#### tìm vt công ty bán theo đồng euro rẻ nhất\n",
    "## B2: Giả sử mình tìm đc 2 công ty khác nhau ~~> tính khối lượng (done)\n",
    "## Nhưng nếu 2 công ty giống nhau:\n",
    "## B3:\n",
    "## Tìm công ty bán rẻ nhì theo euro ~~> dola rẻ nhất, euro rẻ nhì\n",
    "## Tìm công ty bán rẻ nhì theo dola ~~> dola rẻ nhì, euro rẻ nhất\n",
    "#### chọn cả 2 trường hợp để tính khối lượng từng trường hợp, cái nào lớn hơn thì lấy\n",
    "\n",
    "N = 3\n",
    "U = 9\n",
    "V = 10\n",
    "\n",
    "L_dola = [3,2,9]\n",
    "L_euro = [4,2,7]\n",
    "\n",
    "def ham_vt_min(L):\n",
    "    kq = None ### None là giá trị đại diện cho không có giá trị\n",
    "    for i in range(len(L)):\n",
    "        if kq == None or L[kq] > L[i]:\n",
    "            kq = i\n",
    "    return kq\n",
    "\n",
    "vt_min_dola = ham_vt_min(L_dola)\n",
    "vt_min_euro = ham_vt_min(L_euro)\n",
    "\n",
    "if vt_min_dola != vt_min_euro:\n",
    "    S = U/L_dola[vt_min_dola] + V/L_euro[vt_min_euro]\n",
    "else:\n",
    "    gia_min_dola = L_dola[vt_min_dola]\n",
    "    L_dola.pop(vt_min_dola)\n",
    "    gia_min_euro = L_euro[vt_min_euro]\n",
    "    L_euro.pop(vt_min_euro)\n",
    "    vt_min_nhi_dola = ham_vt_min(L_dola)\n",
    "    vt_min_nhi_euro = ham_vt_min(L_euro)\n",
    "    gia_min_nhi_dola = L_dola[vt_min_nhi_dola]\n",
    "    gia_min_nhi_euro = L_euro[vt_min_nhi_euro]\n",
    "    S1 = U/gia_min_dola + V/gia_min_nhi_euro\n",
    "    S2 = U/gia_min_nhi_dola + V/gia_min_euro\n",
    "    if S1 > S2:\n",
    "        S = S1\n",
    "    else:\n",
    "        S = S2\n",
    "    \n",
    "print(\"Khối lượng:\",round(S,2))"
   ]
  },
  {
   "cell_type": "code",
   "execution_count": null,
   "id": "90401e4e",
   "metadata": {},
   "outputs": [],
   "source": []
  }
 ],
 "metadata": {
  "kernelspec": {
   "display_name": "Python 3 (ipykernel)",
   "language": "python",
   "name": "python3"
  },
  "language_info": {
   "codemirror_mode": {
    "name": "ipython",
    "version": 3
   },
   "file_extension": ".py",
   "mimetype": "text/x-python",
   "name": "python",
   "nbconvert_exporter": "python",
   "pygments_lexer": "ipython3",
   "version": "3.9.12"
  }
 },
 "nbformat": 4,
 "nbformat_minor": 5
}
