{
 "cells": [
  {
   "cell_type": "markdown",
   "id": "1c805421",
   "metadata": {},
   "source": [
    "# Lớp và đối tượng\n",
    "\n",
    "### Lớp (class) là gì?\n",
    "\n",
    "Lớp (Class) là tập hợp tất cả các đối tượng có chung các thuộc tính và hành vi."
   ]
  },
  {
   "cell_type": "markdown",
   "id": "812bf15e",
   "metadata": {},
   "source": [
    "### Khai báo lớp\n",
    "\n",
    "<code>class \\<tên lớp\\>:\n",
    "    \\<khai báo biến\\>\n",
    "    \\<khai báo hàm\\></code>\n",
    "    \n",
    "Ví dụ:\n",
    "\n",
    "<code>class giangvien:\n",
    "    ten = \"Nguyễn Tâm Điền\"\n",
    "    mon = \"Python căn bản\"\n",
    "    def inten(self):\n",
    "        print(self.ten)        \n",
    "dien = giangvien()\n",
    "print(dien.mon)\n",
    "dien.inten()</code>\n",
    "\n",
    "##### Lưu ý:\n",
    "\n",
    "- giangvien là 1 lớp\n",
    "- dien là 1 đối tượng có tất cả thuộc tính (có biến ten, mon và hàm inten) của lớp giangvien\n",
    "- inten là 1 hàm trong lớp giangvien\n",
    "- dien.mon là 1 biến trong đối tượng dien\n",
    "- dien.inten() là cách để gọi hàm inten trong đối tượng dien\n",
    "\n",
    "\n",
    "<b> Hãy chạy thử đoạn lệnh ở ví dụ: </b>"
   ]
  },
  {
   "cell_type": "code",
   "execution_count": 9,
   "id": "40598ff8",
   "metadata": {},
   "outputs": [
    {
     "name": "stdout",
     "output_type": "stream",
     "text": [
      "Nguyễn Tâm Điền\n",
      "Nguyễn Nam Anh\n",
      "Python siêu cấp\n"
     ]
    }
   ],
   "source": [
    "class GiangVien:\n",
    "    ten = \"Nguyễn Tâm Điền\"\n",
    "    mon = \"Python căn bản\"\n",
    "    def diday(self):\n",
    "        print(self.ten,\"đi dạy môn\",self.mon)\n",
    "        \n",
    "GV_Dien = GiangVien()\n",
    "GV_NamAnh = GiangVien()\n",
    "\n",
    "GV_NamAnh.ten = \"Nguyễn Nam Anh\"\n",
    "GV_NamAnh.mon = \"Python siêu cấp\"\n",
    "\n",
    "print(GV_Dien.ten)\n",
    "print(GV_NamAnh.ten)\n",
    "print(GV_NamAnh.mon)"
   ]
  },
  {
   "cell_type": "markdown",
   "id": "6c4daedf",
   "metadata": {},
   "source": [
    "<b> Hãy tạo 1 class hocvien với 1 biến và 1 def giúp in giá trị biến đó ra màn hình </b>"
   ]
  },
  {
   "cell_type": "code",
   "execution_count": null,
   "id": "5358318d",
   "metadata": {},
   "outputs": [],
   "source": []
  },
  {
   "cell_type": "markdown",
   "id": "b2481280",
   "metadata": {},
   "source": [
    "### Tham số self\n",
    "\n",
    "Tham số self là tham số được sử dụng khi khai báo các hàm trong lớp\n",
    "\n",
    "Tham số self miêu tả chính lớp ta đang xây dựng, giúp chúng ta sử dụng được những biến và hàm của lớp đó\n",
    "\n",
    "Ví dụ:\n",
    "\n",
    "<code>class giangvien:\n",
    "    ten = \"Nguyễn Tâm Điền\"\n",
    "    mon = \"Python căn bản\"\n",
    "    def doiten(self,ten):\n",
    "        self.ten = ten\n",
    "    def inten(self):\n",
    "        print(self.ten)        \n",
    "dien = giangvien()\n",
    "dien.doiten(\"NTD\")\n",
    "dien.inten()</code>\n",
    "\n",
    "Sau khi thực hiện đoạn code trên, giá trị của biến ten trong đối tượng dien đã bị thay đổi thành \"NTD\"\n",
    "\n",
    "<b> Hãy chạy thử đoạn lệnh ở ví dụ: </b>"
   ]
  },
  {
   "cell_type": "code",
   "execution_count": 11,
   "id": "fd2f5d7c",
   "metadata": {},
   "outputs": [
    {
     "name": "stdout",
     "output_type": "stream",
     "text": [
      "Nguyễn Nam Anh ăn nhiều\n",
      "Nguyễn Tâm Điền ăn nhiều\n",
      "Trần Yến Quyên ăn ngon\n"
     ]
    }
   ],
   "source": [
    "class GiangVien:\n",
    "    ten = \"Nguyễn Tâm Điền\"\n",
    "    mon = \"Python căn bản\"\n",
    "    gioitinh = \"nữ\"\n",
    "    def diday(self):\n",
    "        print(self.ten,\"đi dạy môn\",self.mon)\n",
    "    def an(self):\n",
    "        #### nếu là nữ thì in ra ăn ngon\n",
    "        #### nếu là nam thì in ra ăn nhiều\n",
    "        if self.gioitinh == \"nữ\":\n",
    "            print(self.ten,'ăn ngon')\n",
    "        else:\n",
    "            print(self.ten,'ăn nhiều')\n",
    "        \n",
    "GV_Dien = GiangVien()\n",
    "GV_NamAnh = GiangVien()\n",
    "GV_Quyen = GiangVien()\n",
    "\n",
    "GV_Quyen.ten = \"Trần Yến Quyên\"\n",
    "GV_Quyen.mon = \"Python siêu siêu cấp\"\n",
    "\n",
    "GV_Dien.gioitinh = \"nam\"\n",
    "GV_NamAnh.gioitinh = \"nam\"\n",
    "GV_NamAnh.ten = \"Nguyễn Nam Anh\"\n",
    "GV_NamAnh.mon = \"Python siêu cấp\"\n",
    "\n",
    "GV_NamAnh.an()\n",
    "GV_Dien.an()\n",
    "GV_Quyen.an()"
   ]
  },
  {
   "cell_type": "markdown",
   "id": "4dfd8d1d",
   "metadata": {},
   "source": [
    "<b> Hãy thêm 1 def vào class hocvien giúp thay đổi giá trị biến bất kỳ trong class </b>"
   ]
  },
  {
   "cell_type": "code",
   "execution_count": null,
   "id": "98d911c0",
   "metadata": {},
   "outputs": [],
   "source": []
  },
  {
   "cell_type": "markdown",
   "id": "b2909dd4",
   "metadata": {},
   "source": [
    "### Hàm \\_\\_init__\n",
    "\n",
    "Hàm \\_\\_init__ là hàm khởi tạo\n",
    "\n",
    "Ví dụ:\n",
    "\n",
    "<code>class giangvien:\n",
    "    def \\_\\_init\\_\\_(self,ten,mon):\n",
    "        self.ten = ten\n",
    "        self.mon = mon\n",
    "    def doiten(self,ten):\n",
    "        self.ten = ten\n",
    "    def inten(self):\n",
    "        print(self.ten)   \n",
    "dien = giangvien(\"Điền\",\"Python căn bản\")\n",
    "thang = giangvien(\"Thắng\",\"Python siêu cấp\")\n",
    "dien.inten()\n",
    "thang.inten()</code>\n",
    "\n",
    "<b> Hãy chạy thử đoạn lệnh ở ví dụ: </b>"
   ]
  },
  {
   "cell_type": "code",
   "execution_count": 15,
   "id": "f15266fb",
   "metadata": {},
   "outputs": [
    {
     "name": "stdout",
     "output_type": "stream",
     "text": [
      "Nguyễn Tâm Điền đi dạy môn Python căn bản\n",
      "Nguyễn Khoa Minh Phúc đi dạy môn Phân tích dữ liệu\n"
     ]
    }
   ],
   "source": [
    "class GiangVien:\n",
    "    def __init__(self,ten,mon):\n",
    "        ## hàm init sẽ chạy khi ta KHỞI TẠO một đối tượng mới\n",
    "        self.ten = ten\n",
    "        self.mon = mon\n",
    "    def diday(self):\n",
    "        print(self.ten,\"đi dạy môn\",self.mon)\n",
    "        \n",
    "GV_Dien = GiangVien(\"Nguyễn Tâm Điền\",\"Python căn bản\")\n",
    "GV_MinhPhuc = GiangVien(\"Nguyễn Khoa Minh Phúc\",\"Phân tích dữ liệu\")\n",
    "\n",
    "GV_Dien.diday()\n",
    "GV_MinhPhuc.diday()"
   ]
  },
  {
   "cell_type": "code",
   "execution_count": 2,
   "id": "1a19e4fd",
   "metadata": {},
   "outputs": [
    {
     "name": "stdout",
     "output_type": "stream",
     "text": [
      "0\n",
      "18\n",
      "nam\n",
      "<__main__.GiangVien object at 0x000001A379DA2D30>\n"
     ]
    }
   ],
   "source": [
    "class GiangVien:\n",
    "    def __init__(self,ten,mon):\n",
    "        ## hàm init sẽ chạy khi ta KHỞI TẠO một đối tượng mới\n",
    "        self.ten = ten\n",
    "        self.mon = mon\n",
    "        self.tuoi = 0\n",
    "        self.gioitinh = 0\n",
    "        ### 0 là giới tính nữ\n",
    "        ### 1 là giới tính nam\n",
    "        ### 2 là giới tính không xác định\n",
    "    def diday(self):\n",
    "        print(self.ten,\"đi dạy môn\",self.mon)\n",
    "    def set_tuoi(self,tuoi):\n",
    "        if tuoi > 0:\n",
    "            self.tuoi = tuoi\n",
    "    def set_gioitinh(self,gioitinh):\n",
    "        ### nam, nữ, k xác định (người dùng có thể viết hoa viết thường tùy ý, nhưng khi lưu thì lưu toàn bộ viết thường)\n",
    "        if gioitinh.lower() == 'nữ':\n",
    "            self.gioitinh = 0\n",
    "        if gioitinh.lower() == 'nam':\n",
    "            self.gioitinh = 1\n",
    "        if gioitinh.lower() == 'k xác định':\n",
    "            self.gioitinh = 2\n",
    "    def get_gioitinh(self):\n",
    "        L_gioitinh = [\"nữ\",\"nam\",\"k xác định\"]\n",
    "        return L_gioitinh[self.gioitinh]\n",
    "            \n",
    "GV_Dien = GiangVien(\"Nguyễn Tâm Điền\",\"Python căn bản\")\n",
    "GV_MinhPhuc = GiangVien(\"Nguyễn Khoa Minh Phúc\",\"Phân tích dữ liệu\")\n",
    "\n",
    "GV_MinhPhuc.set_tuoi(-18) ## giữ nguyên 0\n",
    "GV_MinhPhuc.set_tuoi(18) ## thay đổi thành 18\n",
    "GV_MinhPhuc.set_tuoi(-18) ## giữ nguyên 18 \n",
    "\n",
    "GV_MinhPhuc.set_gioitinh(\"nam\")\n",
    "GV_MinhPhuc.set_gioitinh(\"na\")\n",
    "\n",
    "print(GV_Dien.tuoi)\n",
    "print(GV_MinhPhuc.tuoi)\n",
    "print(GV_MinhPhuc.get_gioitinh())\n",
    "\n",
    "### mình sẽ không cần phải xây dựng class nếu mình làm việc theo hướng phân tích dữ liệu\n",
    "### mình sẽ dùng đối tượng rất nhiều"
   ]
  },
  {
   "cell_type": "code",
   "execution_count": null,
   "id": "e810f1d3",
   "metadata": {},
   "outputs": [],
   "source": [
    "import turtle\n",
    "\n",
    "t = turtle.Turtle()\n",
    "\n",
    "t.color(\"red\")"
   ]
  },
  {
   "cell_type": "markdown",
   "id": "9064cc0a",
   "metadata": {},
   "source": [
    "<b> Hãy thêm 1 def \\_\\_init__ vào class hocvien để khởi tạo tên và tuổi của học viên </b>"
   ]
  },
  {
   "cell_type": "code",
   "execution_count": null,
   "id": "3e6a0dae",
   "metadata": {},
   "outputs": [],
   "source": []
  },
  {
   "cell_type": "markdown",
   "id": "d137f2f5",
   "metadata": {},
   "source": [
    "### Bài tập"
   ]
  },
  {
   "cell_type": "markdown",
   "id": "d243726c",
   "metadata": {},
   "source": [
    "Hãy xây dựng 1 class hình tròn có các thuộc tính sau:\n",
    "\n",
    "- biến x và y chứa tọa độ tâm đường tròn\n",
    "- biến r chứa bán kính đường chọn\n",
    "- hàm draw: để vẽ đường tròn"
   ]
  },
  {
   "cell_type": "code",
   "execution_count": null,
   "id": "4121525f",
   "metadata": {},
   "outputs": [],
   "source": []
  },
  {
   "cell_type": "markdown",
   "id": "9017050f",
   "metadata": {},
   "source": [
    "Tạo một lớp phân số có các thuộc tính:\n",
    "\n",
    "- biến tử số và mẫu số\n",
    "- hàm cong: để cộng với một đối tượng khác có lớp phân số rồi trả về dối tượng có phân số mới\n",
    "- hàm tru: để trừ với một đối tượng khác có lớp phân số rồi trả về dối tượng có phân số mới\n",
    "- hàm nhan: để nhân với một đối tượng khác có lớp phân số rồi trả về dối tượng có phân số mới\n",
    "- hàm chia: để chia với một đối tượng khác có lớp phân số rồi trả về dối tượng có phân số mới\n",
    "- hàm toigian: để tối giản phân số rồi trả về dối tượng có phân số mới"
   ]
  },
  {
   "cell_type": "code",
   "execution_count": 13,
   "id": "2ae72d93",
   "metadata": {},
   "outputs": [
    {
     "name": "stdout",
     "output_type": "stream",
     "text": [
      "6/10\n",
      "3/5\n"
     ]
    }
   ],
   "source": [
    "class PhanSo:\n",
    "    def __init__(self,tuso,mauso):\n",
    "        self.tuso = tuso\n",
    "        if mauso != 0:\n",
    "            self.mauso = mauso\n",
    "        else:\n",
    "            self.mauso = 1\n",
    "    def inPhanSo(self):\n",
    "        print(self.tuso,\"/\",self.mauso,sep=\"\")\n",
    "    def cong(self,Phan_So_Khac):\n",
    "        kq_tuso = self.tuso*Phan_So_Khac.mauso + self.mauso*Phan_So_Khac.tuso\n",
    "        kq_mauso = self.mauso*Phan_So_Khac.mauso\n",
    "        PS_ketqua = PhanSo(kq_tuso,kq_mauso)\n",
    "        return PS_ketqua\n",
    "    def tru(self,Phan_So_Khac):\n",
    "        kq_tuso = self.tuso*Phan_So_Khac.mauso - self.mauso*Phan_So_Khac.tuso\n",
    "        kq_mauso = self.mauso*Phan_So_Khac.mauso\n",
    "        PS_ketqua = PhanSo(kq_tuso,kq_mauso)\n",
    "        return PS_ketqua\n",
    "    def nhan(self,Phan_So_Khac):\n",
    "        kq_tuso = self.tuso*Phan_So_Khac.tuso\n",
    "        kq_mauso = self.mauso*Phan_So_Khac.mauso\n",
    "        PS_ketqua = PhanSo(kq_tuso,kq_mauso)\n",
    "        return PS_ketqua\n",
    "    def chia(self,Phan_So_khac):\n",
    "        kq_tuso = self.tuso*Phan_So_Khac.mauso\n",
    "        kq_mauso = self.mauso*Phan_So_Khac.tuso\n",
    "        PS_ketqua = PhanSo(kq_tuso,kq_mauso)\n",
    "        return PS_ketqua\n",
    "    def UCLN_tuso_mauso(self):\n",
    "        a = self.tuso\n",
    "        b = self.mauso\n",
    "        while a != b:\n",
    "            if a > b:\n",
    "                a -= b\n",
    "            else:\n",
    "                b -= a\n",
    "        return a\n",
    "    def toigian(self):\n",
    "        uoc = self.UCLN_tuso_mauso()\n",
    "        ## mình sẽ gọi hàm UCLN như thế nào\n",
    "        ## hàm này cần tham số hay không? nếu có thì cần bao nhiêu tham số\n",
    "        kq_tuso = self.tuso//uoc\n",
    "        kq_mauso = self.mauso//uoc\n",
    "        ketqua = PhanSo(kq_tuso, kq_mauso)\n",
    "        return ketqua\n",
    "    \n",
    "PS_1 = PhanSo(6,10)\n",
    "PS_2 = PhanSo(1,2)\n",
    "\n",
    "PS_3 = PS_1.toigian()\n",
    "\n",
    "PS_1.inPhanSo()\n",
    "PS_3.inPhanSo()\n",
    "\n",
    "# PS_3 = PS_1.cong(PS_2)\n",
    "\n",
    "# PS_4 = PS_1.toigian()\n",
    "\n",
    "# PS_1.inPhanSo()\n",
    "\n",
    "# PS_4.inPhanSo()\n",
    "\n",
    "# PS_3.inPhanSo()"
   ]
  },
  {
   "cell_type": "markdown",
   "id": "39a8cb80",
   "metadata": {},
   "source": [
    "Viết class NhanVien gồm các thuộc tính:\n",
    "\n",
    "<b> Các biến </b>\n",
    "\n",
    "- Tên\n",
    "- Tuổi\n",
    "- Địa chỉ\n",
    "- Tiền lương\n",
    "- Tổng số giờ làm\n",
    "\n",
    "<b> Các hàm </b>\n",
    "\n",
    "- nhap : Nhập các thông tin cho nhân viên từ bàn phím\n",
    "- in : In ra tất cả các thông tin của nhân viên\n",
    "- thuong: Tính toán và trả về số tiền thưởng của nhân viên theo công thức sau:\n",
    "\n",
    "    Nếu tổng số giờ làm của nhân viên >=200 thì thưởng = lương * 20%\n",
    "    \n",
    "    Nếu tổng số giờ làm của nhân viên <200 và >=100 thì thưởng = lương * 10%\n",
    "    \n",
    "    Nếu tổng số giờ làm của nhân viên <100 thì thưởng = 0"
   ]
  },
  {
   "cell_type": "code",
   "execution_count": 2,
   "id": "26d12a44",
   "metadata": {},
   "outputs": [
    {
     "name": "stdout",
     "output_type": "stream",
     "text": [
      "Nhập tên:Nguyễn Văn A\n",
      "Nhập tuổi:32\n",
      "Nhập địa chỉ:123 g2 đó\n",
      "Nhập tiền lương:100000000\n",
      "Nhập giờ làm:210\n",
      "Tên :Nguyễn Văn A\n",
      "Tuổi :32\n",
      "Địa Chỉ :123 g2 đó\n",
      "Tiền Lương :100000000\n",
      "Giờ Làm :210\n",
      "20000000.0\n"
     ]
    }
   ],
   "source": [
    "class NhanVien:\n",
    "    def nhap(self):\n",
    "        self.D_data = {\"tên\":\"\",\"tuổi\":\"\",\"địa chỉ\":\"\",\"tiền lương\":\"\",\"giờ làm\":\"\"}\n",
    "        for k in self.D_data:\n",
    "            self.D_data[k] = input(\"Nhập \" + k + \":\")\n",
    "    def inThongTin(self):\n",
    "        for k in self.D_data:\n",
    "            print(k.title(),self.D_data[k],sep=\" :\")\n",
    "    def thuong(self):\n",
    "        giocong = int(self.D_data['giờ làm'])\n",
    "        luong = int(self.D_data['tiền lương'])\n",
    "        if giocong >= 200:\n",
    "            thuong = luong*0.2\n",
    "        elif giocong >= 100:\n",
    "            thuong = luong*0.1\n",
    "        else:\n",
    "            thuong = 0\n",
    "        return thuong\n",
    "\n",
    "\n",
    "NV_1 = NhanVien()\n",
    "NV_1.nhap()\n",
    "NV_1.inThongTin()\n",
    "\n",
    "print(NV_1.thuong())"
   ]
  },
  {
   "cell_type": "code",
   "execution_count": null,
   "id": "498054a5",
   "metadata": {},
   "outputs": [],
   "source": [
    "class NhanVien:\n",
    "    pass\n",
    "\n",
    "NV_1 = NhanVien()\n",
    "\n",
    "NV_1.nhap()"
   ]
  }
 ],
 "metadata": {
  "kernelspec": {
   "display_name": "Python 3 (ipykernel)",
   "language": "python",
   "name": "python3"
  },
  "language_info": {
   "codemirror_mode": {
    "name": "ipython",
    "version": 3
   },
   "file_extension": ".py",
   "mimetype": "text/x-python",
   "name": "python",
   "nbconvert_exporter": "python",
   "pygments_lexer": "ipython3",
   "version": "3.9.12"
  }
 },
 "nbformat": 4,
 "nbformat_minor": 5
}
