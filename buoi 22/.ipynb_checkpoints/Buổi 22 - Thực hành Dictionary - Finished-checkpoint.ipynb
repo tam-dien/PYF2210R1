{
 "cells": [
  {
   "cell_type": "markdown",
   "id": "636d6b20",
   "metadata": {},
   "source": [
    "# Thực hành Dictionary"
   ]
  },
  {
   "cell_type": "markdown",
   "id": "4a1577c4",
   "metadata": {},
   "source": [
    "### Bài 1"
   ]
  },
  {
   "cell_type": "markdown",
   "id": "57583ad7",
   "metadata": {},
   "source": [
    "Cho list a và list b là 2 dãy số bất kỳ\n",
    "\n",
    "Hãy tìm những phần tử trong 2 list trùng nhau và in toàn bộ ra màn hình\n",
    "\n",
    "Ví dụ:\n",
    "\n",
    "a = [2,4,5,7,9]\n",
    "\n",
    "b = [2,5,10,12,45,65]\n",
    "\n",
    "in ra: 2, 5"
   ]
  },
  {
   "cell_type": "markdown",
   "id": "3bf52ad2",
   "metadata": {},
   "source": [
    "#### Khai báo list"
   ]
  },
  {
   "cell_type": "code",
   "execution_count": null,
   "id": "ff4b8cef",
   "metadata": {},
   "outputs": [],
   "source": []
  },
  {
   "cell_type": "code",
   "execution_count": 3,
   "id": "ff768b11",
   "metadata": {},
   "outputs": [
    {
     "name": "stdout",
     "output_type": "stream",
     "text": [
      "{2, 4, 5, 7, 9}\n"
     ]
    }
   ],
   "source": [
    "L_a = [2,4,5,5,7,9]\n",
    "\n",
    "set_a = set(L_a)\n",
    "print(set_a)"
   ]
  },
  {
   "cell_type": "markdown",
   "id": "f7b1767c",
   "metadata": {},
   "source": [
    "#### Code"
   ]
  },
  {
   "cell_type": "code",
   "execution_count": 5,
   "id": "8d0bc5c0",
   "metadata": {},
   "outputs": [
    {
     "name": "stdout",
     "output_type": "stream",
     "text": [
      "[2, 12, 5, 5]\n"
     ]
    }
   ],
   "source": [
    "a = [2,12,5,5,7,9]\n",
    "\n",
    "b = [2,5,5,10,12,45,65]\n",
    "def sapxep(L_a,L_b):\n",
    "    L_a_new = L_a.copy()\n",
    "    L_b_new = L_b.copy()\n",
    "    L = []\n",
    "\n",
    "    for i in L_a_new:\n",
    "        if i in L_b_new:\n",
    "            L.append(i)\n",
    "            L_b_new.remove(i)\n",
    "    return L\n",
    "print(sapxep(a,b))"
   ]
  },
  {
   "cell_type": "code",
   "execution_count": null,
   "id": "503d8ce0",
   "metadata": {},
   "outputs": [],
   "source": [
    "L_a = [2,7,9,10]\n",
    "L_b = [2,9,10,15]"
   ]
  },
  {
   "cell_type": "markdown",
   "id": "2646ccba",
   "metadata": {},
   "source": [
    "### Bài 2"
   ]
  },
  {
   "cell_type": "markdown",
   "id": "6cc6dc38",
   "metadata": {},
   "source": [
    "Cho một dictonary có các giá trị là các số nguyên\n",
    "\n",
    "Hãy viết hàm tìm key có giá trị lớn nhất"
   ]
  },
  {
   "cell_type": "markdown",
   "id": "7b92f0ce",
   "metadata": {},
   "source": [
    "#### Khai báo dictionary"
   ]
  },
  {
   "cell_type": "code",
   "execution_count": null,
   "id": "522b8672",
   "metadata": {},
   "outputs": [],
   "source": [
    "def ham(D):\n",
    "    max = None\n",
    "    for i,j in D.items():\n",
    "        if max == None or max<j:\n",
    "            key_max = i\n",
    "            max = j \n",
    "    return key_max\n",
    "\n"
   ]
  },
  {
   "cell_type": "code",
   "execution_count": 10,
   "id": "e8720d0e",
   "metadata": {},
   "outputs": [
    {
     "name": "stdout",
     "output_type": "stream",
     "text": [
      "e\n"
     ]
    }
   ],
   "source": [
    "def max_key(D):\n",
    "    key = None\n",
    "    for i in D:\n",
    "        if key == None or D[i] > D[key]:\n",
    "            key = i\n",
    "    return key\n",
    "\n",
    "D_a={\"a\":5,\"d\":7,\"e\":13,\"m\":10}\n",
    "print(max_key(D_a))"
   ]
  },
  {
   "cell_type": "code",
   "execution_count": 7,
   "id": "3ec8ec73",
   "metadata": {},
   "outputs": [
    {
     "data": {
      "text/plain": [
       "'e'"
      ]
     },
     "execution_count": 7,
     "metadata": {},
     "output_type": "execute_result"
    }
   ],
   "source": [
    "D_a={\"a\":5,\"d\":7,\"e\":13,\"m\":10}\n",
    "\n",
    "def ham(D):\n",
    "    max = None\n",
    "    for i,j in D.items():\n",
    "        if max == None or max<j:\n",
    "            key_max = i\n",
    "            max = j \n",
    "    return key_max\n",
    "\n",
    "ham(D_a)"
   ]
  },
  {
   "cell_type": "markdown",
   "id": "65018ab5",
   "metadata": {},
   "source": [
    "#### Code"
   ]
  },
  {
   "cell_type": "code",
   "execution_count": null,
   "id": "e7a165eb",
   "metadata": {},
   "outputs": [],
   "source": []
  },
  {
   "cell_type": "markdown",
   "id": "c562bc84",
   "metadata": {},
   "source": [
    "### Bài 3"
   ]
  },
  {
   "cell_type": "markdown",
   "id": "945e8929",
   "metadata": {},
   "source": [
    "Cho một dictonary có các key đều là chuỗi\n",
    "\n",
    "Hãy viết hàm trả về giá trị của key có độ dài chuỗi là lớn nhất"
   ]
  },
  {
   "cell_type": "markdown",
   "id": "1855bc8c",
   "metadata": {},
   "source": [
    "#### Khai báo dictionary"
   ]
  },
  {
   "cell_type": "code",
   "execution_count": null,
   "id": "5ff9a0e5",
   "metadata": {},
   "outputs": [],
   "source": [
    "D_a={\"abc\":5,\"defgh\":7,\"eflmn\":13,\"mnopq\":10}"
   ]
  },
  {
   "cell_type": "markdown",
   "id": "21fae59d",
   "metadata": {},
   "source": [
    "#### Code"
   ]
  },
  {
   "cell_type": "code",
   "execution_count": 12,
   "id": "b3c2194d",
   "metadata": {},
   "outputs": [
    {
     "data": {
      "text/plain": [
       "13"
      ]
     },
     "execution_count": 12,
     "metadata": {},
     "output_type": "execute_result"
    }
   ],
   "source": [
    "D_a={\"abc\":5,\"defgh\":7,\"eflmne\":13,\"mnopq\":10}\n",
    "\n",
    "def ham(D):\n",
    "    kq=None\n",
    "    for i in D:\n",
    "        if kq==None or kq<len(i):\n",
    "            kq = len(i)\n",
    "            value=D[i]\n",
    "    return value\n",
    "\n",
    "ham(D_a)"
   ]
  },
  {
   "cell_type": "markdown",
   "id": "205c6ef4",
   "metadata": {},
   "source": [
    "### Bài 4"
   ]
  },
  {
   "cell_type": "markdown",
   "id": "bd7ee674",
   "metadata": {},
   "source": [
    "Cho một list là một tập các chuỗi\n",
    "\n",
    "Hãy mã hóa list trên theo nguyên tắc sau:\n",
    "\n",
    "Mỗi một phần tử, ta mã hóa thành những con số theo thứ tự tăng dần\n",
    "\n",
    "Ví dụ:\n",
    "\n",
    "List = [\"đen\",\"vàng\",\"xanh\",\"vàng\",\"xanh\",\"đỏ\",\"hồng\"]\n",
    "\n",
    "List mã hóa = [0,1,2,1,2,3,4]\n",
    "\n",
    "- \"đen\" mã hóa thành 0\n",
    "- \"vàng\" mã hóa thành 1\n",
    "- \"xanh\" mã hóa thành 2\n",
    "- \"đỏ\" mã hòa thánh 3\n",
    "- \"hồng\" mã hòa thành 4"
   ]
  },
  {
   "cell_type": "markdown",
   "id": "e7ed3048",
   "metadata": {},
   "source": [
    "#### Khai báo"
   ]
  },
  {
   "cell_type": "code",
   "execution_count": 10,
   "id": "7573ae07",
   "metadata": {},
   "outputs": [
    {
     "name": "stdout",
     "output_type": "stream",
     "text": [
      "{'đen': 0}\n",
      "{'đen': 0, 'vàng': 1}\n",
      "{'đen': 0, 'vàng': 1, 'xanh': 2}\n",
      "{'đen': 0, 'vàng': 1, 'xanh': 2}\n",
      "{'đen': 0, 'vàng': 1, 'xanh': 2}\n",
      "{'đen': 0, 'vàng': 1, 'xanh': 2, 'đỏ': 3}\n",
      "{'đen': 0, 'vàng': 1, 'xanh': 2, 'đỏ': 3, 'hồng': 4}\n",
      "{'đen': 0, 'vàng': 1, 'xanh': 2, 'đỏ': 3, 'hồng': 4}\n",
      "[0, 1, 2, 1, 2, 3, 4]\n"
     ]
    }
   ],
   "source": [
    "List = [\"đen\",\"vàng\",\"xanh\",\"vàng\",\"xanh\",\"đỏ\",\"hồng\"]\n",
    "\n",
    "def mahoa(L):\n",
    "    D = {}\n",
    "    L_mahoa = []\n",
    "    a = 0\n",
    "    for i in L:\n",
    "        if i not in D:\n",
    "            D[i] = a ## khởi tạo i bên trong D\n",
    "            a += 1 \n",
    "        L_mahoa.append(D[i]) ## có D[i] rồi\n",
    "    return L_mahoa, D\n",
    "\n",
    "L_mahoa, D_mahoa = mahoa(List)\n",
    "print(D_mahoa)\n",
    "print(L_mahoa)"
   ]
  },
  {
   "cell_type": "code",
   "execution_count": 8,
   "id": "c6a2b537",
   "metadata": {},
   "outputs": [
    {
     "name": "stdout",
     "output_type": "stream",
     "text": [
      "[0, 1, 2, 1, 2, 3, 4]\n"
     ]
    }
   ],
   "source": [
    "L = [\"đen\",\"vàng\",\"xanh\",\"vàng\",\"xanh\",\"đỏ\",\"hồng\"]\n",
    "def mahoa(L):\n",
    "    L_mahoa = []\n",
    "    L_tam = []\n",
    "    D_a ={}\n",
    "    for i in L:\n",
    "        if L_tam == [] or i not in L_tam:\n",
    "            L_tam.append(i)\n",
    "    for i in range(len(L_tam)):\n",
    "        D_a[i] = L_tam[i]\n",
    "    for i in L:\n",
    "        for j in D_a:\n",
    "            if i == D_a[j]:\n",
    "                L_mahoa.append(j)\n",
    "    return L_mahoa\n",
    "print(mahoa(L))"
   ]
  },
  {
   "cell_type": "code",
   "execution_count": 7,
   "id": "fa58fbc5",
   "metadata": {},
   "outputs": [
    {
     "data": {
      "text/plain": [
       "[0, 1, 2, 3, 4, 5, 6, 7]"
      ]
     },
     "execution_count": 7,
     "metadata": {},
     "output_type": "execute_result"
    }
   ],
   "source": [
    "def mahoa(L): # ~~> list\n",
    "\n",
    "    D_a = {}\n",
    "    j = 0\n",
    "    for i in L:\n",
    "        if i not in D_a:\n",
    "            D_a[i]=j\n",
    "            j+=1\n",
    "    return list(D_a.values())\n",
    "    \n",
    "List = [\"đen\",\"vàng\",\"xanh\",\"vàng\",\"xanh\",\"đỏ\",\"hồng\",\"blue\",\"green\",\"white\"]\n",
    "\n",
    "mahoa(List)"
   ]
  },
  {
   "cell_type": "markdown",
   "id": "9c61e63b",
   "metadata": {},
   "source": [
    "#### Code"
   ]
  },
  {
   "cell_type": "code",
   "execution_count": null,
   "id": "3e3cdf86",
   "metadata": {},
   "outputs": [],
   "source": []
  },
  {
   "cell_type": "markdown",
   "id": "8de66962",
   "metadata": {},
   "source": [
    "### Bài 5"
   ]
  },
  {
   "cell_type": "markdown",
   "id": "1e5c416d",
   "metadata": {},
   "source": [
    "Hãy viết hàm từ một list mã hóa, trả về list gốc của bài 4"
   ]
  },
  {
   "cell_type": "markdown",
   "id": "4881b7b0",
   "metadata": {},
   "source": [
    "#### Khai báo"
   ]
  },
  {
   "cell_type": "code",
   "execution_count": null,
   "id": "602c7b70",
   "metadata": {},
   "outputs": [],
   "source": [
    "D = {'đen': 0, 'vàng': 1, 'xanh': 2, 'đỏ': 3, 'hồng': 4}\n",
    "L = [0, 1, 2, 1, 2, 3, 4]\n",
    "\n",
    "def mahoanguoc(L_mahoa,D):\n",
    "    pass\n"
   ]
  },
  {
   "cell_type": "markdown",
   "id": "9a738638",
   "metadata": {},
   "source": [
    "#### Code"
   ]
  },
  {
   "cell_type": "code",
   "execution_count": 15,
   "id": "df4fb3a1",
   "metadata": {},
   "outputs": [
    {
     "name": "stdout",
     "output_type": "stream",
     "text": [
      "['đen', 'vàng', 'xanh', 'vàng', 'xanh', 'đỏ', 'hồng']\n",
      "['hồng', 'vàng', 'xanh', 'vàng', 'xanh', 'đỏ', 'đen']\n"
     ]
    }
   ],
   "source": [
    "D_mahoa_1 = {'đen': 0, 'vàng': 1, 'xanh': 2, 'đỏ': 3, 'hồng': 4}\n",
    "L_mahoa_1 = [0,1,2,1,2,3,4]\n",
    "D_mahoa_2 = {'đen': 0, 'vàng': 1, 'xanh': 2, 'đỏ': 3, 'hồng': 4}\n",
    "L_mahoa_2 = [0,1,2,1,2,3,4]\n",
    "def giaima(L,D):\n",
    "    L_giaima = []\n",
    "    for i in L:\n",
    "        for j in D:\n",
    "            if i == j:\n",
    "                L_giaima.append(D[j])\n",
    "    return L_giaima\n",
    "print(giaima(L_mahoa_1,D_mahoa_1))\n",
    "print(giaima(L_mahoa_2,D_mahoa_2))"
   ]
  },
  {
   "cell_type": "markdown",
   "id": "1a982dc5",
   "metadata": {},
   "source": [
    "### Bài 6"
   ]
  },
  {
   "cell_type": "markdown",
   "id": "726f6302",
   "metadata": {},
   "source": [
    "Một khách sạn có N phòng đôi được đánh số từ 1 đến N và M đoàn khách.\n",
    "\n",
    "Với mỗi đoàn khách, ta xếp mỗi cặp khách của đoàn vào một phòng trống theo thứ tự phòng tăng dần.\n",
    "\n",
    "Nếu đoàn khách có số người lẻ thì người khách cuối cùng được xếp vào một phòng trống tiếp theo.\n",
    "\n",
    "Nếu đã hết phòng còn trống thì ta sẽ xếp khách vào những phòng mới chỉ có 1 khách theo thứ tự phòng tăng dần.\n",
    "\n",
    "In ra số khách của mỗi phòng sau khi xếp\n",
    "\n",
    "Giả sử không có 2 đoàn khách nào đến cùng một lúc.\n",
    "\n",
    "#### Ví dụ 1:\n",
    "\n",
    "N = 7, M = 3\n",
    "\n",
    "doankhach = [3,7,3]\n",
    "\n",
    "Ta in: 2, 2, 2, 2, 2, 1, 2\n",
    "\n",
    "#### Ví dụ 2:\n",
    "\n",
    "N = 5, M = 3\n",
    "\n",
    "doankhach = [2,3,2]\n",
    "\n",
    "Ta in: 2, 2, 1, 2, 0"
   ]
  },
  {
   "cell_type": "markdown",
   "id": "e3346872",
   "metadata": {},
   "source": [
    "#### Khai báo"
   ]
  },
  {
   "cell_type": "code",
   "execution_count": 25,
   "id": "9f73da45",
   "metadata": {},
   "outputs": [
    {
     "name": "stdout",
     "output_type": "stream",
     "text": [
      "[2, 2, 1, 2, 0]\n"
     ]
    }
   ],
   "source": [
    "N = 5\n",
    "M = 3\n",
    "\n",
    "doankhach = [2,3,2]\n",
    "L_khach_trong_phong = []\n",
    "sttphong = 0\n",
    "\n",
    "for dk in doankhach:\n",
    "    while dk != 0:\n",
    "        if len(L_khach_trong_phong) < N: ## điều kiện còn phòng là gì?\n",
    "            if dk >= 2:\n",
    "                L_khach_trong_phong.append(2)\n",
    "                dk -= 2\n",
    "            elif dk == 1:\n",
    "                L_khach_trong_phong.append(1)\n",
    "                dk -= 1\n",
    "        else:            \n",
    "            if L_khach_trong_phong[sttphong] == 1:\n",
    "                L_khach_trong_phong[sttphong] = 2\n",
    "                dk -= 1\n",
    "            sttphong += 1\n",
    "            \n",
    "L_khach_trong_phong += [0]*(N-len(L_khach_trong_phong))\n",
    "            \n",
    "print(L_khach_trong_phong)"
   ]
  },
  {
   "cell_type": "code",
   "execution_count": null,
   "id": "d7b00561",
   "metadata": {},
   "outputs": [],
   "source": [
    "inhello = False\n",
    "for i in range(10):\n",
    "    if inhello == False:\n",
    "        inhello = True\n",
    "        print(\"hello\")"
   ]
  },
  {
   "cell_type": "markdown",
   "id": "8f3d747c",
   "metadata": {},
   "source": [
    "#### Code"
   ]
  },
  {
   "cell_type": "code",
   "execution_count": null,
   "id": "b19e56c9",
   "metadata": {},
   "outputs": [],
   "source": []
  }
 ],
 "metadata": {
  "kernelspec": {
   "display_name": "Python 3 (ipykernel)",
   "language": "python",
   "name": "python3"
  },
  "language_info": {
   "codemirror_mode": {
    "name": "ipython",
    "version": 3
   },
   "file_extension": ".py",
   "mimetype": "text/x-python",
   "name": "python",
   "nbconvert_exporter": "python",
   "pygments_lexer": "ipython3",
   "version": "3.9.12"
  }
 },
 "nbformat": 4,
 "nbformat_minor": 5
}
