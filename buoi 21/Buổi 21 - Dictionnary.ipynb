{
 "cells": [
  {
   "cell_type": "markdown",
   "id": "a20f121d",
   "metadata": {},
   "source": [
    "# Dictionnary\n",
    "\n",
    "Dictionnary là một dạng list đặc biệt, nó khác list ở chỗ không lưu trữ các giá trị theo chỉ số vị trí, thay vào đó Dictionary sẽ lưu trữ các giá trị theo key\n",
    "\n",
    "##### Tài liệu tham khảo: https://www.w3schools.com/python/python_dictionaries.asp\n",
    "\n",
    "### Khai báo một dictionary\n",
    "\n",
    "Cú pháp:\n",
    "\n",
    "`<tên dictionary> = {}`\n",
    "\n",
    "### Dictionary được khai báo bằng hai dấu hoặc nhọn\n",
    "\n",
    "Đây là một dictionary rỗng\n",
    "\n",
    "<b>Ví dụ 1:</b>\n",
    "\n",
    "`a = {}`\n",
    "\n",
    "a là một dictionary rỗng\n",
    "\n",
    "<b>Ví dụ 2:</b>\n",
    "\n",
    "`a = {\"tên\": \"Nguyễn Tâm Điền\", \"tuổi\": 13, \"giới tính\": \"Nam\"}`\n",
    "\n",
    "b là một dictionary có 3 key, mõi key đều có một giá trị riêng biệt\n",
    "\n",
    "Key có thể mang kiểu dữ liệu là chuỗi hoặc số\n",
    "\n",
    "##### Mỗi một key đều phải có giá trị của riêng nó, không thể khai báo key không có giá trị\n",
    "\n",
    "<b>Hãy khai báo một dictionary có 3 phần tử</b>"
   ]
  },
  {
   "cell_type": "code",
   "execution_count": 1,
   "id": "d835f461",
   "metadata": {},
   "outputs": [
    {
     "name": "stdout",
     "output_type": "stream",
     "text": [
      "Nguyễn Tâm Điền\n"
     ]
    }
   ],
   "source": [
    "L_a = [(\"tên\",\"Nguyễn Tâm Điền\"),(\"tuổi\",13),(\"giới tính\",\"Nam\")]\n",
    "D_a = {'tên':\"Nguyễn Tâm Điền\",\"tuổi\":13,\"giới tính\":\"Nam\"}\n",
    "\n",
    "print(D_a['tên'])"
   ]
  },
  {
   "cell_type": "code",
   "execution_count": 2,
   "id": "a6df04ee",
   "metadata": {},
   "outputs": [],
   "source": [
    "L_data = [{'tên':\"Nguyễn Tâm Điền\",\"tuổi\":13,\"giới tính\":\"Nam\"},\n",
    "          {'tên':\"Nguyễn Minh Tuấn\",\"tuổi\":23,\"giới tính\":\"Nam\"},\n",
    "          {'tên':\"Trần Yến Quyên\",\"tuổi\":18,\"giới tính\":\"Nữ\"}]\n",
    "\n",
    "D_data = {\"tên\":[\"Nguyễn Tâm Điền\",\"Nguyễn Minh Tuấn\",\"Trần Yến Quyên\"],\n",
    "         \"tuổi\":[13,23,18],\"giới tính\":[\"Nam\",\"Nam\",\"Nữ\"]}"
   ]
  },
  {
   "cell_type": "code",
   "execution_count": 4,
   "id": "54bababd",
   "metadata": {},
   "outputs": [
    {
     "name": "stdout",
     "output_type": "stream",
     "text": [
      "{'tên': 'Nguyễn Tâm Điền', 'tuổi': 13, 'giới tính': 'Nam', 'số nhà': 13}\n"
     ]
    }
   ],
   "source": [
    "D_a = {'tên':\"Nguyễn Tâm Điền\",\"tuổi\":13,\"giới tính\":\"Nam\",'tên':\"Nguyễn Văn A\"}\n",
    "print(D_a)"
   ]
  },
  {
   "cell_type": "code",
   "execution_count": 5,
   "id": "a55f469e",
   "metadata": {},
   "outputs": [
    {
     "name": "stdout",
     "output_type": "stream",
     "text": [
      "{'tên': 'Nguyễn Tâm Điền', 'tuổi': 13, 'giới tính': 'Nam', 'số nhà': 13}\n"
     ]
    }
   ],
   "source": [
    "D_a = {'tên':\"Nguyễn Tâm Điền\",\"tuổi\":13,\"giới tính\":\"Nam\",'số nhà':13}\n",
    "print(D_a)"
   ]
  },
  {
   "cell_type": "code",
   "execution_count": 9,
   "id": "1c262449",
   "metadata": {},
   "outputs": [
    {
     "name": "stdout",
     "output_type": "stream",
     "text": [
      "{'tên': 'Nguyễn Tâm Điền', 'tuổi': 13, 'giới tính': 'Nam', 'Tên': 'Nguyễn Văn A'}\n",
      "Nguyễn Tâm Điền\n",
      "Nguyễn Văn A\n"
     ]
    }
   ],
   "source": [
    "D_a = {'tên':\"Nguyễn Tâm Điền\",\"tuổi\":13,\"giới tính\":\"Nam\",'Tên':'Nguyễn Văn A'}\n",
    "print(D_a)\n",
    "print(D_a['tên'])\n",
    "print(D_a['Tên'])"
   ]
  },
  {
   "cell_type": "markdown",
   "id": "be1e321c",
   "metadata": {},
   "source": [
    "### Thêm key vào dictionary\n",
    "\n",
    "Cú pháp:\n",
    "\n",
    "`<tên dictionary>[<key>] = <giá trị>`\n",
    "\n",
    "<b>Ví dụ 1:</b>\n",
    "\n",
    "`a = {}\n",
    "a[\"tên\"] = \"NTD\"`\n",
    "\n",
    "a là một dictionary có một phần tử, phần tử đó có key là \"tên\" và giá trị của key đó là \"NTD\"\n",
    "\n",
    "##### Lưu ý, nếu trong trường hợp đã tồn tại key trong dictionary, dùng lệnh trên sẽ thay đổi giá trị key đó (không phải thêm key khác vào)\n",
    "\n",
    "<b>Ví dụ 2:</b>\n",
    "\n",
    "`a = {}\n",
    "a[\"tên\"] = \"NTD\"\n",
    "a[\"tên\"] = \"Nguyễn Tâm Điền\"`\n",
    "\n",
    "a vẫn là một dictionary có một phần tử, phần tử đó có key là \"tên\" và giá trị của key đó là \"Nguyễn Tâm Điền\"\n",
    "\n",
    "<b>Hãy khai báo một dictionary không có phần tử nào, sau đó thêm một phần tử vào dictionary đó</b>"
   ]
  },
  {
   "cell_type": "code",
   "execution_count": 11,
   "id": "7573ebef",
   "metadata": {},
   "outputs": [
    {
     "name": "stdout",
     "output_type": "stream",
     "text": [
      "['Nguyễn Tâm Điền', 13, 'Nam', 13]\n"
     ]
    }
   ],
   "source": [
    "L_a = [\"Nguyễn Tâm Điền\",13,\"Nam\"]\n",
    "L_a.append(13)\n",
    "print(L_a)"
   ]
  },
  {
   "cell_type": "code",
   "execution_count": 15,
   "id": "9f884668",
   "metadata": {},
   "outputs": [
    {
     "ename": "IndexError",
     "evalue": "list assignment index out of range",
     "output_type": "error",
     "traceback": [
      "\u001b[1;31m---------------------------------------------------------------------------\u001b[0m",
      "\u001b[1;31mIndexError\u001b[0m                                Traceback (most recent call last)",
      "Cell \u001b[1;32mIn [15], line 2\u001b[0m\n\u001b[0;32m      1\u001b[0m L_a \u001b[38;5;241m=\u001b[39m [\u001b[38;5;124m\"\u001b[39m\u001b[38;5;124mNguyễn Tâm Điền\u001b[39m\u001b[38;5;124m\"\u001b[39m,\u001b[38;5;241m13\u001b[39m,\u001b[38;5;124m\"\u001b[39m\u001b[38;5;124mNam\u001b[39m\u001b[38;5;124m\"\u001b[39m]\n\u001b[1;32m----> 2\u001b[0m \u001b[43mL_a\u001b[49m\u001b[43m[\u001b[49m\u001b[38;5;241;43m3\u001b[39;49m\u001b[43m]\u001b[49m \u001b[38;5;241m=\u001b[39m \u001b[38;5;241m13\u001b[39m\n\u001b[0;32m      3\u001b[0m \u001b[38;5;28mprint\u001b[39m(L_a)\n",
      "\u001b[1;31mIndexError\u001b[0m: list assignment index out of range"
     ]
    }
   ],
   "source": [
    "L_a = [\"Nguyễn Tâm Điền\",13,\"Nam\"]\n",
    "L_a[3] = 13\n",
    "print(L_a)"
   ]
  },
  {
   "cell_type": "code",
   "execution_count": 13,
   "id": "e241f91e",
   "metadata": {},
   "outputs": [
    {
     "name": "stdout",
     "output_type": "stream",
     "text": [
      "{'tên': 'Nguyễn Tâm Điền', 'tuổi': 13, 'giới tính': 'Nam', 'số nhà': 13}\n"
     ]
    }
   ],
   "source": [
    "D_a = {'tên':\"Nguyễn Tâm Điền\",\"tuổi\":13,\"giới tính\":\"Nam\"}\n",
    "D_a['số nhà'] = 13\n",
    "print(D_a)"
   ]
  },
  {
   "cell_type": "code",
   "execution_count": 16,
   "id": "f08a662b",
   "metadata": {},
   "outputs": [
    {
     "name": "stdout",
     "output_type": "stream",
     "text": [
      "{'tên': 'Nguyễn Văn A', 'tuổi': 13, 'giới tính': 'Nam'}\n"
     ]
    }
   ],
   "source": [
    "D_a = {'tên':\"Nguyễn Tâm Điền\",\"tuổi\":13,\"giới tính\":\"Nam\"}\n",
    "D_a['tên'] = \"Nguyễn Văn A\"\n",
    "print(D_a)"
   ]
  },
  {
   "cell_type": "markdown",
   "id": "65c98825",
   "metadata": {},
   "source": [
    "### Truy xuất phần tử trong dictionary\n",
    "\n",
    "Cú pháp:\n",
    "\n",
    "`<tên dictionary>[<key>]`\n",
    "\n",
    "<b>Ví dụ:</b>\n",
    "\n",
    "`a = {\"tên\": \"Nguyễn Tâm Điền\", \"tuổi\": 13, \"giới tính\": \"Nam\"}\n",
    "print(a[\"tên\"])`\n",
    "\n",
    "Màn hình sẽ in: Nguyễn Tâm Điền\n",
    "\n",
    "<b>Hãy khai báo một dictionary rồi in ra màn hình một phần tử bất kỳ trong dictionary đó</b>"
   ]
  },
  {
   "cell_type": "code",
   "execution_count": 17,
   "id": "f6159385",
   "metadata": {},
   "outputs": [
    {
     "name": "stdout",
     "output_type": "stream",
     "text": [
      "Nguyễn Tâm Điền\n"
     ]
    }
   ],
   "source": [
    "D_a = {\"tên\": \"Nguyễn Tâm Điền\", \"tuổi\": 13, \"giới tính\": \"Nam\"}\n",
    "\n",
    "print(D_a[\"tên\"])"
   ]
  },
  {
   "cell_type": "code",
   "execution_count": 18,
   "id": "75f3d262",
   "metadata": {},
   "outputs": [
    {
     "name": "stdout",
     "output_type": "stream",
     "text": [
      "{'tên': 'Nguyễn Văn B', 'tuổi': 13, 'giới tính': 'Nam'}\n",
      "{'tên': 'Nguyễn Văn B', 'tuổi': 13, 'giới tính': 'Nam'}\n"
     ]
    }
   ],
   "source": [
    "D_a = {\"tên\": \"Nguyễn Tâm Điền\", \"tuổi\": 13, \"giới tính\": \"Nam\"}\n",
    "D_b = D_a\n",
    "\n",
    "D_a['tên'] = \"Nguyễn Văn B\"\n",
    "\n",
    "print(D_a)\n",
    "print(D_b)"
   ]
  },
  {
   "cell_type": "code",
   "execution_count": 19,
   "id": "610dc8d1",
   "metadata": {},
   "outputs": [
    {
     "name": "stdout",
     "output_type": "stream",
     "text": [
      "{'tên': 'Nguyễn Văn B', 'tuổi': 13, 'giới tính': 'Nam'}\n",
      "{'tên': 'Nguyễn Tâm Điền', 'tuổi': 13, 'giới tính': 'Nam'}\n"
     ]
    }
   ],
   "source": [
    "D_a = {\"tên\": \"Nguyễn Tâm Điền\", \"tuổi\": 13, \"giới tính\": \"Nam\"}\n",
    "D_b = D_a.copy()\n",
    "\n",
    "D_a['tên'] = \"Nguyễn Văn B\"\n",
    "\n",
    "print(D_a)\n",
    "print(D_b)"
   ]
  },
  {
   "cell_type": "markdown",
   "id": "afa92f87",
   "metadata": {},
   "source": [
    "### Sao chép dictionary\n",
    "\n",
    "##### Việc sao chép dictionary được thực hiện hệt như sao chép list, chúng ta cần phải sử dụng lệnh copy()"
   ]
  },
  {
   "cell_type": "markdown",
   "id": "ef7e800d",
   "metadata": {},
   "source": [
    "### Duyệt dictionary bằng lệnh for\n",
    "\n",
    "Cú pháp:\n",
    "\n",
    "`for <tên biến> in <tên dictionary>:`\n",
    "\n",
    "Biến sẽ có giá trị là từng key trong dictionary\n",
    "\n",
    "<b>Ví dụ:</b>\n",
    "\n",
    "`a = {\"tên\": \"Nguyễn Tâm Điền\", \"tuổi\": 13, \"giới tính\": \"Nam\"}\n",
    "for i in a:\n",
    "    print(i)`\n",
    "    \n",
    "Màn hình sẽ in ra:\n",
    "\n",
    "tên\n",
    "\n",
    "tuổi\n",
    "\n",
    "giới tính\n",
    "\n",
    "<b>Hãy khai báo một dictionary rồi in ra màn hình toàn bộ giá trị trong dictionary đó</b>"
   ]
  },
  {
   "cell_type": "code",
   "execution_count": 24,
   "id": "3bdd1508",
   "metadata": {},
   "outputs": [
    {
     "name": "stdout",
     "output_type": "stream",
     "text": [
      "tên Nguyễn Tâm Điền\n",
      "tuổi 13\n",
      "giới tính Nam\n"
     ]
    }
   ],
   "source": [
    "D_a = {\"tên\": \"Nguyễn Tâm Điền\", \"tuổi\": 13, \"giới tính\": \"Nam\"}\n",
    "\n",
    "for i in D_a: ## i là key\n",
    "    print(i,D_a[i])"
   ]
  },
  {
   "cell_type": "code",
   "execution_count": 27,
   "id": "327209d0",
   "metadata": {},
   "outputs": [
    {
     "name": "stdout",
     "output_type": "stream",
     "text": [
      "{'tuổi': 13, 'giới tính': 'Nam'}\n"
     ]
    }
   ],
   "source": [
    "D_a = {\"tên\": \"Nguyễn Tâm Điền\", \"tuổi\": 13, \"giới tính\": \"Nam\"}\n",
    "D_a.pop(\"tên\")\n",
    "print(D_a)"
   ]
  },
  {
   "cell_type": "code",
   "execution_count": 32,
   "id": "5b3145fe",
   "metadata": {},
   "outputs": [
    {
     "name": "stdout",
     "output_type": "stream",
     "text": [
      "['Nguyễn Tâm Điền', 'Nguyễn Minh Tuấn', 'Trần Yến Quyên']\n"
     ]
    }
   ],
   "source": [
    "D_data = {\"tên\":[\"Nguyễn Tâm Điền\",\"Nguyễn Minh Tuấn\",\"Trần Yến Quyên\"],\n",
    "         \"tuổi\":[13,23,18],\"giới tính\":[\"Nam\",\"Nam\",\"Nữ\"]}\n",
    "\n",
    "print(D_data[\"tên\"])"
   ]
  },
  {
   "cell_type": "markdown",
   "id": "1982f4b1",
   "metadata": {},
   "source": [
    "### Bài tập"
   ]
  },
  {
   "cell_type": "markdown",
   "id": "3060a950",
   "metadata": {},
   "source": [
    "Viết chương trình đếm số lần xuất hiện của một từ trong một văn bản nhất định"
   ]
  },
  {
   "cell_type": "code",
   "execution_count": 39,
   "id": "af64832c",
   "metadata": {},
   "outputs": [
    {
     "name": "stdout",
     "output_type": "stream",
     "text": [
      "['hắn', 'vừa', 'đi', 'vừa', 'chửi', 'bao', 'giờ', 'cũng', 'thế', 'cứ', 'rượu', 'xong', 'là', 'hắn', 'chửi', 'bắt', 'đầu', 'chửi', 'trời', 'có', 'hề', 'gì', 'trời', 'có', 'của', 'riêng', 'nhà', 'nào', 'rồi', 'hắn', 'chửi', 'đời', 'thế', 'cũng', 'chẳng', 'sao', 'đời', 'là', 'tất', 'cả', 'nhưng', 'cũng', 'chẳng', 'là', 'ai', 'tức', 'mình', 'hắn', 'chửi', 'ngay', 'tất', 'cả', 'làng', 'vũ', 'đại', 'nhưng', 'cả', 'làng', 'vũ', 'đại', 'ai', 'cũng', 'nhủ', 'chắc', 'nó', 'trừ', 'mình', 'ra', 'không', 'ai', 'lên', 'tiếng', 'cả', 'tức', 'thật', 'ồ', 'thế', 'này', 'thì', 'tức', 'thật', 'tức', 'chết', 'đi', 'được', 'mất', 'đã', 'thế', 'hắn', 'phải', 'chửi', 'cha', 'đứa', 'nào', 'không', 'chửi', 'nhau', 'với', 'hắn', 'nhưng', 'cũng', 'không', 'ai', 'ra', 'điều', 'mẹ', 'kiếp', 'thế', 'thì', 'có', 'phí', 'rượu', 'không', 'thế', 'thì', 'có', 'khổ', 'hắn', 'không', 'không', 'biết', 'đứa', 'chết', 'mẹ', 'nào', 'đẻ', 'ra', 'thân', 'hắn', 'cho', 'hắn', 'khổ', 'đến', 'nông', 'nỗi', 'này', 'a', 'ha', 'phải', 'đấy', 'hắn', 'cứ', 'thế', 'mà', 'chửi', 'hắn', 'chửi', 'đứa', 'chết', 'mẹ', 'nào', 'đẻ', 'ra', 'thân', 'hắn', 'đẻ', 'ra', 'cái', 'thằng', 'chí', 'phèo', 'mà', 'có', 'trời', 'biết', 'hắn', 'không', 'biết', 'cả', 'làng', 'vũ', 'đại', 'cũng', 'không', 'ai', 'biết', 'một', 'anh', 'đi', 'thả', 'ống', 'lươn', 'một', 'buổi', 'sáng', 'tinh', 'sương', 'đã', 'thấy', 'hắn', 'trần', 'truồng', 'và', 'xám', 'ngắt', 'trong', 'cái', 'váy', 'đụp', 'để', 'bên', 'một', 'lò', 'gạch', 'bỏ', 'không', 'anh', 'ta', 'rước', 'lấy', 'và', 'đem', 'cho', 'một', 'người', 'đàn', 'bà', 'góa', 'mù', 'người', 'đàn', 'bà', 'góa', 'mù', 'này', 'bán', 'hắn', 'cho', 'một', 'bác', 'phó', 'cối', 'không', 'con', 'và', 'khi', 'bác', 'phó', 'cối', 'này', 'chết', 'thì', 'hắn', 'bơ', 'vơ', 'hết', 'đi', 'ở', 'cho', 'nhà', 'này', 'lại', 'đi', 'ở', 'cho', 'nhà', 'nọ', 'năm', 'hai', 'mươi', 'tuổi', 'hắn', 'làm', 'canh', 'điền', 'cho', 'ông', 'lý', 'kiến', 'bây', 'giờ', 'cụ', 'bá', 'kiến', 'ăn', 'tiên', 'chỉ', 'làng', 'hình', 'như', 'có', 'mấy', 'lần', 'bà', 'ba', 'nhà', 'ông', 'lý', 'trẻ', 'lắm', 'mà', 'lại', 'hay', 'ốm', 'lửng', 'bắt', 'hắn', 'bóp', 'chân', 'hay', 'xoa', 'bụng', 'đấm', 'lưng', 'gì', 'đấy', 'người', 'ta', 'bảo', 'ông', 'lý', 'ra', 'đình', 'thì', 'hách', 'dịch', 'cả', 'làng', 'phải', 'sợ', 'mà', 'về', 'nhà', 'phải', 'sợ', 'cái', 'bà', 'ba', 'còn', 'trẻ', 'này', 'người', 'bà', 'ấy', 'phốp', 'pháp', 'má', 'bà', 'ấy', 'hây', 'hây', 'mà', 'ông', 'lý', 'thì', 'hay', 'đau', 'lưng', 'lắm', 'người', 'có', 'bệnh', 'đau', 'lưng', 'thì', 'hay', 'sợ', 'vợ', 'mà', 'chúa', 'đời', 'là', 'khoẻ', 'ghen', 'có', 'người', 'bảo', 'ông', 'lý', 'ghen', 'anh', 'canh', 'điền', 'khoẻ', 'mạnh', 'mà', 'sợ', 'bà', 'ba', 'không', 'dám', 'nói', 'có', 'người', 'thì', 'bảo', 'anh', 'canh', 'điền', 'ấy', 'được', 'bà', 'ba', 'quyền', 'thu', 'quyền', 'bổ', 'trong', 'nhà', 'tin', 'cẩn', 'nên', 'lấy', 'trộm', 'tiền', 'trộm', 'thóc', 'nhiều', 'mỗi', 'người', 'nói', 'một', 'cách', 'chẳng', 'biết', 'đâu', 'mà', 'lần', 'chỉ', 'biết', 'một', 'hôm', 'chí', 'bị', 'giải', 'huyện', 'rồi', 'nghe', 'đâu', 'phải', 'đi', 'tù', 'không', 'biết', 'tù', 'mấy', 'năm', 'nhưng', 'hắn', 'đi', 'biệt', 'tăm', 'bảy', 'tám', 'năm', 'rồi', 'một', 'hôm', 'hắn', 'lại', 'lù', 'lù', 'ở', 'đâu', 'lần', 'về', 'hắn', 'về', 'lần', 'này', 'trông', 'khác', 'hẳn', 'mới', 'đầu', 'chẳng', 'ai', 'biết', 'hắn', 'là', 'ai', 'trông', 'đặc', 'như', 'thằng', 'sắng', 'cá', 'cái', 'đầu', 'thì', 'trọc', 'lốc', 'cái', 'răng', 'cạo', 'trắng', 'hớn', 'cái', 'mặt', 'thì', 'đen', 'mà', 'rất', 'cơng', 'cơng', 'hai', 'mắt', 'gườm', 'gườm', 'trông', 'gớm', 'chết', 'hắn', 'mặc', 'quần', 'áo', 'nái', 'đen', 'với', 'cái', 'áo', 'tây', 'vàng', 'cái', 'ngực', 'phanh', 'đầy', 'những', 'nét', 'chạm', 'trổ', 'rồng', 'phượng', 'với', 'một', 'ông', 'tướng', 'cầm', 'chùy', 'cả', 'hai', 'cánh', 'tay', 'cũng', 'thế', 'trông', 'gớm', 'chết', 'hắn', 'về', 'hôm', 'trước', 'hôm', 'sau', 'đã', 'thấy', 'ngồi', 'ở', 'chợ', 'uống', 'rượu', 'với', 'thịt', 'chó', 'suốt', 'từ', 'trưa', 'đến', 'xế', 'chiều', 'rồi', 'say', 'khướt', 'hắn', 'xách', 'một', 'cái', 'vỏ', 'chai', 'đến', 'cổng', 'nhà', 'bá', 'kiến', 'gọi', 'tận', 'tên', 'tục', 'ra', 'mà', 'chửi', 'cụ', 'bá', 'không', 'có', 'nhà', 'thấy', 'điệu', 'bộ', 'hung', 'hăng', 'của', 'hắn', 'bà', 'cả', 'đùn', 'bà', 'hai', 'bà', 'hai', 'thúc', 'bà', 'ba', 'bà', 'ba', 'gọi', 'bà', 'tư', 'nhưng', 'kết', 'cục', 'chẳng', 'bà', 'nào', 'dám', 'ra', 'nói', 'với', 'hắn', 'một', 'vài', 'lời', 'phải', 'chăng', 'mắc', 'cái', 'phải', 'cái', 'thằng', 'liều', 'lĩnh', 'quá', 'nó', 'lại', 'say', 'rượu', 'tay', 'nó', 'lại', 'lăm', 'lăm', 'cầm', 'một', 'cái', 'vỏ', 'chai', 'mà', 'nhà', 'lúc', 'ấy', 'toàn', 'đàn', 'bà', 'cả', 'thôi', 'thì', 'cứ', 'đóng', 'cái', 'cổng', 'cho', 'thật', 'chặt', 'rồi', 'mặc', 'thây', 'cha', 'nó', 'nó', 'chửi', 'thì', 'tai', 'liền', 'miệng', 'đấy', 'chửi', 'thì', 'lại', 'nghe', 'thành', 'thử', 'chỉ', 'có', 'ba', 'con', 'chó', 'dữ', 'với', 'một', 'thằng', 'say', 'rượu', 'thật', 'là', 'ầm', 'ỹ', 'hàng', 'xóm', 'phải', 'một', 'bữa', 'điếc', 'tai', 'nhưng', 'có', 'lẽ', 'trong', 'bụng', 'thì', 'họ', 'hả', 'xưa', 'nay', 'họ', 'mới', 'chỉ', 'được', 'nghe', 'bà', 'cả', 'bà', 'hai', 'bà', 'ba', 'bà', 'tư', 'nhà', 'cụ', 'bá', 'chửi', 'người', 'ta', 'bây', 'giờ', 'họ', 'mới', 'thấy', 'người', 'ta', 'chửi', 'lại', 'cả', 'nhà', 'cụ', 'bá', 'mà', 'chửi', 'mới', 'sướng', 'miệng', 'làm', 'sao', 'mới', 'ngoa', 'ngắt', 'làm', 'sao', 'họ', 'bảo', 'nhau', 'phen', 'này', 'cha', 'con', 'thằng', 'bá', 'kiến', 'đố', 'còn', 'dám', 'vác', 'mặt', 'đi', 'đâu', 'nữa', 'mồ', 'mả', 'tổ', 'tiên', 'đến', 'lộn', 'lên', 'mất', 'cũng', 'có', 'người', 'hiền', 'lành', 'hơn', 'bảo', 'phúc', 'đời', 'nhà', 'nó', 'chắc', 'ông', 'lý', 'không', 'có', 'nhà', 'ông', 'lý', 'đây', 'là', 'ông', 'lý', 'cường', 'con', 'giai', 'cụ', 'bá', 'nổi', 'tiếng', 'là', 'hách', 'dịch', 'coi', 'người', 'như', 'rơm', 'rác', 'phải', 'ông', 'lý', 'cường', 'thử', 'có', 'nhà', 'xem', 'nào', 'quả', 'nhiên', 'họ', 'nói', 'có', 'sai', 'đâu', 'đấy', 'có', 'tiếng', 'người', 'sang', 'sảng', 'quát', 'mày', 'muốn', 'lôi', 'thôi', 'gì', 'cái', 'thằng', 'không', 'cha', 'không', 'mẹ', 'này', 'mày', 'muốn', 'lôi', 'thôi', 'gì', 'đã', 'bảo', 'mà', 'cái', 'tiếng', 'quát', 'tháo', 'kia', 'là', 'tiếng', 'lý', 'cường', 'lý', 'cường', 'đã', 'về', 'lý', 'cường', 'đã', 'về', 'phải', 'biết', 'a', 'ha', 'một', 'cái', 'tát', 'rất', 'kêu', 'ôi', 'cái', 'gì', 'thế', 'này', 'tiếng', 'đấm', 'tiếng', 'đá', 'nhau', 'bình', 'bịch', 'thôi', 'cứ', 'gọi', 'là', 'tan', 'xương', 'bỗng', 'choang', 'một', 'cái', 'thôi', 'phải', 'rồi', 'hẳn', 'đập', 'cái', 'chai', 'vào', 'cột', 'cổng', 'ồ', 'hắn', 'kêu', 'hắn', 'vừa', 'chửi', 'vừa', 'kêu', 'làng', 'như', 'bị', 'người', 'ta', 'cắt', 'họng', 'ồ', 'hắn', 'kêu', 'ối', 'làng', 'nước', 'ơi', 'cứu', 'tôi', 'với', 'ối', 'làng', 'nước', 'ôi', 'bố', 'con', 'thằng', 'bá', 'kiến', 'nó', 'đâm', 'chết', 'tôi', 'thằng', 'lý', 'cường', 'nó', 'đâm', 'chết', 'tôi', 'rồi', 'làng', 'nước', 'ôi', 'và', 'họ', 'thấy', 'chí', 'phèo', 'lăn', 'lộn', 'dưới', 'đất', 'vừa', 'kêu', 'vừa', 'lấy', 'mảnh', 'chai', 'cào', 'vào', 'mặt', 'máu', 'ra', 'loe', 'loét', 'trông', 'gớm', 'quá', 'mấy', 'con', 'chó', 'xông', 'vào', 'quanh', 'hắn', 'sủa', 'rất', 'hăng', 'lý', 'cường', 'hơi', 'tái', 'mặt', 'đứng', 'nhìn', 'mà', 'cười', 'nhạt', 'cười', 'khinh', 'bỉ', 'hừ', 'ngỡ', 'là', 'gì', 'chẳng', 'hoá', 'ra', 'nằm', 'ăn', 'vạ', 'thì', 'ra', 'hắn', 'định', 'đến', 'đây', 'nằm', 'vạ', 'người', 'ta', 'tuôn', 'đến', 'xem', 'mấy', 'cái', 'ngõ', 'tối', 'xung', 'quanh', 'đùn', 'ra', 'biết', 'bao', 'nhiêu', 'là', 'người', 'thật', 'ồn', 'ào', 'như', 'chợ', 'bà', 'cả', 'bà', 'hai', 'bà', 'ba', 'bà', 'tư', 'nhà', 'cụ', 'bá', 'cũng', 'vững', 'dạ', 'vì', 'có', 'anh', 'lý', 'cũng', 'xưng', 'xỉa', 'ra', 'chửi', 'góp', 'thật', 'ra', 'các', 'bà', 'muốn', 'xem', 'chí', 'phèo', 'ra', 'làm', 'sao', 'không', 'khéo', 'nó', 'có', 'ý', 'gieo', 'vạ', 'cho', 'cụ', 'ông', 'phen', 'này', 'nhưng', 'kìa', 'cụ', 'ông', 'đã', 'về', 'cụ', 'cất', 'tiếng', 'rất', 'sang', 'hỏi', 'cái', 'gì', 'mà', 'đông', 'như', 'thế', 'này', 'chỗ', 'này', 'lạy', 'cụ', 'chỗ', 'kia', 'lạy', 'cụ', 'người', 'ta', 'kính', 'cẩn', 'giãn', 'ra', 'và', 'chí', 'phèo', 'bỗng', 'nằm', 'dài', 'không', 'nhúc', 'nhích', 'rên', 'khe', 'khẽ', 'như', 'gần', 'chết', 'thoáng', 'nhìn', 'qua', 'đã', 'hiểu', 'cơ', 'sự', 'rồi', 'làm', 'lý', 'trưởng', 'rồi', 'chánh', 'tổng', 'bây', 'giờ', 'lại', 'đến', 'lượt', 'con', 'cụ', 'làm', 'lý', 'trưởng', 'những', 'việc', 'như', 'thế', 'này', 'cụ', 'không', 'lạ', 'gì', 'cụ', 'hãy', 'quát', 'mấy', 'bà', 'vợ', 'đang', 'xưng', 'xỉa', 'chực', 'tâng', 'công', 'với', 'chồng', 'các', 'bà', 'đi', 'vào', 'nhà', 'đàn', 'bà', 'chỉ', 'lôi', 'thôi', 'biết', 'gì', 'rồi', 'quay', 'lại', 'bọn', 'người', 'làng', 'cụ', 'dịu', 'giọng', 'hơn', 'một', 'chút', 'cả', 'các', 'ông', 'các', 'bà', 'nữa', 'về', 'đi', 'thôi', 'chứ', 'có', 'gì', 'mà', 'xúm', 'lại', 'như', 'thế', 'này', 'không', 'ai', 'nói', 'gì', 'người', 'ta', 'dần', 'dần', 'tản', 'đi', 'vì', 'nể', 'cụ', 'bá', 'cũng', 'có', 'nhưng', 'vì', 'nghĩ', 'đến', 'sự', 'yên', 'ổn', 'của', 'mình', 'cũng', 'có', 'người', 'nhà', 'quê', 'vốn', 'ghét', 'lôi', 'thôi', 'ai', 'dại', 'gì', 'đứng', 'ỳ', 'ra', 'đấy', 'có', 'làm', 'sao', 'họ', 'triệu', 'mình', 'đi', 'làm', 'chứng', 'sau', 'còn', 'trơ', 'lại', 'chí', 'phèo', 'và', 'cha', 'con', 'cụ', 'bá', 'bây', 'giờ', 'cụ', 'mới', 'lại', 'gần', 'hắn', 'khẽ', 'lay', 'và', 'gọi', 'anh', 'chí', 'ơi', 'sao', 'anh', 'lại', 'làm', 'ra', 'thế', 'chí', 'phèo', 'lim', 'dim', 'mắt', 'rên', 'lên', 'tao', 'chỉ', 'liều', 'chết', 'với', 'bố', 'con', 'nhà', 'mày', 'đấy', 'thôi', 'nhưng', 'tao', 'mà', 'chết', 'thì', 'có', 'thằng', 'sạt', 'nghiệp', 'mà', 'còn', 'rũ', 'tù', 'chưa', 'biết', 'chừng', 'cụ', 'bá', 'cười', 'nhạt', 'nhưng', 'tiếng', 'cười', 'giòn', 'giã', 'lắm', 'người', 'ta', 'bảo', 'cụ', 'hơn', 'người', 'cũng', 'chỉ', 'bởi', 'cái', 'cười', 'cái', 'anh', 'này', 'nói', 'mới', 'hay', 'ai', 'làm', 'gì', 'mà', 'anh', 'phải', 'chết', 'đời', 'người', 'chứ', 'có', 'phải', 'con', 'ngoé', 'đâu', 'lại', 'say', 'rồi', 'phải', 'không', 'rồi', 'đổi', 'giọng', 'cụ', 'thân', 'mật', 'hỏi', 'về', 'bao', 'giờ', 'thế', 'sao', 'không', 'vào', 'tôi', 'chơi', 'đi', 'vào', 'nhà', 'uống', 'nước', 'thấy', 'chí', 'phèo', 'không', 'nhúc', 'nhích', 'cụ', 'tiếp', 'luôn', 'nào', 'đứng', 'lên', 'đi', 'cứ', 'vào', 'đây', 'uống', 'nước', 'đã', 'có', 'cái', 'gì', 'ta', 'nói', 'chuyện', 'tử', 'tế', 'với', 'nhau', 'cần', 'gì', 'mà', 'phải', 'làm', 'thanh', 'động', 'lên', 'như', 'thế', 'người', 'ngoài', 'biết', 'mang', 'tiếng', 'cả', 'rồi', 'vừa', 'xốc', 'chí', 'phèo', 'cụ', 'vừa', 'phàn', 'nàn', 'khổ', 'quá', 'giá', 'có', 'tôi', 'ở', 'nhà', 'thì', 'đâu', 'đến', 'nỗi', 'ta', 'nói', 'chuyện', 'với', 'nhau', 'thế', 'nào', 'cũng', 'xong', 'người', 'lớn', 'cả', 'chỉ', 'một', 'câu', 'chuyện', 'với', 'nhau', 'là', 'đủ', 'chỉ', 'tại', 'thằng', 'lý', 'cường', 'nóng', 'tính', 'không', 'biết', 'nghĩ', 'trước', 'nghĩ', 'sau', 'ai', 'chứ', 'anh', 'với', 'nó', 'còn', 'có', 'họ', 'kia', 'đấy', 'chí', 'phèo', 'chẳng', 'biết', 'họ', 'hàng', 'ra', 'làm', 'sao', 'nhưng', 'cũng', 'thấy', 'lòng', 'nguôi', 'nguôi', 'hắn', 'cố', 'làm', 'ra', 'vẻ', 'nặng', 'nề', 'ngồi', 'lên', 'cụ', 'bá', 'biết', 'rằng', 'mình', 'đã', 'thắng', 'đưa', 'mắt', 'nháy', 'con', 'một', 'cái', 'cụ', 'quát', 'lý', 'cường', 'đâu', 'tội', 'mày', 'đáng', 'chết', 'không', 'bảo', 'người', 'ta', 'đun', 'nước', 'mau', 'lên', 'cụ', 'dắt', 'chí', 'phèo', 'đứng', 'dậy', 'giục', 'thêm', 'vài', 'tiếng', 'nữa', 'và', 'chí', 'phèo', 'chịu', 'đi', 'hắn', 'chỉ', 'cố', 'khập', 'khiễng', 'cái', 'chân', 'như', 'bị', 'què', 'là', 'vì', 'lúc', 'ấy', 'trong', 'người', 'hắn', 'rượu', 'đã', 'hơi', 'nhạt', 'rồi', 'không', 'còn', 'kêu', 'gào', 'chửi', 'bới', 'hắn', 'thấy', 'hình', 'như', 'không', 'còn', 'hăng', 'hái', 'nữa', 'sự', 'ngọt', 'ngào', 'làm', 'mềm', 'nhũn', 'vả', 'lại', 'những', 'người', 'đứng', 'xem', 'về', 'cả', 'rồi', 'hắn', 'thấy', 'hình', 'như', 'trơ', 'trọi', 'cái', 'sợ', 'cố', 'hữu', 'trong', 'lòng', 'thức', 'dậy', 'cái', 'sợ', 'xa', 'xôi', 'thuở', 'ngày', 'xưa', 'hắn', 'thấy', 'quả', 'là', 'táo', 'bạo', 'không', 'táo', 'bạo', 'mà', 'dám', 'gây', 'sự', 'với', 'cha', 'con', 'bá', 'kiến', 'bốn', 'đời', 'làm', 'tổng', 'lý', 'và', 'nghĩ', 'thế', 'hắn', 'thấy', 'hắn', 'cũng', 'oai', 'hắn', 'làm', 'cái', 'ông', 'gì', 'ở', 'làng', 'này', 'không', 'vây', 'cánh', 'không', 'họ', 'hàng', 'thân', 'thích', 'anh', 'em', 'không', 'có', 'đến', 'bố', 'mẹ', 'cũng', 'không', 'ờ', 'thế', 'mà', 'cũng', 'dám', 'độc', 'lực', 'chọi', 'nhau', 'với', 'lý', 'trưởng', 'chánh', 'tổng', 'bá', 'hộ', 'tiên', 'chỉ', 'làng', 'vũ', 'đại', 'chánh', 'hội', 'đồng', 'kỳ', 'hào', 'huyện', 'hào', 'bắc', 'kỳ', 'nhân', 'dân', 'đại', 'biểu', 'khét', 'tiếng', 'đến', 'cả', 'trong', 'hàng', 'huyện', 'thử', 'hỏi', 'đã', 'có', 'mặt', 'nào', 'trong', 'cái', 'làng', 'hơn', 'hai', 'nghìn', 'suất', 'đinh', 'này', 'làm', 'được', 'thế', 'kể', 'làm', 'rồi', 'có', 'chết', 'cũng', 'là', 'cam', 'tâm', 'vậy', 'mà', 'không', 'cái', 'cụ', 'bá', 'thét', 'ra', 'lửa', 'ấy', 'lại', 'xử', 'nhũn', 'mời', 'hắn', 'vào', 'nhà', 'xơi', 'nước', 'thôi', 'cũng', 'hả', 'đã', 'xử', 'nhũn', 'thì', 'hắn', 'vào', 'nhưng', 'bỗng', 'hắn', 'lại', 'hơi', 'ngần', 'ngại', 'biết', 'đâu', 'cái', 'lão', 'cáo', 'già', 'này', 'nó', 'lại', 'chả', 'lừa', 'hắn', 'vào', 'nhà', 'rồi', 'lôi', 'thôi', 'ồ', 'mà', 'thật', 'có', 'thể', 'như', 'thế', 'lắm', 'này', 'nó', 'hãy', 'lôi', 'ngay', 'mấy', 'cái', 'mâm', 'cái', 'nồi', 'hay', 'đồ', 'vàng', 'đồ', 'bạc', 'ra', 'khoác', 'vào', 'cổ', 'hắn', 'rồi', 'cho', 'vợ', 'ra', 'kêu', 'làng', 'lên', 'rồi', 'cột', 'cổ', 'hắn', 'vào', 'chần', 'cho', 'một', 'trận', 'om', 'xương', 'rồi', 'vu', 'cho', 'là', 'ăn', 'cướp', 'thì', 'sao', 'cái', 'thằng', 'bá', 'kiến', 'này', 'già', 'đời', 'đục', 'khoét', 'còn', 'đớn', 'cái', 'nước', 'gì', 'mà', 'chịu', 'lép', 'như', 'trấu', 'thế', 'thôi', 'dại', 'gì', 'mà', 'vào', 'miệng', 'cọp', 'hắn', 'cứ', 'đứng', 'đây', 'này', 'cứ', 'lăn', 'ra', 'đây', 'này', 'lại', 'kêu', 'toáng', 'lên', 'xem', 'nào', 'nhưng', 'nghĩ', 'ngợi', 'một', 'tí', 'hắn', 'có', 'lăn', 'ra', 'kêu', 'nữa', 'liệu', 'có', 'còn', 'ai', 'ra', 'vả', 'lại', 'bây', 'giờ', 'rượu', 'nhạt', 'rồi', 'nếu', 'lại', 'phải', 'rạch', 'mặt', 'mấy', 'nhát', 'nữa', 'thì', 'cũng', 'đau', 'thôi', 'cứ', 'vào', 'vào', 'thì', 'vào', 'cần', 'quái', 'gì', 'muốn', 'đập', 'đầu', 'thì', 'vào', 'ngay', 'nhà', 'nó', 'mà', 'đập', 'đầu', 'còn', 'hơn', 'ở', 'ngoài', 'cùng', 'lắm', 'nó', 'có', 'giở', 'quẻ', 'hắn', 'cũng', 'chỉ', 'đến', 'đi', 'ở', 'tù', 'ở', 'tù', 'thì', 'hắn', 'coi', 'là', 'thường', 'thôi', 'cứ', 'vào']\n"
     ]
    }
   ],
   "source": [
    "vanban = '''Hắn vừa đi vừa chửi. Bao giờ cũng thế, cứ rượu xong là hắn chửi. Bắt đầu chửi trời, có hề gì? Trời có của riêng nhà nào? Rồi hắn chửi đời. Thế cũng chẳng sao: Đời là tất cả nhưng cũng chẳng là ai. Tức mình hắn chửi ngay tất cả làng Vũ Đại. Nhưng cả làng Vũ Đại ai cũng nhủ: “Chắc nó trừ mình ra!”. Không ai lên tiếng cả. Tức thật! Ồ thế này thì tức thật! Tức chết đi được mất! Đã thế, hắn phải chửi cha đứa nào không chửi nhau với hắn. Nhưng cũng không ai ra điều. Mẹ kiếp! Thế thì có phí rượu không? Thế thì có khổ hắn không? Không biết đứa chết mẹ nào đẻ ra thân hắn cho hắn khổ đến nông nỗi này! A ha! Phải đấy hắn cứ thế mà chửi, hắn chửi đứa chết mẹ nào đẻ ra thân hắn, đẻ ra cái thằng Chí Phèo? Mà có trời biết! Hắn không biết, cả làng Vũ Đại cũng không ai biết.\n",
    "\n",
    "Một anh đi thả ống lươn, một buổi sáng tinh sương đã thấy hắn trần truồng và xám ngắt trong cái váy đụp để bên một lò gạch bỏ không, anh ta rước lấy và đem cho một người đàn bà góa mù. Người đàn bà góa mù này bán hắn cho một bác phó cối không con và khi bác phó cối này chết thì hắn bơ vơ, hết đi ở cho nhà này lại đi ở cho nhà nọ. Năm hai mươi tuổi, hắn làm canh điền cho ông lý Kiến, bây giờ cụ bá Kiến, ăn tiên chỉ làng. Hình như, có mấy lần bà ba nhà ông lý, trẻ lắm mà lại hay ốm lửng, bắt hắn bóp chân, hay xoa bụng, đấm lưng gì đấy. Người ta bảo ông lý ra đình thì hách dịch, cả làng phải sợ, mà về nhà phải sợ cái bà ba còn trẻ này. Người bà ấy phốp pháp, má bà ấy hây hây, mà ông lý thì hay đau lưng lắm; người có bệnh đau lưng thì hay sợ vợ mà chúa đời là khoẻ ghen. Có người bảo ông lý ghen anh canh điền khoẻ mạnh mà sợ bà ba không dám nói. Có người thì bảo anh canh điền ấy được bà ba quyền thu quyền bổ trong nhà tin cẩn nên lấy trộm tiền trộm thóc nhiều. Mỗi người nói một cách. Chẳng biết đâu mà lần. Chỉ biết một hôm Chí bị giải huyện rồi nghe đâu phải đi tù. Không biết tù mấy năm, nhưng hắn đi biệt tăm bảy, tám năm, rồi một hôm, hắn lại lù lù ở đâu lần về. Hắn về lần này trông khác hẳn, mới đầu chẳng ai biết hắn là ai. Trông đặc như thằng sắng cá! Cái đầu thì trọc lốc, cái răng cạo trắng hớn, cái mặt thì đen mà rất cơng cơng, hai mắt gườm gườm trông gớm chết! Hắn mặc quần áo nái đen với cái áo tây vàng. Cái ngực phanh đầy những nét chạm trổ rồng, phượng với một ông tướng cầm chùy, cả hai cánh tay cũng thế. Trông gớm chết!\n",
    "\n",
    "Hắn về hôm trước, hôm sau đã thấy ngồi ở chợ uống rượu với thịt chó suốt từ trưa đến xế chiều. Rồi say khướt, hắn xách một cái vỏ chai đến cổng nhà bá Kiến, gọi tận tên tục ra mà chửi. Cụ bá không có nhà. Thấy điệu bộ hung hăng của hắn, bà cả đùn bà hai, bà hai thúc bà ba, bà ba gọi bà tư, nhưng kết cục chẳng bà nào dám ra nói với hắn một vài lời phải chăng. Mắc cái phải cái thằng liều lĩnh quá, nó lại say rượu, tay nó lại lăm lăm cầm một cái vỏ chai, mà nhà lúc ấy toàn đàn bà cả... Thôi thì cứ đóng cái cổng cho thật chặt, rồi mặc thây cha nó, nó chửi thì tai liền miệng đấy, chửi thì lại nghe! Thành thử chỉ có ba con chó dữ với một thằng say rượu!... Thật là ầm ỹ! Hàng xóm phải một bữa điếc tai, nhưng có lẽ trong bụng thì họ hả: xưa nay họ mới chỉ được nghe bà cả, bà hai, bà ba, bà tư nhà cụ bá chửi người ta, bây giờ họ mới thấy người ta chửi lại cả nhà cụ bá. Mà chửi mới sướng miệng làm sao! Mới ngoa ngắt làm sao. Họ bảo nhau: Phen này cha con thằng bá Kiến đố còn dám vác mặt đi đâu nữa! Mồ mả tổ tiên đến lộn lên mất. Cũng có người hiền lành hơn bảo: “Phúc đời nhà nó, chắc ông lý không có nhà...”. Ông lý đây là ông lý Cường, con giai cụ Bá nổi tiếng là hách dịch, coi người như rơm rác. Phải ông lý Cường thử có nhà xem nào! Quả nhiên họ nói có sai đâu! Đấy, có tiếng người sang sảng quát: “Mày muốn lôi thôi gì?... Cái thằng không cha không mẹ này! Mày muốn lôi thôi gì?...” Đã bảo mà! Cái tiếng quát tháo kia là tiếng lý Cường. Lý Cường đã về! Lý Cường đã về! Phải biết... A ha! Một cái tát rất kêu. Ôi! Cái gì thế này? Tiếng đấm tiếng đá nhau bình bịch. Thôi, cứ gọi là tan xương! Bỗng “choang” một cái, thôi phải rồi, hẳn đập cái chai vào cột cổng... ồ hắn kêu! Hắn vừa chửi vừa kêu làng như bị người ta cắt họng. Ồ hắn kêu!\n",
    "\n",
    "- Ối làng nước ơi! Cứu tôi với... Ối làng nước ôi! Bố con thằng bá Kiến nó đâm chết tôi! Thằng lý Cường nó đâm chết tôi rồi, làng nước ôi!...\n",
    "\n",
    "Và họ thấy Chí Phèo lăn lộn dưới đất, vừa kêu vừa lấy mảnh chai cào vào mặt. Máu ra loe loét trông gớm quá! Mấy con chó xông vào quanh hắn, sủa rất hăng. Lý Cường hơi tái mặt, đứng nhìn mà cười nhạt, cười khinh bỉ. Hừ! Ngỡ là gì, chẳng hoá ra nằm ăn vạ! Thì ra hắn định đến đây nằm vạ!\n",
    "\n",
    "Người ta tuôn đến xem. Mấy cái ngõ tối xung quanh đùn ra biết bao nhiêu là người! Thật ồn ào như chợ. Bà cả, bà hai, bà ba, bà tư nhà cụ bá cũng vững dạ vì có anh lý, cũng xưng xỉa ra chửi góp. Thật ra, các bà muốn xem Chí Phèo ra làm sao? Không khéo nó có ý gieo vạ cho cụ ông phen này...\n",
    "\n",
    "Nhưng kìa cụ ông đã về. Cụ cất tiếng rất sang hỏi: “Cái gì mà đông như thế này?”. Chỗ này “lạy cụ”, chỗ kia “lạy cụ”, người ta kính cẩn giãn ra, và Chí Phèo bỗng nằm dài, không nhúc nhích rên khe khẽ như gần chết.\n",
    "\n",
    "Thoáng nhìn qua, đã hiểu cơ sự rồi. Làm lý trưởng rồi chánh tổng, bây giờ lại đến lượt con cụ làm lý trưởng, những việc như thế này cụ không lạ gì. Cụ hãy quát mấy bà vợ đang xưng xỉa chực tâng công với chồng:\n",
    "\n",
    "- Các bà đi vào nhà: đàn bà chỉ lôi thôi, biết gì?\n",
    "\n",
    "Rồi quay lại bọn người làng, cụ dịu giọng hơn một chút:\n",
    "\n",
    "- Cả các ông, các bà nữa, về đi thôi chứ! Có gì mà xúm lại như thế này?\n",
    "\n",
    "Không ai nói gì, người ta dần dần tản đi. Vì nể cụ bá cũng có, nhưng vì nghĩ đến sự yên ổn của mình cũng có: người nhà quê vốn ghét lôi thôi. Ai dại gì đứng ỳ ra đấy, có làm sao họ triệu mình đi làm chứng. Sau còn trơ lại Chí Phèo và cha con cụ bá. Bây giờ cụ mới lại gần hắn, khẽ lay và gọi:\n",
    "\n",
    "- Anh Chí ơi! Sao anh lại làm ra thế ?\n",
    "\n",
    "Chí Phèo lim dim mắt, rên lên:\n",
    "\n",
    "- Tao chỉ liều chết với bố con nhà mày đấy thôi. Nhưng tao mà chết thì có thằng sạt nghiệp, mà còn rũ tù chưa biết chừng.\n",
    "\n",
    "Cụ bá cười nhạt, nhưng tiếng cười giòn giã lắm: người ta bảo cụ hơn người cũng chỉ bởi cái cười.\n",
    "\n",
    "- Cái anh này nói mới hay! Ai làm gì mà anh phải chết? Đời người chứ có phải con ngoé đâu? Lại say rồi phải không?\n",
    "\n",
    "Rồi đổi giọng, cụ thân mật hỏi:\n",
    "\n",
    "- Về bao giờ thế? Sao không vào tôi chơi? Đi vào nhà uống nước.\n",
    "\n",
    "Thấy Chí Phèo không nhúc nhích, cụ tiếp luôn:\n",
    "\n",
    "- Nào đứng lên đi. Cứ vào đây uống nước đã. Có cái gì ta nói chuyện tử tế với nhau, cần gì mà phải làm thanh động lên như thế, người ngoài biết, mang tiếng cả.\n",
    "\n",
    "Rồi vừa xốc Chí Phèo, cụ vừa phàn nàn:\n",
    "\n",
    "- Khổ quá! Giá có tôi ở nhà thì đâu đến nỗi. Ta nói chuyện với nhau, thế nào cũng xong. Người lớn cả, chỉ một câu chuyện với nhau là đủ. Chỉ tại thằng lý Cường nóng tính không biết nghĩ trước nghĩ sau. Ai, chứ anh với nó còn có họ kia đấy.\n",
    "\n",
    "Chí Phèo chẳng biết họ hàng ra làm sao, nhưng cũng thấy lòng nguôi nguôi. Hắn cố làm ra vẻ nặng nề, ngồi lên. Cụ bá biết rằng mình đã thắng, đưa mắt nháy con một cái, cụ quát:\n",
    "\n",
    "- Lý Cường đâu! Tội mày đáng chết. Không bảo người ta đun nước, mau lên!\n",
    "\n",
    "Cụ dắt Chí Phèo đứng dậy, giục thêm vài tiếng nữa, và Chí Phèo chịu đi: hắn chỉ cố khập khiễng cái chân như bị què. Là vì lúc ấy trong người hắn rượu đã hơi nhạt rồi, không còn kêu gào chửi bới, hắn thấy hình như không còn hăng hái nữa. Sự ngọt ngào làm mềm nhũn, vả lại những người đứng xem về cả rồi, hắn thấy hình như trơ trọi. Cái sợ cố hữu trong lòng thức dậy, cái sợ xa xôi thuở ngày xưa, hắn thấy quả là táo bạo. Không táo bạo mà dám gây sự với cha con bá Kiến, bốn đời làm tổng lý. Và nghĩ thế, hắn thấy hắn cũng oai. Hắn làm cái ông gì ở làng này? Không vây cánh, không họ hàng thân thích; anh em không có, đến bố mẹ cũng không... Ờ thế mà cũng dám độc lực chọi nhau với lý trưởng, chánh tổng, bá hộ tiên chỉ làng Vũ Đại, Chánh Hội đồng kỳ hào, huyện hào, Bắc kỳ nhân dân đại biểu, khét tiếng đến cả trong hàng huyện. Thử hỏi đã có mặt nào trong cái làng hơn hai nghìn suất đinh này làm được thế? Kể làm rồi có chết cũng là cam tâm. Vậy mà không: cái cụ bá thét ra lửa ấy lại xử nhũn, mời hắn vào nhà xơi nước. Thôi cũng hả, đã xử nhũn thì hắn vào. Nhưng bỗng hắn lại hơi ngần ngại; biết đâu cái lão cáo già này nó lại chả lừa hắn vào nhà rồi lôi thôi? Ồ mà thật có thể như thế lắm! Này nó hãy lôi ngay mấy cái mâm cái nồi hay đồ vàng đồ bạc ra khoác vào cổ hắn, rồi cho vợ ra kêu làng lên, rồi cột cổ hắn vào, chần cho một trận om xương, rồi vu cho là ăn cướp thì sao? Cái thằng bá Kiến này, già đời đục khoét, còn đớn cái nước gì mà chịu lép như trấu thế? Thôi dại gì mà vào miệng cọp, hắn cứ đứng đây này, cứ lăn ra đây này, lại kêu toáng lên xem nào. Nhưng nghĩ ngợi một tí, hắn có lăn ra kêu nữa, liệu có còn ai ra? Vả lại bây giờ rượu nhạt rồi, nếu lại phải rạch mặt mấy nhát nữa thì cũng đau. Thôi cứ vào! Vào thì vào, cần quái gì. Muốn đập đầu thì vào ngay nhà nó mà đập đầu còn hơn ở ngoài. Cùng lắm, nó có giở quẻ, hắn cũng chỉ đến đi ở tù. Ở tù thì hắn coi là thường. Thôi cứ vào.'''\n",
    "\n",
    "symbols = {'~', ':', \"'\", '+', '[', '\\\\', '@', '^', '{', '%', '(', '-', '\"', '*', '|', ',', '&', '<', '`', '}', '.', '_', '=', ']', '!', '>', ';', '?', '#', '$', ')', '/','“','”'}\n",
    "\n",
    "for i in symbols:\n",
    "    vanban = vanban.replace(i,\"\")\n",
    "    \n",
    "vanban = vanban.lower()\n",
    "\n",
    "vanban = vanban.split()\n",
    "\n",
    "D_dem = {}\n",
    "\n",
    "#### key sẽ từ, value sẽ là số lần từ xuất hiện\n",
    "\n",
    "print(vanban)"
   ]
  },
  {
   "cell_type": "markdown",
   "id": "57c6f1e7",
   "metadata": {},
   "source": [
    "Viết chương trình cho phép người dùng quản lý sản phẩm, gồm các chức năng sau: \n",
    "\n",
    "- Hiển thị danh sách sản phẩm\n",
    "- Thêm sản phẩm mới vào danh sách\n",
    "- Sửa tên của sản phẩm trong danh sách\n",
    "- Xoá một sản phẩm khỏi danh sách"
   ]
  },
  {
   "cell_type": "code",
   "execution_count": 41,
   "id": "8541b8c3",
   "metadata": {},
   "outputs": [],
   "source": [
    "D_sp = {\"SP01\":\"Cơm gà\",\n",
    "     \"SP02\":\"Cơm bò\",\n",
    "     \"SP03\":\"Cơm sườn\",\n",
    "     \"SP04\":\"Cơm sườn trứng\",\n",
    "    }"
   ]
  },
  {
   "cell_type": "code",
   "execution_count": 42,
   "id": "655c6e0e",
   "metadata": {},
   "outputs": [
    {
     "name": "stdout",
     "output_type": "stream",
     "text": [
      "Nhập vào ký tự tương ứng với chức năng:\n",
      "H - Hiển thị danh sách sản phẩm\n",
      "T - Thêm sản phẩm mới\n",
      "S - Sửa sản phẩm\n",
      "X - Xóa sản phẩm\n",
      "0 - Thoát chương trình\n",
      "\n",
      "Nhập vào chức năng:H\n",
      "Nhập vào chức năng:0\n",
      "Cảm ơn bạn đã sử dụng phần mềm của chúng tôi!\n"
     ]
    }
   ],
   "source": [
    "### format của key là SPXX (XX là 1 số nguyên)\n",
    "### viết 4 hàm xử lý\n",
    "\n",
    "##### hiển thị sản phẩm\n",
    "def hienthisanpham(D):\n",
    "    ###### hiển thị ra danh sách sản phẩm theo mẫu:\n",
    "    ######## --------------------------------------\n",
    "    ########\n",
    "    ######## SP01 - Cơm gà\n",
    "    ######## SP02 - Cơm bò\n",
    "    ######## SP03 - Cơm sườn\n",
    "    ######## SP04 - Cơm sườn trứng\n",
    "    ########\n",
    "    ######## --------------------------------------\n",
    "    pass\n",
    "\n",
    "##### Thêm sản phẩm\n",
    "def themsanpham(D):\n",
    "    ######## Nhập vào key của sản phẩm \n",
    "    ########## TH1: Nếu key đã tồn tại hoặc sai format thì yêu cầu người dùng nhập lại key cho đến khi nào nhập đúng\n",
    "    ########## TH2: Ngược lại với TH1 thì yêu cầu người dùng nhập tên sản phẩm\n",
    "    ######## Lưu sản phẩm vào trong danh sách\n",
    "    ############# Note: Trong quá trình nhập, nếu người dùng nhập 0 thì thoát hàm mà không tạo thêm sản phẩm\n",
    "    pass\n",
    "\n",
    "##### Sửa sản phẩm\n",
    "def suasanpham(D):\n",
    "    ######## Nhập vào key của sản phẩm\n",
    "    ########## TH1: Nếu key chưa tồn tại yêu cầu người dùng nhập lại key cho đến khi nào nhập đúng\n",
    "    ########## TH2: Ngược lại với TH1 thì yêu cầu người dùng nhập tên sản phẩm\n",
    "    ######## Thay đổi tên sản phẩm\n",
    "    ############# Note: Trong quá trình nhập, nếu người dùng nhập 0 thì thoát hàm mà không sửa sản phẩm\n",
    "    pass\n",
    "\n",
    "##### Xóa sản phẩm\n",
    "def xoasanpham(D):\n",
    "    ######## Nhập vào key của sản phẩm\n",
    "    ########## TH1: Nếu key chưa tồn tại yêu cầu người dùng nhập lại key cho đến khi nào nhập đúng\n",
    "    ########## TH2: Ngược lại với TH1 thì yêu cầu người dùng nhập tên sản phẩm\n",
    "    ######## Xóa sản phẩm\n",
    "    ############# Note: Trong quá trình nhập, nếu người dùng nhập 0 thì thoát hàm mà không sửa sản phẩm\n",
    "    pass\n",
    "\n",
    "print('''Nhập vào ký tự tương ứng với chức năng:\n",
    "H - Hiển thị danh sách sản phẩm\n",
    "T - Thêm sản phẩm mới\n",
    "S - Sửa sản phẩm\n",
    "X - Xóa sản phẩm\n",
    "0 - Thoát chương trình\n",
    "''')\n",
    "while True:\n",
    "    nhap = input(\"Nhập vào chức năng:\")\n",
    "    if nhap == \"H\":\n",
    "        hienthisanpham(D_sp)\n",
    "    elif nhap == \"T\":\n",
    "        themsanpham(D_sp)\n",
    "    elif nhap == \"S\":\n",
    "        suasanpham(D_sp)\n",
    "    elif nhap == \"X\":\n",
    "        xoasanpham(D_sp)\n",
    "    elif nhap == \"0\":\n",
    "        break\n",
    "        \n",
    "print(\"Cảm ơn bạn đã sử dụng phần mềm của chúng tôi!\")"
   ]
  }
 ],
 "metadata": {
  "kernelspec": {
   "display_name": "Python 3 (ipykernel)",
   "language": "python",
   "name": "python3"
  },
  "language_info": {
   "codemirror_mode": {
    "name": "ipython",
    "version": 3
   },
   "file_extension": ".py",
   "mimetype": "text/x-python",
   "name": "python",
   "nbconvert_exporter": "python",
   "pygments_lexer": "ipython3",
   "version": "3.9.12"
  }
 },
 "nbformat": 4,
 "nbformat_minor": 5
}
