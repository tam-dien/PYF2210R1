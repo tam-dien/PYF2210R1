{
 "cells": [
  {
   "cell_type": "markdown",
   "id": "a20f121d",
   "metadata": {},
   "source": [
    "# Dictionnary\n",
    "\n",
    "Dictionnary là một dạng list đặc biệt, nó khác list ở chỗ không lưu trữ các giá trị theo chỉ số vị trí, thay vào đó Dictionary sẽ lưu trữ các giá trị theo key\n",
    "\n",
    "##### Tài liệu tham khảo: https://www.w3schools.com/python/python_dictionaries.asp\n",
    "\n",
    "### Khai báo một dictionary\n",
    "\n",
    "Cú pháp:\n",
    "\n",
    "`<tên dictionary> = {}`\n",
    "\n",
    "### Dictionary được khai báo bằng hai dấu hoặc nhọn\n",
    "\n",
    "Đây là một dictionary rỗng\n",
    "\n",
    "<b>Ví dụ 1:</b>\n",
    "\n",
    "`a = {}`\n",
    "\n",
    "a là một dictionary rỗng\n",
    "\n",
    "<b>Ví dụ 2:</b>\n",
    "\n",
    "`a = {\"tên\": \"Nguyễn Tâm Điền\", \"tuổi\": 13, \"giới tính\": \"Nam\"}`\n",
    "\n",
    "b là một dictionary có 3 key, mõi key đều có một giá trị riêng biệt\n",
    "\n",
    "Key có thể mang kiểu dữ liệu là chuỗi hoặc số\n",
    "\n",
    "##### Mỗi một key đều phải có giá trị của riêng nó, không thể khai báo key không có giá trị\n",
    "\n",
    "<b>Hãy khai báo một dictionary có 3 phần tử</b>"
   ]
  },
  {
   "cell_type": "code",
   "execution_count": 1,
   "id": "d835f461",
   "metadata": {},
   "outputs": [
    {
     "name": "stdout",
     "output_type": "stream",
     "text": [
      "Nguyễn Tâm Điền\n"
     ]
    }
   ],
   "source": [
    "L_a = [(\"tên\",\"Nguyễn Tâm Điền\"),(\"tuổi\",13),(\"giới tính\",\"Nam\")]\n",
    "D_a = {'tên':\"Nguyễn Tâm Điền\",\"tuổi\":13,\"giới tính\":\"Nam\"}\n",
    "\n",
    "print(D_a['tên'])"
   ]
  },
  {
   "cell_type": "code",
   "execution_count": 2,
   "id": "f419ec1c",
   "metadata": {},
   "outputs": [],
   "source": [
    "L_data = [{'tên':\"Nguyễn Tâm Điền\",\"tuổi\":13,\"giới tính\":\"Nam\"},\n",
    "          {'tên':\"Nguyễn Minh Tuấn\",\"tuổi\":23,\"giới tính\":\"Nam\"},\n",
    "          {'tên':\"Trần Yến Quyên\",\"tuổi\":18,\"giới tính\":\"Nữ\"}]\n",
    "\n",
    "D_data = {\"tên\":[\"Nguyễn Tâm Điền\",\"Nguyễn Minh Tuấn\",\"Trần Yến Quyên\"],\n",
    "         \"tuổi\":[13,23,18],\"giới tính\":[\"Nam\",\"Nam\",\"Nữ\"]}"
   ]
  },
  {
   "cell_type": "code",
   "execution_count": 4,
   "id": "ce529ce0",
   "metadata": {},
   "outputs": [
    {
     "name": "stdout",
     "output_type": "stream",
     "text": [
      "{'tên': 'Nguyễn Tâm Điền', 'tuổi': 13, 'giới tính': 'Nam', 'số nhà': 13}\n"
     ]
    }
   ],
   "source": [
    "D_a = {'tên':\"Nguyễn Tâm Điền\",\"tuổi\":13,\"giới tính\":\"Nam\",'tên':\"Nguyễn Văn A\"}\n",
    "print(D_a)"
   ]
  },
  {
   "cell_type": "code",
   "execution_count": 5,
   "id": "1f004aa8",
   "metadata": {},
   "outputs": [
    {
     "name": "stdout",
     "output_type": "stream",
     "text": [
      "{'tên': 'Nguyễn Tâm Điền', 'tuổi': 13, 'giới tính': 'Nam', 'số nhà': 13}\n"
     ]
    }
   ],
   "source": [
    "D_a = {'tên':\"Nguyễn Tâm Điền\",\"tuổi\":13,\"giới tính\":\"Nam\",'số nhà':13}\n",
    "print(D_a)"
   ]
  },
  {
   "cell_type": "code",
   "execution_count": 9,
   "id": "46cb2588",
   "metadata": {},
   "outputs": [
    {
     "name": "stdout",
     "output_type": "stream",
     "text": [
      "{'tên': 'Nguyễn Tâm Điền', 'tuổi': 13, 'giới tính': 'Nam', 'Tên': 'Nguyễn Văn A'}\n",
      "Nguyễn Tâm Điền\n",
      "Nguyễn Văn A\n"
     ]
    }
   ],
   "source": [
    "D_a = {'tên':\"Nguyễn Tâm Điền\",\"tuổi\":13,\"giới tính\":\"Nam\",'Tên':'Nguyễn Văn A'}\n",
    "print(D_a)\n",
    "print(D_a['tên'])\n",
    "print(D_a['Tên'])"
   ]
  },
  {
   "cell_type": "markdown",
   "id": "be1e321c",
   "metadata": {},
   "source": [
    "### Thêm key vào dictionary\n",
    "\n",
    "Cú pháp:\n",
    "\n",
    "`<tên dictionary>[<key>] = <giá trị>`\n",
    "\n",
    "<b>Ví dụ 1:</b>\n",
    "\n",
    "`a = {}\n",
    "a[\"tên\"] = \"NTD\"`\n",
    "\n",
    "a là một dictionary có một phần tử, phần tử đó có key là \"tên\" và giá trị của key đó là \"NTD\"\n",
    "\n",
    "##### Lưu ý, nếu trong trường hợp đã tồn tại key trong dictionary, dùng lệnh trên sẽ thay đổi giá trị key đó (không phải thêm key khác vào)\n",
    "\n",
    "<b>Ví dụ 2:</b>\n",
    "\n",
    "`a = {}\n",
    "a[\"tên\"] = \"NTD\"\n",
    "a[\"tên\"] = \"Nguyễn Tâm Điền\"`\n",
    "\n",
    "a vẫn là một dictionary có một phần tử, phần tử đó có key là \"tên\" và giá trị của key đó là \"Nguyễn Tâm Điền\"\n",
    "\n",
    "<b>Hãy khai báo một dictionary không có phần tử nào, sau đó thêm một phần tử vào dictionary đó</b>"
   ]
  },
  {
   "cell_type": "code",
   "execution_count": 11,
   "id": "7573ebef",
   "metadata": {},
   "outputs": [
    {
     "name": "stdout",
     "output_type": "stream",
     "text": [
      "['Nguyễn Tâm Điền', 13, 'Nam', 13]\n"
     ]
    }
   ],
   "source": [
    "L_a = [\"Nguyễn Tâm Điền\",13,\"Nam\"]\n",
    "L_a.append(13)\n",
    "print(L_a)"
   ]
  },
  {
   "cell_type": "code",
   "execution_count": 15,
   "id": "8ebc518b",
   "metadata": {},
   "outputs": [
    {
     "ename": "IndexError",
     "evalue": "list assignment index out of range",
     "output_type": "error",
     "traceback": [
      "\u001b[1;31m---------------------------------------------------------------------------\u001b[0m",
      "\u001b[1;31mIndexError\u001b[0m                                Traceback (most recent call last)",
      "Cell \u001b[1;32mIn [15], line 2\u001b[0m\n\u001b[0;32m      1\u001b[0m L_a \u001b[38;5;241m=\u001b[39m [\u001b[38;5;124m\"\u001b[39m\u001b[38;5;124mNguyễn Tâm Điền\u001b[39m\u001b[38;5;124m\"\u001b[39m,\u001b[38;5;241m13\u001b[39m,\u001b[38;5;124m\"\u001b[39m\u001b[38;5;124mNam\u001b[39m\u001b[38;5;124m\"\u001b[39m]\n\u001b[1;32m----> 2\u001b[0m \u001b[43mL_a\u001b[49m\u001b[43m[\u001b[49m\u001b[38;5;241;43m3\u001b[39;49m\u001b[43m]\u001b[49m \u001b[38;5;241m=\u001b[39m \u001b[38;5;241m13\u001b[39m\n\u001b[0;32m      3\u001b[0m \u001b[38;5;28mprint\u001b[39m(L_a)\n",
      "\u001b[1;31mIndexError\u001b[0m: list assignment index out of range"
     ]
    }
   ],
   "source": [
    "L_a = [\"Nguyễn Tâm Điền\",13,\"Nam\"]\n",
    "L_a[3] = 13\n",
    "print(L_a)"
   ]
  },
  {
   "cell_type": "code",
   "execution_count": 13,
   "id": "3eefc9b7",
   "metadata": {},
   "outputs": [
    {
     "name": "stdout",
     "output_type": "stream",
     "text": [
      "{'tên': 'Nguyễn Tâm Điền', 'tuổi': 13, 'giới tính': 'Nam', 'số nhà': 13}\n"
     ]
    }
   ],
   "source": [
    "D_a = {'tên':\"Nguyễn Tâm Điền\",\"tuổi\":13,\"giới tính\":\"Nam\"}\n",
    "D_a['số nhà'] = 13\n",
    "print(D_a)"
   ]
  },
  {
   "cell_type": "code",
   "execution_count": 16,
   "id": "c4b96b01",
   "metadata": {},
   "outputs": [
    {
     "name": "stdout",
     "output_type": "stream",
     "text": [
      "{'tên': 'Nguyễn Văn A', 'tuổi': 13, 'giới tính': 'Nam'}\n"
     ]
    }
   ],
   "source": [
    "D_a = {'tên':\"Nguyễn Tâm Điền\",\"tuổi\":13,\"giới tính\":\"Nam\"}\n",
    "D_a['tên'] = \"Nguyễn Văn A\"\n",
    "print(D_a)"
   ]
  },
  {
   "cell_type": "markdown",
   "id": "65c98825",
   "metadata": {},
   "source": [
    "### Truy xuất phần tử trong dictionary\n",
    "\n",
    "Cú pháp:\n",
    "\n",
    "`<tên dictionary>[<key>]`\n",
    "\n",
    "<b>Ví dụ:</b>\n",
    "\n",
    "`a = {\"tên\": \"Nguyễn Tâm Điền\", \"tuổi\": 13, \"giới tính\": \"Nam\"}\n",
    "print(a[\"tên\"])`\n",
    "\n",
    "Màn hình sẽ in: Nguyễn Tâm Điền\n",
    "\n",
    "<b>Hãy khai báo một dictionary rồi in ra màn hình một phần tử bất kỳ trong dictionary đó</b>"
   ]
  },
  {
   "cell_type": "code",
   "execution_count": 17,
   "id": "f6159385",
   "metadata": {},
   "outputs": [
    {
     "name": "stdout",
     "output_type": "stream",
     "text": [
      "Nguyễn Tâm Điền\n"
     ]
    }
   ],
   "source": [
    "D_a = {\"tên\": \"Nguyễn Tâm Điền\", \"tuổi\": 13, \"giới tính\": \"Nam\"}\n",
    "\n",
    "print(D_a[\"tên\"])"
   ]
  },
  {
   "cell_type": "code",
   "execution_count": 18,
   "id": "154af06a",
   "metadata": {},
   "outputs": [
    {
     "name": "stdout",
     "output_type": "stream",
     "text": [
      "{'tên': 'Nguyễn Văn B', 'tuổi': 13, 'giới tính': 'Nam'}\n",
      "{'tên': 'Nguyễn Văn B', 'tuổi': 13, 'giới tính': 'Nam'}\n"
     ]
    }
   ],
   "source": [
    "D_a = {\"tên\": \"Nguyễn Tâm Điền\", \"tuổi\": 13, \"giới tính\": \"Nam\"}\n",
    "D_b = D_a\n",
    "\n",
    "D_a['tên'] = \"Nguyễn Văn B\"\n",
    "\n",
    "print(D_a)\n",
    "print(D_b)"
   ]
  },
  {
   "cell_type": "code",
   "execution_count": 19,
   "id": "6aefc78d",
   "metadata": {},
   "outputs": [
    {
     "name": "stdout",
     "output_type": "stream",
     "text": [
      "{'tên': 'Nguyễn Văn B', 'tuổi': 13, 'giới tính': 'Nam'}\n",
      "{'tên': 'Nguyễn Tâm Điền', 'tuổi': 13, 'giới tính': 'Nam'}\n"
     ]
    }
   ],
   "source": [
    "D_a = {\"tên\": \"Nguyễn Tâm Điền\", \"tuổi\": 13, \"giới tính\": \"Nam\"}\n",
    "D_b = D_a.copy()\n",
    "\n",
    "D_a['tên'] = \"Nguyễn Văn B\"\n",
    "\n",
    "print(D_a)\n",
    "print(D_b)"
   ]
  },
  {
   "cell_type": "markdown",
   "id": "afa92f87",
   "metadata": {},
   "source": [
    "### Sao chép dictionary\n",
    "\n",
    "##### Việc sao chép dictionary được thực hiện hệt như sao chép list, chúng ta cần phải sử dụng lệnh copy()"
   ]
  },
  {
   "cell_type": "markdown",
   "id": "ef7e800d",
   "metadata": {},
   "source": [
    "### Duyệt dictionary bằng lệnh for\n",
    "\n",
    "Cú pháp:\n",
    "\n",
    "`for <tên biến> in <tên dictionary>:`\n",
    "\n",
    "Biến sẽ có giá trị là từng key trong dictionary\n",
    "\n",
    "<b>Ví dụ:</b>\n",
    "\n",
    "`a = {\"tên\": \"Nguyễn Tâm Điền\", \"tuổi\": 13, \"giới tính\": \"Nam\"}\n",
    "for i in a:\n",
    "    print(i)`\n",
    "    \n",
    "Màn hình sẽ in ra:\n",
    "\n",
    "tên\n",
    "\n",
    "tuổi\n",
    "\n",
    "giới tính\n",
    "\n",
    "<b>Hãy khai báo một dictionary rồi in ra màn hình toàn bộ giá trị trong dictionary đó</b>"
   ]
  },
  {
   "cell_type": "code",
   "execution_count": 24,
   "id": "3bdd1508",
   "metadata": {},
   "outputs": [
    {
     "name": "stdout",
     "output_type": "stream",
     "text": [
      "tên Nguyễn Tâm Điền\n",
      "tuổi 13\n",
      "giới tính Nam\n"
     ]
    }
   ],
   "source": [
    "D_a = {\"tên\": \"Nguyễn Tâm Điền\", \"tuổi\": 13, \"giới tính\": \"Nam\"}\n",
    "\n",
    "for i in D_a: ## i là key\n",
    "    print(i,D_a[i])"
   ]
  },
  {
   "cell_type": "code",
   "execution_count": 27,
   "id": "d0f6827a",
   "metadata": {},
   "outputs": [
    {
     "name": "stdout",
     "output_type": "stream",
     "text": [
      "{'tuổi': 13, 'giới tính': 'Nam'}\n"
     ]
    }
   ],
   "source": [
    "D_a = {\"tên\": \"Nguyễn Tâm Điền\", \"tuổi\": 13, \"giới tính\": \"Nam\"}\n",
    "D_a.pop(\"tên\")\n",
    "print(D_a)"
   ]
  },
  {
   "cell_type": "code",
   "execution_count": 32,
   "id": "4d34ce09",
   "metadata": {},
   "outputs": [
    {
     "name": "stdout",
     "output_type": "stream",
     "text": [
      "['Nguyễn Tâm Điền', 'Nguyễn Minh Tuấn', 'Trần Yến Quyên']\n"
     ]
    }
   ],
   "source": [
    "D_data = {\"tên\":[\"Nguyễn Tâm Điền\",\"Nguyễn Minh Tuấn\",\"Trần Yến Quyên\"],\n",
    "         \"tuổi\":[13,23,18],\"giới tính\":[\"Nam\",\"Nam\",\"Nữ\"]}\n",
    "\n",
    "print(D_data[\"tên\"])"
   ]
  },
  {
   "cell_type": "markdown",
   "id": "1982f4b1",
   "metadata": {},
   "source": [
    "### Bài tập"
   ]
  },
  {
   "cell_type": "markdown",
   "id": "3060a950",
   "metadata": {},
   "source": [
    "Viết chương trình đếm số lần xuất hiện của một từ trong một văn bản nhất định"
   ]
  },
  {
   "cell_type": "code",
   "execution_count": 5,
   "id": "af64832c",
   "metadata": {},
   "outputs": [
    {
     "name": "stdout",
     "output_type": "stream",
     "text": [
      "{'hắn': 52, 'vừa': 8, 'đi': 16, 'chửi': 18, 'bao': 3, 'giờ': 7, 'cũng': 22, 'thế': 21, 'cứ': 9, 'rượu': 7, 'xong': 2, 'là': 18, 'bắt': 2, 'đầu': 5, 'trời': 3, 'có': 35, 'hề': 1, 'gì': 19, 'của': 3, 'riêng': 1, 'nhà': 23, 'nào': 10, 'rồi': 21, 'đời': 7, 'chẳng': 7, 'sao': 9, 'tất': 2, 'cả': 17, 'nhưng': 13, 'ai': 12, 'tức': 4, 'mình': 5, 'ngay': 3, 'làng': 14, 'vũ': 4, 'đại': 5, 'nhủ': 1, 'chắc': 2, 'nó': 14, 'trừ': 1, 'ra': 26, 'không': 33, 'lên': 9, 'tiếng': 12, 'thật': 7, 'ồ': 4, 'này': 23, 'thì': 23, 'chết': 14, 'được': 4, 'mất': 2, 'đã': 13, 'phải': 16, 'cha': 6, 'đứa': 3, 'nhau': 7, 'với': 15, 'điều': 1, 'mẹ': 5, 'kiếp': 1, 'phí': 1, 'khổ': 3, 'biết': 17, 'đẻ': 3, 'thân': 4, 'cho': 11, 'đến': 12, 'nông': 1, 'nỗi': 2, 'a': 2, 'ha': 2, 'đấy': 7, 'mà': 27, 'cái': 36, 'thằng': 11, 'chí': 13, 'phèo': 11, 'một': 21, 'anh': 11, 'thả': 1, 'ống': 1, 'lươn': 1, 'buổi': 1, 'sáng': 1, 'tinh': 1, 'sương': 1, 'thấy': 11, 'trần': 1, 'truồng': 1, 'và': 9, 'xám': 1, 'ngắt': 2, 'trong': 7, 'váy': 1, 'đụp': 1, 'để': 1, 'bên': 1, 'lò': 1, 'gạch': 1, 'bỏ': 1, 'ta': 12, 'rước': 1, 'lấy': 3, 'đem': 1, 'người': 28, 'đàn': 4, 'bà': 29, 'góa': 2, 'mù': 2, 'bán': 1, 'bác': 2, 'phó': 2, 'cối': 2, 'con': 12, 'khi': 1, 'bơ': 1, 'vơ': 1, 'hết': 1, 'ở': 9, 'lại': 21, 'nọ': 1, 'năm': 3, 'hai': 8, 'mươi': 1, 'tuổi': 1, 'làm': 18, 'canh': 3, 'điền': 3, 'ông': 14, 'lý': 21, 'kiến': 7, 'bây': 5, 'cụ': 27, 'bá': 17, 'ăn': 3, 'tiên': 3, 'chỉ': 12, 'hình': 3, 'như': 15, 'mấy': 7, 'lần': 4, 'ba': 9, 'trẻ': 2, 'lắm': 5, 'hay': 6, 'ốm': 1, 'lửng': 1, 'bóp': 1, 'chân': 2, 'xoa': 1, 'bụng': 2, 'đấm': 2, 'lưng': 3, 'bảo': 8, 'đình': 1, 'hách': 2, 'dịch': 2, 'sợ': 6, 'về': 10, 'còn': 10, 'ấy': 6, 'phốp': 1, 'pháp': 1, 'má': 1, 'hây': 2, 'đau': 3, 'bệnh': 1, 'vợ': 3, 'chúa': 1, 'khoẻ': 2, 'ghen': 2, 'mạnh': 1, 'dám': 5, 'nói': 8, 'quyền': 2, 'thu': 1, 'bổ': 1, 'tin': 1, 'cẩn': 2, 'nên': 1, 'trộm': 2, 'tiền': 1, 'thóc': 1, 'nhiều': 1, 'mỗi': 1, 'cách': 1, 'đâu': 9, 'hôm': 4, 'bị': 3, 'giải': 1, 'huyện': 3, 'nghe': 3, 'tù': 5, 'biệt': 1, 'tăm': 1, 'bảy': 1, 'tám': 1, 'lù': 2, 'trông': 5, 'khác': 1, 'hẳn': 2, 'mới': 7, 'đặc': 1, 'sắng': 1, 'cá': 1, 'trọc': 1, 'lốc': 1, 'răng': 1, 'cạo': 1, 'trắng': 1, 'hớn': 1, 'mặt': 6, 'đen': 2, 'rất': 4, 'cơng': 2, 'mắt': 3, 'gườm': 2, 'gớm': 3, 'mặc': 2, 'quần': 1, 'áo': 2, 'nái': 1, 'tây': 1, 'vàng': 2, 'ngực': 1, 'phanh': 1, 'đầy': 1, 'những': 3, 'nét': 1, 'chạm': 1, 'trổ': 1, 'rồng': 1, 'phượng': 1, 'tướng': 1, 'cầm': 2, 'chùy': 1, 'cánh': 2, 'tay': 2, 'trước': 2, 'sau': 3, 'ngồi': 2, 'chợ': 2, 'uống': 3, 'thịt': 1, 'chó': 3, 'suốt': 1, 'từ': 1, 'trưa': 1, 'xế': 1, 'chiều': 1, 'say': 4, 'khướt': 1, 'xách': 1, 'vỏ': 2, 'chai': 4, 'cổng': 3, 'gọi': 4, 'tận': 1, 'tên': 1, 'tục': 1, 'điệu': 1, 'bộ': 1, 'hung': 1, 'hăng': 3, 'đùn': 2, 'thúc': 1, 'tư': 3, 'kết': 1, 'cục': 1, 'vài': 2, 'lời': 1, 'chăng': 1, 'mắc': 1, 'liều': 2, 'lĩnh': 1, 'quá': 3, 'lăm': 2, 'lúc': 2, 'toàn': 1, 'thôi': 14, 'đóng': 1, 'chặt': 1, 'thây': 1, 'tai': 2, 'liền': 1, 'miệng': 3, 'thành': 1, 'thử': 3, 'dữ': 1, 'ầm': 1, 'ỹ': 1, 'hàng': 4, 'xóm': 1, 'bữa': 1, 'điếc': 1, 'lẽ': 1, 'họ': 10, 'hả': 2, 'xưa': 2, 'nay': 1, 'sướng': 1, 'ngoa': 1, 'phen': 2, 'đố': 1, 'vác': 1, 'nữa': 6, 'mồ': 1, 'mả': 1, 'tổ': 1, 'lộn': 2, 'hiền': 1, 'lành': 1, 'hơn': 5, 'phúc': 1, 'đây': 5, 'cường': 9, 'giai': 1, 'nổi': 1, 'coi': 2, 'rơm': 1, 'rác': 1, 'xem': 5, 'quả': 2, 'nhiên': 1, 'sai': 1, 'sang': 2, 'sảng': 1, 'quát': 4, 'mày': 4, 'muốn': 4, 'lôi': 6, 'tháo': 1, 'kia': 3, 'tát': 1, 'kêu': 9, 'ôi': 3, 'đá': 1, 'bình': 1, 'bịch': 1, 'tan': 1, 'xương': 2, 'bỗng': 3, 'choang': 1, 'đập': 3, 'vào': 18, 'cột': 2, 'cắt': 1, 'họng': 1, 'ối': 2, 'nước': 8, 'ơi': 2, 'cứu': 1, 'tôi': 5, 'bố': 3, 'đâm': 2, 'lăn': 3, 'dưới': 1, 'đất': 1, 'mảnh': 1, 'cào': 1, 'máu': 1, 'loe': 1, 'loét': 1, 'xông': 1, 'quanh': 2, 'sủa': 1, 'hơi': 3, 'tái': 1, 'đứng': 6, 'nhìn': 2, 'cười': 5, 'nhạt': 4, 'khinh': 1, 'bỉ': 1, 'hừ': 1, 'ngỡ': 1, 'hoá': 1, 'nằm': 3, 'vạ': 3, 'định': 1, 'tuôn': 1, 'ngõ': 1, 'tối': 1, 'xung': 1, 'nhiêu': 1, 'ồn': 1, 'ào': 1, 'vững': 1, 'dạ': 1, 'vì': 4, 'xưng': 2, 'xỉa': 2, 'góp': 1, 'các': 4, 'khéo': 1, 'ý': 1, 'gieo': 1, 'kìa': 1, 'cất': 1, 'hỏi': 3, 'đông': 1, 'chỗ': 2, 'lạy': 2, 'kính': 1, 'giãn': 1, 'dài': 1, 'nhúc': 2, 'nhích': 2, 'rên': 2, 'khe': 1, 'khẽ': 2, 'gần': 2, 'thoáng': 1, 'qua': 1, 'hiểu': 1, 'cơ': 1, 'sự': 4, 'trưởng': 3, 'chánh': 3, 'tổng': 3, 'lượt': 1, 'việc': 1, 'lạ': 1, 'hãy': 2, 'đang': 1, 'chực': 1, 'tâng': 1, 'công': 1, 'chồng': 1, 'quay': 1, 'bọn': 1, 'dịu': 1, 'giọng': 2, 'chút': 1, 'chứ': 3, 'xúm': 1, 'dần': 2, 'tản': 1, 'nể': 1, 'nghĩ': 5, 'yên': 1, 'ổn': 1, 'quê': 1, 'vốn': 1, 'ghét': 1, 'dại': 2, 'ỳ': 1, 'triệu': 1, 'chứng': 1, 'trơ': 2, 'lay': 1, 'lim': 1, 'dim': 1, 'tao': 2, 'sạt': 1, 'nghiệp': 1, 'rũ': 1, 'chưa': 1, 'chừng': 1, 'giòn': 1, 'giã': 1, 'bởi': 1, 'ngoé': 1, 'đổi': 1, 'mật': 1, 'chơi': 1, 'tiếp': 1, 'luôn': 1, 'chuyện': 3, 'tử': 1, 'tế': 1, 'cần': 2, 'thanh': 1, 'động': 1, 'ngoài': 2, 'mang': 1, 'xốc': 1, 'phàn': 1, 'nàn': 1, 'giá': 1, 'lớn': 1, 'câu': 1, 'đủ': 1, 'tại': 1, 'nóng': 1, 'tính': 1, 'lòng': 2, 'nguôi': 2, 'cố': 3, 'vẻ': 1, 'nặng': 1, 'nề': 1, 'rằng': 1, 'thắng': 1, 'đưa': 1, 'nháy': 1, 'tội': 1, 'đáng': 1, 'đun': 1, 'mau': 1, 'dắt': 1, 'dậy': 2, 'giục': 1, 'thêm': 1, 'chịu': 2, 'khập': 1, 'khiễng': 1, 'què': 1, 'gào': 1, 'bới': 1, 'hái': 1, 'ngọt': 1, 'ngào': 1, 'mềm': 1, 'nhũn': 3, 'vả': 2, 'trọi': 1, 'hữu': 1, 'thức': 1, 'xa': 1, 'xôi': 1, 'thuở': 1, 'ngày': 1, 'táo': 2, 'bạo': 2, 'gây': 1, 'bốn': 1, 'oai': 1, 'vây': 1, 'thích': 1, 'em': 1, 'ờ': 1, 'độc': 1, 'lực': 1, 'chọi': 1, 'hộ': 1, 'hội': 1, 'đồng': 1, 'kỳ': 2, 'hào': 2, 'bắc': 1, 'nhân': 1, 'dân': 1, 'biểu': 1, 'khét': 1, 'nghìn': 1, 'suất': 1, 'đinh': 1, 'kể': 1, 'cam': 1, 'tâm': 1, 'vậy': 1, 'thét': 1, 'lửa': 1, 'xử': 2, 'mời': 1, 'xơi': 1, 'ngần': 1, 'ngại': 1, 'lão': 1, 'cáo': 1, 'già': 2, 'chả': 1, 'lừa': 1, 'thể': 1, 'mâm': 1, 'nồi': 1, 'đồ': 2, 'bạc': 1, 'khoác': 1, 'cổ': 2, 'chần': 1, 'trận': 1, 'om': 1, 'vu': 1, 'cướp': 1, 'đục': 1, 'khoét': 1, 'đớn': 1, 'lép': 1, 'trấu': 1, 'cọp': 1, 'toáng': 1, 'ngợi': 1, 'tí': 1, 'liệu': 1, 'nếu': 1, 'rạch': 1, 'nhát': 1, 'quái': 1, 'cùng': 1, 'giở': 1, 'quẻ': 1, 'thường': 1}\n",
      "2032\n"
     ]
    }
   ],
   "source": [
    "vanban = '''Hắn vừa đi vừa chửi. Bao giờ cũng thế, cứ rượu xong là hắn chửi. Bắt đầu chửi trời, có hề gì? Trời có của riêng nhà nào? Rồi hắn chửi đời. Thế cũng chẳng sao: Đời là tất cả nhưng cũng chẳng là ai. Tức mình hắn chửi ngay tất cả làng Vũ Đại. Nhưng cả làng Vũ Đại ai cũng nhủ: “Chắc nó trừ mình ra!”. Không ai lên tiếng cả. Tức thật! Ồ thế này thì tức thật! Tức chết đi được mất! Đã thế, hắn phải chửi cha đứa nào không chửi nhau với hắn. Nhưng cũng không ai ra điều. Mẹ kiếp! Thế thì có phí rượu không? Thế thì có khổ hắn không? Không biết đứa chết mẹ nào đẻ ra thân hắn cho hắn khổ đến nông nỗi này! A ha! Phải đấy hắn cứ thế mà chửi, hắn chửi đứa chết mẹ nào đẻ ra thân hắn, đẻ ra cái thằng Chí Phèo? Mà có trời biết! Hắn không biết, cả làng Vũ Đại cũng không ai biết.\n",
    "\n",
    "Một anh đi thả ống lươn, một buổi sáng tinh sương đã thấy hắn trần truồng và xám ngắt trong cái váy đụp để bên một lò gạch bỏ không, anh ta rước lấy và đem cho một người đàn bà góa mù. Người đàn bà góa mù này bán hắn cho một bác phó cối không con và khi bác phó cối này chết thì hắn bơ vơ, hết đi ở cho nhà này lại đi ở cho nhà nọ. Năm hai mươi tuổi, hắn làm canh điền cho ông lý Kiến, bây giờ cụ bá Kiến, ăn tiên chỉ làng. Hình như, có mấy lần bà ba nhà ông lý, trẻ lắm mà lại hay ốm lửng, bắt hắn bóp chân, hay xoa bụng, đấm lưng gì đấy. Người ta bảo ông lý ra đình thì hách dịch, cả làng phải sợ, mà về nhà phải sợ cái bà ba còn trẻ này. Người bà ấy phốp pháp, má bà ấy hây hây, mà ông lý thì hay đau lưng lắm; người có bệnh đau lưng thì hay sợ vợ mà chúa đời là khoẻ ghen. Có người bảo ông lý ghen anh canh điền khoẻ mạnh mà sợ bà ba không dám nói. Có người thì bảo anh canh điền ấy được bà ba quyền thu quyền bổ trong nhà tin cẩn nên lấy trộm tiền trộm thóc nhiều. Mỗi người nói một cách. Chẳng biết đâu mà lần. Chỉ biết một hôm Chí bị giải huyện rồi nghe đâu phải đi tù. Không biết tù mấy năm, nhưng hắn đi biệt tăm bảy, tám năm, rồi một hôm, hắn lại lù lù ở đâu lần về. Hắn về lần này trông khác hẳn, mới đầu chẳng ai biết hắn là ai. Trông đặc như thằng sắng cá! Cái đầu thì trọc lốc, cái răng cạo trắng hớn, cái mặt thì đen mà rất cơng cơng, hai mắt gườm gườm trông gớm chết! Hắn mặc quần áo nái đen với cái áo tây vàng. Cái ngực phanh đầy những nét chạm trổ rồng, phượng với một ông tướng cầm chùy, cả hai cánh tay cũng thế. Trông gớm chết!\n",
    "\n",
    "Hắn về hôm trước, hôm sau đã thấy ngồi ở chợ uống rượu với thịt chó suốt từ trưa đến xế chiều. Rồi say khướt, hắn xách một cái vỏ chai đến cổng nhà bá Kiến, gọi tận tên tục ra mà chửi. Cụ bá không có nhà. Thấy điệu bộ hung hăng của hắn, bà cả đùn bà hai, bà hai thúc bà ba, bà ba gọi bà tư, nhưng kết cục chẳng bà nào dám ra nói với hắn một vài lời phải chăng. Mắc cái phải cái thằng liều lĩnh quá, nó lại say rượu, tay nó lại lăm lăm cầm một cái vỏ chai, mà nhà lúc ấy toàn đàn bà cả... Thôi thì cứ đóng cái cổng cho thật chặt, rồi mặc thây cha nó, nó chửi thì tai liền miệng đấy, chửi thì lại nghe! Thành thử chỉ có ba con chó dữ với một thằng say rượu!... Thật là ầm ỹ! Hàng xóm phải một bữa điếc tai, nhưng có lẽ trong bụng thì họ hả: xưa nay họ mới chỉ được nghe bà cả, bà hai, bà ba, bà tư nhà cụ bá chửi người ta, bây giờ họ mới thấy người ta chửi lại cả nhà cụ bá. Mà chửi mới sướng miệng làm sao! Mới ngoa ngắt làm sao. Họ bảo nhau: Phen này cha con thằng bá Kiến đố còn dám vác mặt đi đâu nữa! Mồ mả tổ tiên đến lộn lên mất. Cũng có người hiền lành hơn bảo: “Phúc đời nhà nó, chắc ông lý không có nhà...”. Ông lý đây là ông lý Cường, con giai cụ Bá nổi tiếng là hách dịch, coi người như rơm rác. Phải ông lý Cường thử có nhà xem nào! Quả nhiên họ nói có sai đâu! Đấy, có tiếng người sang sảng quát: “Mày muốn lôi thôi gì?... Cái thằng không cha không mẹ này! Mày muốn lôi thôi gì?...” Đã bảo mà! Cái tiếng quát tháo kia là tiếng lý Cường. Lý Cường đã về! Lý Cường đã về! Phải biết... A ha! Một cái tát rất kêu. Ôi! Cái gì thế này? Tiếng đấm tiếng đá nhau bình bịch. Thôi, cứ gọi là tan xương! Bỗng “choang” một cái, thôi phải rồi, hẳn đập cái chai vào cột cổng... ồ hắn kêu! Hắn vừa chửi vừa kêu làng như bị người ta cắt họng. Ồ hắn kêu!\n",
    "\n",
    "- Ối làng nước ơi! Cứu tôi với... Ối làng nước ôi! Bố con thằng bá Kiến nó đâm chết tôi! Thằng lý Cường nó đâm chết tôi rồi, làng nước ôi!...\n",
    "\n",
    "Và họ thấy Chí Phèo lăn lộn dưới đất, vừa kêu vừa lấy mảnh chai cào vào mặt. Máu ra loe loét trông gớm quá! Mấy con chó xông vào quanh hắn, sủa rất hăng. Lý Cường hơi tái mặt, đứng nhìn mà cười nhạt, cười khinh bỉ. Hừ! Ngỡ là gì, chẳng hoá ra nằm ăn vạ! Thì ra hắn định đến đây nằm vạ!\n",
    "\n",
    "Người ta tuôn đến xem. Mấy cái ngõ tối xung quanh đùn ra biết bao nhiêu là người! Thật ồn ào như chợ. Bà cả, bà hai, bà ba, bà tư nhà cụ bá cũng vững dạ vì có anh lý, cũng xưng xỉa ra chửi góp. Thật ra, các bà muốn xem Chí Phèo ra làm sao? Không khéo nó có ý gieo vạ cho cụ ông phen này...\n",
    "\n",
    "Nhưng kìa cụ ông đã về. Cụ cất tiếng rất sang hỏi: “Cái gì mà đông như thế này?”. Chỗ này “lạy cụ”, chỗ kia “lạy cụ”, người ta kính cẩn giãn ra, và Chí Phèo bỗng nằm dài, không nhúc nhích rên khe khẽ như gần chết.\n",
    "\n",
    "Thoáng nhìn qua, đã hiểu cơ sự rồi. Làm lý trưởng rồi chánh tổng, bây giờ lại đến lượt con cụ làm lý trưởng, những việc như thế này cụ không lạ gì. Cụ hãy quát mấy bà vợ đang xưng xỉa chực tâng công với chồng:\n",
    "\n",
    "- Các bà đi vào nhà: đàn bà chỉ lôi thôi, biết gì?\n",
    "\n",
    "Rồi quay lại bọn người làng, cụ dịu giọng hơn một chút:\n",
    "\n",
    "- Cả các ông, các bà nữa, về đi thôi chứ! Có gì mà xúm lại như thế này?\n",
    "\n",
    "Không ai nói gì, người ta dần dần tản đi. Vì nể cụ bá cũng có, nhưng vì nghĩ đến sự yên ổn của mình cũng có: người nhà quê vốn ghét lôi thôi. Ai dại gì đứng ỳ ra đấy, có làm sao họ triệu mình đi làm chứng. Sau còn trơ lại Chí Phèo và cha con cụ bá. Bây giờ cụ mới lại gần hắn, khẽ lay và gọi:\n",
    "\n",
    "- Anh Chí ơi! Sao anh lại làm ra thế ?\n",
    "\n",
    "Chí Phèo lim dim mắt, rên lên:\n",
    "\n",
    "- Tao chỉ liều chết với bố con nhà mày đấy thôi. Nhưng tao mà chết thì có thằng sạt nghiệp, mà còn rũ tù chưa biết chừng.\n",
    "\n",
    "Cụ bá cười nhạt, nhưng tiếng cười giòn giã lắm: người ta bảo cụ hơn người cũng chỉ bởi cái cười.\n",
    "\n",
    "- Cái anh này nói mới hay! Ai làm gì mà anh phải chết? Đời người chứ có phải con ngoé đâu? Lại say rồi phải không?\n",
    "\n",
    "Rồi đổi giọng, cụ thân mật hỏi:\n",
    "\n",
    "- Về bao giờ thế? Sao không vào tôi chơi? Đi vào nhà uống nước.\n",
    "\n",
    "Thấy Chí Phèo không nhúc nhích, cụ tiếp luôn:\n",
    "\n",
    "- Nào đứng lên đi. Cứ vào đây uống nước đã. Có cái gì ta nói chuyện tử tế với nhau, cần gì mà phải làm thanh động lên như thế, người ngoài biết, mang tiếng cả.\n",
    "\n",
    "Rồi vừa xốc Chí Phèo, cụ vừa phàn nàn:\n",
    "\n",
    "- Khổ quá! Giá có tôi ở nhà thì đâu đến nỗi. Ta nói chuyện với nhau, thế nào cũng xong. Người lớn cả, chỉ một câu chuyện với nhau là đủ. Chỉ tại thằng lý Cường nóng tính không biết nghĩ trước nghĩ sau. Ai, chứ anh với nó còn có họ kia đấy.\n",
    "\n",
    "Chí Phèo chẳng biết họ hàng ra làm sao, nhưng cũng thấy lòng nguôi nguôi. Hắn cố làm ra vẻ nặng nề, ngồi lên. Cụ bá biết rằng mình đã thắng, đưa mắt nháy con một cái, cụ quát:\n",
    "\n",
    "- Lý Cường đâu! Tội mày đáng chết. Không bảo người ta đun nước, mau lên!\n",
    "\n",
    "Cụ dắt Chí Phèo đứng dậy, giục thêm vài tiếng nữa, và Chí Phèo chịu đi: hắn chỉ cố khập khiễng cái chân như bị què. Là vì lúc ấy trong người hắn rượu đã hơi nhạt rồi, không còn kêu gào chửi bới, hắn thấy hình như không còn hăng hái nữa. Sự ngọt ngào làm mềm nhũn, vả lại những người đứng xem về cả rồi, hắn thấy hình như trơ trọi. Cái sợ cố hữu trong lòng thức dậy, cái sợ xa xôi thuở ngày xưa, hắn thấy quả là táo bạo. Không táo bạo mà dám gây sự với cha con bá Kiến, bốn đời làm tổng lý. Và nghĩ thế, hắn thấy hắn cũng oai. Hắn làm cái ông gì ở làng này? Không vây cánh, không họ hàng thân thích; anh em không có, đến bố mẹ cũng không... Ờ thế mà cũng dám độc lực chọi nhau với lý trưởng, chánh tổng, bá hộ tiên chỉ làng Vũ Đại, Chánh Hội đồng kỳ hào, huyện hào, Bắc kỳ nhân dân đại biểu, khét tiếng đến cả trong hàng huyện. Thử hỏi đã có mặt nào trong cái làng hơn hai nghìn suất đinh này làm được thế? Kể làm rồi có chết cũng là cam tâm. Vậy mà không: cái cụ bá thét ra lửa ấy lại xử nhũn, mời hắn vào nhà xơi nước. Thôi cũng hả, đã xử nhũn thì hắn vào. Nhưng bỗng hắn lại hơi ngần ngại; biết đâu cái lão cáo già này nó lại chả lừa hắn vào nhà rồi lôi thôi? Ồ mà thật có thể như thế lắm! Này nó hãy lôi ngay mấy cái mâm cái nồi hay đồ vàng đồ bạc ra khoác vào cổ hắn, rồi cho vợ ra kêu làng lên, rồi cột cổ hắn vào, chần cho một trận om xương, rồi vu cho là ăn cướp thì sao? Cái thằng bá Kiến này, già đời đục khoét, còn đớn cái nước gì mà chịu lép như trấu thế? Thôi dại gì mà vào miệng cọp, hắn cứ đứng đây này, cứ lăn ra đây này, lại kêu toáng lên xem nào. Nhưng nghĩ ngợi một tí, hắn có lăn ra kêu nữa, liệu có còn ai ra? Vả lại bây giờ rượu nhạt rồi, nếu lại phải rạch mặt mấy nhát nữa thì cũng đau. Thôi cứ vào! Vào thì vào, cần quái gì. Muốn đập đầu thì vào ngay nhà nó mà đập đầu còn hơn ở ngoài. Cùng lắm, nó có giở quẻ, hắn cũng chỉ đến đi ở tù. Ở tù thì hắn coi là thường. Thôi cứ vào.'''\n",
    "\n",
    "symbols = {'~', ':', \"'\", '+', '[', '\\\\', '@', '^', '{', '%', '(', '-', '\"', '*', '|', ',', '&', '<', '`', '}', '.', '_', '=', ']', '!', '>', ';', '?', '#', '$', ')', '/','“','”'}\n",
    "\n",
    "for i in symbols:\n",
    "    vanban = vanban.replace(i,\"\")\n",
    "    \n",
    "vanban = vanban.lower()\n",
    "\n",
    "vanban = vanban.split()\n",
    "\n",
    "D_dem = {}\n",
    "\n",
    "#### key sẽ từ, value sẽ là số lần từ xuất hiện\n",
    "\n",
    "### cách 1\n",
    "for tu in vanban:\n",
    "    if tu not in D_dem:\n",
    "        D_dem[tu] = vanban.count(tu)\n",
    "        \n",
    "### cách 2\n",
    "for tu in vanban:\n",
    "    if tu not in D_dem:\n",
    "        D_dem[tu] = 0\n",
    "    D_dem[tu] += 1\n",
    "    \n",
    "print(D_dem)\n",
    "\n",
    "print(len(vanban))"
   ]
  },
  {
   "cell_type": "markdown",
   "id": "57c6f1e7",
   "metadata": {},
   "source": [
    "Viết chương trình cho phép người dùng quản lý sản phẩm, gồm các chức năng sau: \n",
    "\n",
    "- Hiển thị danh sách sản phẩm\n",
    "- Thêm sản phẩm mới vào danh sách\n",
    "- Sửa tên của sản phẩm trong danh sách\n",
    "- Xoá một sản phẩm khỏi danh sách"
   ]
  },
  {
   "cell_type": "code",
   "execution_count": 3,
   "id": "8541b8c3",
   "metadata": {},
   "outputs": [],
   "source": [
    "D_sp = {\"SP01\":\"Cơm gà\",\n",
    "     \"SP02\":\"Cơm bò\",\n",
    "     \"SP03\":\"Cơm sườn\",\n",
    "     \"SP04\":\"Cơm sườn trứng\",\n",
    "    }"
   ]
  },
  {
   "cell_type": "code",
   "execution_count": 8,
   "id": "6e784e39",
   "metadata": {},
   "outputs": [
    {
     "name": "stdout",
     "output_type": "stream",
     "text": [
      "dict_items([('SP01', 'Cơm gà'), ('SP02', 'Cơm bò'), ('SP03', 'Cơm sườn'), ('SP04', 'Cơm sườn trứng')])\n",
      "SP01 Cơm gà\n",
      "SP02 Cơm bò\n",
      "SP03 Cơm sườn\n",
      "SP04 Cơm sườn trứng\n"
     ]
    }
   ],
   "source": [
    "print(D_sp.items()) ### ~~> chuyển dict thành list\n",
    "L_sp = D_sp.items()\n",
    "for key,value in L_sp:\n",
    "    print(key,value)"
   ]
  },
  {
   "cell_type": "code",
   "execution_count": 1,
   "id": "0560c396",
   "metadata": {},
   "outputs": [
    {
     "name": "stdout",
     "output_type": "stream",
     "text": [
      "hello\n",
      "hello\n",
      "hello\n",
      "hello\n",
      "hello\n",
      "hello\n",
      "hello\n",
      "hello\n",
      "hello\n",
      "hello\n"
     ]
    }
   ],
   "source": [
    "i = 0\n",
    "\n",
    "def abc():\n",
    "    global i\n",
    "    print(\"hello\")\n",
    "    i += 1\n",
    "    if i < 10:\n",
    "        abc()\n",
    "    \n",
    "abc()"
   ]
  },
  {
   "cell_type": "code",
   "execution_count": 4,
   "id": "1b5ea5dc",
   "metadata": {
    "scrolled": false
   },
   "outputs": [
    {
     "name": "stdout",
     "output_type": "stream",
     "text": [
      "Nhập vào ký tự tương ứng với chức năng:\n",
      "H - Hiển thị danh sách sản phẩm\n",
      "T - Thêm sản phẩm mới\n",
      "S - Sửa sản phẩm\n",
      "X - Xóa sản phẩm\n",
      "0 - Thoát chương trình\n",
      "\n",
      "Nhập vào chức năng:H\n",
      "--------------------------------------\n",
      "\n",
      "SP01 - Cơm gà\n",
      "SP02 - Cơm bò\n",
      "SP03 - Cơm sườn\n",
      "SP04 - Cơm sườn trứng\n",
      "\n",
      "--------------------------------------\n",
      "Nhập vào chức năng:S\n",
      "Nhập mã sản phẩm: SP01\n",
      "Nhập tên sản phẩm: Cơm bì chả\n",
      "Sản phẩm mới nhất đã được cập nhật\n",
      "Nhập vào chức năng:H\n",
      "--------------------------------------\n",
      "\n",
      "SP01 - Cơm bì chả\n",
      "SP02 - Cơm bò\n",
      "SP03 - Cơm sườn\n",
      "SP04 - Cơm sườn trứng\n",
      "\n",
      "--------------------------------------\n",
      "Nhập vào chức năng:X\n",
      "Nhập mã sản phẩm: SP01\n",
      "Nhập vào chức năng:H\n",
      "--------------------------------------\n",
      "\n",
      "SP02 - Cơm bò\n",
      "SP03 - Cơm sườn\n",
      "SP04 - Cơm sườn trứng\n",
      "\n",
      "--------------------------------------\n",
      "Nhập vào chức năng:T\n",
      "Nhập mã sản phẩm: SP01\n",
      "Nhập tên sản phẩm: Phở\n",
      "Sản phẩm mới nhất đã được cập nhật\n",
      "Nhập vào chức năng:H\n",
      "--------------------------------------\n",
      "\n",
      "SP02 - Cơm bò\n",
      "SP03 - Cơm sườn\n",
      "SP04 - Cơm sườn trứng\n",
      "SP01 - Phở\n",
      "\n",
      "--------------------------------------\n",
      "Nhập vào chức năng:0\n",
      "Cảm ơn bạn đã sử dụng phần mềm của chúng tôi!\n"
     ]
    }
   ],
   "source": [
    "### format của key là SPXX (XX là 1 số nguyên)\n",
    "### viết 4 hàm xử lý\n",
    "\n",
    "##### hiển thị sản phẩm\n",
    "def hienthisanpham(D):\n",
    "    ###### hiển thị ra danh sách sản phẩm theo mẫu:\n",
    "    ######## --------------------------------------\n",
    "    ########\n",
    "    ######## SP01 - Cơm gà\n",
    "    ######## SP02 - Cơm bò\n",
    "    ######## SP03 - Cơm sườn\n",
    "    ######## SP04 - Cơm sườn trứng\n",
    "    ########\n",
    "    ######## --------------------------------------\n",
    "    print(\"--------------------------------------\\n\")\n",
    "    for i in D:\n",
    "        print(i,\"-\",D[i])\n",
    "    print(\"\\n--------------------------------------\")\n",
    "\n",
    "##### Thêm sản phẩm\n",
    "def themsanpham(D):\n",
    "    ######## Nhập vào key của sản phẩm \n",
    "    ########## TH1: Nếu key đã tồn tại hoặc sai format thì yêu cầu người dùng nhập lại key cho đến khi nào nhập đúng\n",
    "    ########## TH2: Ngược lại với TH1 thì yêu cầu người dùng nhập tên sản phẩm\n",
    "    ######## Lưu sản phẩm vào trong danh sách\n",
    "    ############# Note: Trong quá trình nhập, nếu người dùng nhập 0 thì thoát hàm mà không tạo thêm sản phẩm\n",
    "    while True:\n",
    "        masp = str(input(\"Nhập mã sản phẩm: \")) ## nhập lên trên này\n",
    "        if masp == \"0\":\n",
    "            return\n",
    "        if masp in D:\n",
    "            print(\"Mã sản phẩm đã tồn tại\")\n",
    "            continue\n",
    "        if masp[0:2] != \"SP\" or not masp[2:4].isnumeric() or len(masp) != 4:\n",
    "            print(\"Mã sản phẩm không đúng quy định\")\n",
    "            continue\n",
    "        break\n",
    "    tensp = input(\"Nhập tên sản phẩm: \")\n",
    "    if tensp != \"0\":\n",
    "        D[masp] = tensp\n",
    "        print(\"Sản phẩm mới nhất đã được cập nhật\")\n",
    "        \n",
    "# def themsanpham(D):\n",
    "#     while True:\n",
    "#         key=input(\"Nhập mã sản phẩm: \")\n",
    "#         if key == \"0\":\n",
    "#             return\n",
    "#         if key[0]!='S' or key[1]!='P' or not key[2].isnumeric() or not key[3].isnumeric() or key in D:\n",
    "#             print(\"Nhập lại key\")\n",
    "#             continue\n",
    "#         else:\n",
    "#             D[key] = input(\"Nhập tên sản phẩm: \")\n",
    "#             return\n",
    "\n",
    "##### Sửa sản phẩm\n",
    "def suasanpham(D):\n",
    "    ######## Nhập vào key của sản phẩm\n",
    "    ########## TH1: Nếu key chưa tồn tại yêu cầu người dùng nhập lại key cho đến khi nào nhập đúng\n",
    "    ########## TH2: Ngược lại với TH1 thì yêu cầu người dùng nhập tên sản phẩm\n",
    "    ######## Thay đổi tên sản phẩm\n",
    "    ############# Note: Trong quá trình nhập, nếu người dùng nhập 0 thì thoát hàm mà không sửa sản phẩm\n",
    "    while True:\n",
    "        masp = str(input(\"Nhập mã sản phẩm: \")) ## nhập lên trên này\n",
    "        if masp == \"0\":\n",
    "            return\n",
    "        if masp not in D:\n",
    "            print(\"Mã sản phẩm không tồn tại\")\n",
    "            continue\n",
    "        break\n",
    "    tensp = input(\"Nhập tên sản phẩm: \")\n",
    "    if tensp != \"0\":\n",
    "        D[masp] = tensp\n",
    "        print(\"Sản phẩm mới nhất đã được cập nhật\")\n",
    "\n",
    "##### Xóa sản phẩm\n",
    "def xoasanpham(D):\n",
    "    ######## Nhập vào key của sản phẩm\n",
    "    ########## TH1: Nếu key chưa tồn tại yêu cầu người dùng nhập lại key cho đến khi nào nhập đúng\n",
    "    ########## TH2: Ngược lại với TH1 thì yêu cầu người dùng nhập tên sản phẩm\n",
    "    ######## Xóa sản phẩm\n",
    "    ############# Note: Trong quá trình nhập, nếu người dùng nhập 0 thì thoát hàm mà không sửa sản phẩm\n",
    "    while True:\n",
    "        masp = str(input(\"Nhập mã sản phẩm: \")) ## nhập lên trên này\n",
    "        if masp == \"0\":\n",
    "            return\n",
    "        if masp not in D:\n",
    "            print(\"Mã sản phẩm không tồn tại\")\n",
    "            continue\n",
    "        break\n",
    "    D.pop(masp)\n",
    "\n",
    "print('''Nhập vào ký tự tương ứng với chức năng:\n",
    "H - Hiển thị danh sách sản phẩm\n",
    "T - Thêm sản phẩm mới\n",
    "S - Sửa sản phẩm\n",
    "X - Xóa sản phẩm\n",
    "0 - Thoát chương trình\n",
    "''')\n",
    "while True:\n",
    "    nhap = input(\"Nhập vào chức năng:\")\n",
    "    if nhap == \"H\":\n",
    "        hienthisanpham(D_sp)\n",
    "    elif nhap == \"T\":\n",
    "        themsanpham(D_sp)\n",
    "    elif nhap == \"S\":\n",
    "        suasanpham(D_sp)\n",
    "    elif nhap == \"X\":\n",
    "        xoasanpham(D_sp)\n",
    "    elif nhap == \"0\":\n",
    "        break\n",
    "        \n",
    "print(\"Cảm ơn bạn đã sử dụng phần mềm của chúng tôi!\")"
   ]
  },
  {
   "cell_type": "code",
   "execution_count": 15,
   "id": "c6aeff49",
   "metadata": {},
   "outputs": [
    {
     "name": "stdout",
     "output_type": "stream",
     "text": [
      "['SP01', 'SP02', 'SP03', 'SP05', 'SP07', 'SP06', 'SP04']\n"
     ]
    }
   ],
   "source": [
    "D_sp = {\"SP01\": \"Cơm gà\",\n",
    "        \"SP02\": \"Cơm bò\",\n",
    "        \"SP03\": \"Cơm sườn\",\n",
    "        \"SP05\": \"Cơm chiên\",\n",
    "        \"SP07\": \"Cơm đặc biệt\",\n",
    "        \"SP06\": \"Bún\",\n",
    "        \"SP04\": \"Hủ tiếu\",}\n",
    "\n",
    "L = list(D_sp.keys())\n",
    "print(L)"
   ]
  },
  {
   "cell_type": "code",
   "execution_count": 16,
   "id": "c8672016",
   "metadata": {},
   "outputs": [
    {
     "name": "stdout",
     "output_type": "stream",
     "text": [
      "['SP01', 'SP02', 'SP03', 'SP04', 'SP05', 'SP06', 'SP07']\n"
     ]
    },
    {
     "data": {
      "text/plain": [
       "{'SP01': 'Cơm gà',\n",
       " 'SP02': 'Cơm bò',\n",
       " 'SP03': 'Cơm sườn',\n",
       " 'SP04': 'Hủ tiếu',\n",
       " 'SP05': 'Cơm chiên',\n",
       " 'SP06': 'Bún',\n",
       " 'SP07': 'Cơm đặc biệt'}"
      ]
     },
     "execution_count": 16,
     "metadata": {},
     "output_type": "execute_result"
    }
   ],
   "source": [
    "D_sp = {\"SP01\": \"Cơm gà\",\n",
    "        \"SP02\": \"Cơm bò\",\n",
    "        \"SP03\": \"Cơm sườn\",\n",
    "        \"SP05\": \"Cơm chiên\",\n",
    "        \"SP07\": \"Cơm đặc biệt\",\n",
    "        \"SP06\": \"Bún\",\n",
    "        \"SP04\": \"Hủ tiếu\",}\n",
    "\n",
    "def sapxep(D):\n",
    "    ### trả về 1 dictionary đã đc sắp xếp KHÔNG thay đổi dữ liệu trong D gốc\n",
    "    D_a = {}\n",
    "    L = []\n",
    "    for i in D:\n",
    "        L.append(i)\n",
    "    for i in range(0,len(L)-1):\n",
    "        for j in range(i+1, len(L)):\n",
    "            if L[i] > L[j]:\n",
    "                L[i],L[j] = L[j],L[i]\n",
    "    print(L)\n",
    "    for i in L:\n",
    "        D_a[i] = D[i]\n",
    "    return D_a\n",
    "\n",
    "sapxep(D_sp)"
   ]
  }
 ],
 "metadata": {
  "kernelspec": {
   "display_name": "Python 3 (ipykernel)",
   "language": "python",
   "name": "python3"
  },
  "language_info": {
   "codemirror_mode": {
    "name": "ipython",
    "version": 3
   },
   "file_extension": ".py",
   "mimetype": "text/x-python",
   "name": "python",
   "nbconvert_exporter": "python",
   "pygments_lexer": "ipython3",
   "version": "3.9.12"
  }
 },
 "nbformat": 4,
 "nbformat_minor": 5
}
