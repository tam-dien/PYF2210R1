{
 "cells": [
  {
   "cell_type": "markdown",
   "id": "4ccf3ca7",
   "metadata": {},
   "source": [
    "# Hàm 2"
   ]
  },
  {
   "cell_type": "markdown",
   "id": "f7b87bde",
   "metadata": {},
   "source": [
    "## Tham số mặc định của hàm"
   ]
  },
  {
   "cell_type": "markdown",
   "id": "13ddcecb",
   "metadata": {},
   "source": [
    "Cú pháp\n",
    "\n",
    "<code>def \\<tên hàm\\>(\\<tham số không có mặc định\\>,\\<tên tham số\\>=\\<giá trị mặc định\\>):\n",
    "    //Nội dung hàm<code>"
   ]
  },
  {
   "cell_type": "markdown",
   "id": "65323741",
   "metadata": {},
   "source": [
    "Ví dụ:\n",
    "\n",
    "Hãy viết 1 hàm số để tính tổng 2 tham số đầu vào với tham số thứ 2 có giá trị mặc định là 10"
   ]
  },
  {
   "cell_type": "code",
   "execution_count": 3,
   "id": "5da142e2",
   "metadata": {},
   "outputs": [
    {
     "name": "stdout",
     "output_type": "stream",
     "text": [
      "35\n"
     ]
    }
   ],
   "source": [
    "def tong(a,b=10):\n",
    "    return a + b\n",
    "\n",
    "t = tong(15,20)\n",
    "print(t)"
   ]
  },
  {
   "cell_type": "code",
   "execution_count": 4,
   "id": "763ec4ab",
   "metadata": {
    "scrolled": true
   },
   "outputs": [
    {
     "ename": "SyntaxError",
     "evalue": "non-default argument follows default argument (1061341618.py, line 1)",
     "output_type": "error",
     "traceback": [
      "\u001b[1;36m  Cell \u001b[1;32mIn [4], line 1\u001b[1;36m\u001b[0m\n\u001b[1;33m    def tong(a=10,b):\u001b[0m\n\u001b[1;37m                   ^\u001b[0m\n\u001b[1;31mSyntaxError\u001b[0m\u001b[1;31m:\u001b[0m non-default argument follows default argument\n"
     ]
    }
   ],
   "source": [
    "def tong(a=10,b):\n",
    "    return a + b"
   ]
  },
  {
   "cell_type": "code",
   "execution_count": 5,
   "id": "a19f8404",
   "metadata": {},
   "outputs": [
    {
     "name": "stdout",
     "output_type": "stream",
     "text": [
      "65\n"
     ]
    }
   ],
   "source": [
    "def tong(a,b=10,c=25):\n",
    "    return a + b + c\n",
    "\n",
    "t = tong(30)\n",
    "print(t)"
   ]
  },
  {
   "cell_type": "code",
   "execution_count": 6,
   "id": "df283a62",
   "metadata": {},
   "outputs": [
    {
     "name": "stdout",
     "output_type": "stream",
     "text": [
      "15\n"
     ]
    }
   ],
   "source": [
    "def tong(a,b=10,c=25):\n",
    "    return a + b - c\n",
    "\n",
    "t = tong(30)\n",
    "print(t)"
   ]
  },
  {
   "cell_type": "code",
   "execution_count": 7,
   "id": "f7398032",
   "metadata": {},
   "outputs": [
    {
     "name": "stdout",
     "output_type": "stream",
     "text": [
      "20\n"
     ]
    }
   ],
   "source": [
    "def tong(a,b=10,c=25):\n",
    "    return a + b - c\n",
    "\n",
    "t = tong(30,15)\n",
    "print(t)"
   ]
  },
  {
   "cell_type": "code",
   "execution_count": 8,
   "id": "ea99c445",
   "metadata": {},
   "outputs": [
    {
     "name": "stdout",
     "output_type": "stream",
     "text": [
      "10\n"
     ]
    }
   ],
   "source": [
    "def tong(a,b=10,c=25):\n",
    "    return a + b - c\n",
    "\n",
    "t = tong(30,c=30) ## 30 + 10 - 30 ## a = 30, b = 10 (mặc định), c = 30\n",
    "print(t)"
   ]
  },
  {
   "cell_type": "code",
   "execution_count": 10,
   "id": "f7f752ec",
   "metadata": {},
   "outputs": [
    {
     "name": "stdout",
     "output_type": "stream",
     "text": [
      "-5\n"
     ]
    }
   ],
   "source": [
    "def tong(a,b=10,c=25,d=10):\n",
    "    return a + b - (c + d)\n",
    "\n",
    "t = tong(30,c=30,d=15) ## 30 + 10 - (30 + 15)\n",
    "print(t)"
   ]
  },
  {
   "cell_type": "code",
   "execution_count": 11,
   "id": "0fb56127",
   "metadata": {},
   "outputs": [
    {
     "name": "stdout",
     "output_type": "stream",
     "text": [
      "5\n"
     ]
    }
   ],
   "source": [
    "def tong(a,b=10,c=25,d=10):\n",
    "    return a + b - (c + d)\n",
    "\n",
    "t = tong(30,c=30,b=15)\n",
    "print(t)"
   ]
  },
  {
   "cell_type": "code",
   "execution_count": 14,
   "id": "f44aff5f",
   "metadata": {},
   "outputs": [
    {
     "ename": "TypeError",
     "evalue": "tong() missing 1 required positional argument: 'a'",
     "output_type": "error",
     "traceback": [
      "\u001b[1;31m---------------------------------------------------------------------------\u001b[0m",
      "\u001b[1;31mTypeError\u001b[0m                                 Traceback (most recent call last)",
      "Cell \u001b[1;32mIn [14], line 4\u001b[0m\n\u001b[0;32m      1\u001b[0m \u001b[38;5;28;01mdef\u001b[39;00m \u001b[38;5;21mtong\u001b[39m(a,b\u001b[38;5;241m=\u001b[39m\u001b[38;5;241m10\u001b[39m,c\u001b[38;5;241m=\u001b[39m\u001b[38;5;241m25\u001b[39m,d\u001b[38;5;241m=\u001b[39m\u001b[38;5;241m10\u001b[39m):\n\u001b[0;32m      2\u001b[0m     \u001b[38;5;28;01mreturn\u001b[39;00m a \u001b[38;5;241m+\u001b[39m b \u001b[38;5;241m-\u001b[39m (c \u001b[38;5;241m+\u001b[39m d)\n\u001b[1;32m----> 4\u001b[0m t \u001b[38;5;241m=\u001b[39m \u001b[43mtong\u001b[49m\u001b[43m(\u001b[49m\u001b[43mb\u001b[49m\u001b[38;5;241;43m=\u001b[39;49m\u001b[38;5;241;43m25\u001b[39;49m\u001b[43m)\u001b[49m\n\u001b[0;32m      5\u001b[0m \u001b[38;5;28mprint\u001b[39m(t)\n",
      "\u001b[1;31mTypeError\u001b[0m: tong() missing 1 required positional argument: 'a'"
     ]
    }
   ],
   "source": [
    "def tong(a,b=10,c=25,d=10):\n",
    "    return a + b - (c + d)\n",
    "\n",
    "t = tong(b=25)\n",
    "print(t)"
   ]
  },
  {
   "cell_type": "code",
   "execution_count": 15,
   "id": "3aab35f0",
   "metadata": {},
   "outputs": [
    {
     "name": "stdout",
     "output_type": "stream",
     "text": [
      "0\n"
     ]
    }
   ],
   "source": [
    "def tong(a,b=10,c=25,d=10):\n",
    "    return a + b - (c + d)\n",
    "\n",
    "t = tong(b=25,a=10)\n",
    "print(t)"
   ]
  },
  {
   "cell_type": "markdown",
   "id": "95367401",
   "metadata": {},
   "source": [
    "## Tham số không giới hạn"
   ]
  },
  {
   "cell_type": "markdown",
   "id": "c1342f23",
   "metadata": {},
   "source": [
    "Cú pháp\n",
    "\n",
    "<code>def \\<tên hàm\\>(*\\<tên tham số\\>):\n",
    "    //Nội dung hàm<code>"
   ]
  },
  {
   "cell_type": "markdown",
   "id": "f358754b",
   "metadata": {},
   "source": [
    "<b>Bạn hãy thử chạy đoạn code dưới đây</b>\n",
    "\n",
    "<code>def ham(*a):\n",
    "    print(\"a:\",a)\n",
    "    print(\"độ dài của a\",len(a))\n",
    "    print(\"phần tử đầu tiên của a:\",a[0])\n",
    "ham(2,3,5)\n",
    "</code>"
   ]
  },
  {
   "cell_type": "code",
   "execution_count": 16,
   "id": "88e7f3c9",
   "metadata": {},
   "outputs": [
    {
     "name": "stdout",
     "output_type": "stream",
     "text": [
      "a: (2, 3, 5)\n",
      "độ dài của a 3\n",
      "phần tử đầu tiên của a: 2\n"
     ]
    }
   ],
   "source": [
    "def ham(*a):\n",
    "    print(\"a:\",a) ## a là dạng tuple\n",
    "    print(\"độ dài của a\",len(a))\n",
    "    print(\"phần tử đầu tiên của a:\",a[0])\n",
    "    \n",
    "ham(2,3,5)"
   ]
  },
  {
   "cell_type": "code",
   "execution_count": 19,
   "id": "dceb0930",
   "metadata": {},
   "outputs": [
    {
     "name": "stdout",
     "output_type": "stream",
     "text": [
      "a: (2, 31, 'xin chào')\n",
      "độ dài của a 3\n",
      "phần tử đầu tiên của a: 2\n",
      "phần thứ hai của a: 31\n",
      "phần thứ hai của a: xin chào\n"
     ]
    }
   ],
   "source": [
    "def ham(*a):\n",
    "    print(\"a:\",a) ## a là dạng tuple\n",
    "    print(\"độ dài của a\",len(a))\n",
    "    print(\"phần tử đầu tiên của a:\",a[0])\n",
    "    print(\"phần thứ hai của a:\",a[1])\n",
    "    print(\"phần thứ hai của a:\",a[2])\n",
    "    \n",
    "ham(2,31,\"xin chào\")"
   ]
  },
  {
   "cell_type": "code",
   "execution_count": 23,
   "id": "368a9475",
   "metadata": {},
   "outputs": [
    {
     "name": "stdout",
     "output_type": "stream",
     "text": [
      "3\n",
      "2\n",
      "32\n",
      "32\n",
      "54\n",
      "54\n",
      "23\n"
     ]
    }
   ],
   "source": [
    "## viết hàm ham(*a), hãy in ra tất cả các phần tử bên trong a, mỗi phần tử in trên 1 dòng\n",
    "\n",
    "def ham(*a):\n",
    "    for i in range(len(a)):\n",
    "        print(a[i])\n",
    "    \n",
    "ham(3,2,32,32,54,54,23)"
   ]
  },
  {
   "cell_type": "code",
   "execution_count": 24,
   "id": "01bf74ff",
   "metadata": {},
   "outputs": [
    {
     "name": "stdout",
     "output_type": "stream",
     "text": [
      "200\n"
     ]
    }
   ],
   "source": [
    "def ham(*a):\n",
    "    ### tính tổng tất cả các phần tử a\n",
    "    S = 0\n",
    "    for i in range(len(a)):\n",
    "        S += a[i]\n",
    "    return S\n",
    "\n",
    "print(ham(3,2,32,32,54,54,23))"
   ]
  },
  {
   "cell_type": "code",
   "execution_count": 29,
   "id": "7de411c9",
   "metadata": {},
   "outputs": [
    {
     "name": "stdout",
     "output_type": "stream",
     "text": [
      "3\n"
     ]
    }
   ],
   "source": [
    "def ham(*a,b=10,c=12):\n",
    "    S = 0\n",
    "    for i in range(len(a)):\n",
    "        S += a[i]\n",
    "    return S-(b+c)\n",
    "\n",
    "t = ham(3,2,10,10) ## 3+2+10+10-10-12\n",
    "print(t)"
   ]
  },
  {
   "cell_type": "code",
   "execution_count": 30,
   "id": "a244b960",
   "metadata": {},
   "outputs": [
    {
     "name": "stdout",
     "output_type": "stream",
     "text": [
      "0\n"
     ]
    }
   ],
   "source": [
    "def ham(*a,b=10,c=12):\n",
    "    S = 0\n",
    "    for i in range(len(a)):\n",
    "        S += a[i]\n",
    "    return S-(b+c)\n",
    "\n",
    "t = ham(3,2,10,10,b=15,c=10)\n",
    "print(t)"
   ]
  },
  {
   "cell_type": "code",
   "execution_count": 31,
   "id": "d4a2d573",
   "metadata": {},
   "outputs": [
    {
     "ename": "TypeError",
     "evalue": "ham() missing 1 required keyword-only argument: 'b'",
     "output_type": "error",
     "traceback": [
      "\u001b[1;31m---------------------------------------------------------------------------\u001b[0m",
      "\u001b[1;31mTypeError\u001b[0m                                 Traceback (most recent call last)",
      "Cell \u001b[1;32mIn [31], line 7\u001b[0m\n\u001b[0;32m      4\u001b[0m         S \u001b[38;5;241m+\u001b[39m\u001b[38;5;241m=\u001b[39m a[i]\n\u001b[0;32m      5\u001b[0m     \u001b[38;5;28;01mreturn\u001b[39;00m S\u001b[38;5;241m-\u001b[39m(b\u001b[38;5;241m+\u001b[39mc)\n\u001b[1;32m----> 7\u001b[0m t \u001b[38;5;241m=\u001b[39m \u001b[43mham\u001b[49m\u001b[43m(\u001b[49m\u001b[38;5;241;43m3\u001b[39;49m\u001b[43m,\u001b[49m\u001b[38;5;241;43m2\u001b[39;49m\u001b[43m,\u001b[49m\u001b[38;5;241;43m10\u001b[39;49m\u001b[43m,\u001b[49m\u001b[38;5;241;43m10\u001b[39;49m\u001b[43m)\u001b[49m\n\u001b[0;32m      8\u001b[0m \u001b[38;5;28mprint\u001b[39m(t)\n",
      "\u001b[1;31mTypeError\u001b[0m: ham() missing 1 required keyword-only argument: 'b'"
     ]
    }
   ],
   "source": [
    "def ham(*a,b,c=12):\n",
    "    S = 0\n",
    "    for i in range(len(a)):\n",
    "        S += a[i]\n",
    "    return S-(b+c)\n",
    "\n",
    "t = ham(3,2,10,10)\n",
    "print(t)"
   ]
  },
  {
   "cell_type": "code",
   "execution_count": 33,
   "id": "9fd653b8",
   "metadata": {},
   "outputs": [
    {
     "name": "stdout",
     "output_type": "stream",
     "text": [
      "-2\n"
     ]
    }
   ],
   "source": [
    "def ham(*a,b,c=12):\n",
    "    S = 0\n",
    "    for i in range(len(a)):\n",
    "        S += a[i]\n",
    "    return S-(b+c)\n",
    "\n",
    "t = ham(3,2,10,10,b=15)\n",
    "print(t)"
   ]
  },
  {
   "cell_type": "code",
   "execution_count": 34,
   "id": "dfa2a410",
   "metadata": {},
   "outputs": [
    {
     "ename": "SyntaxError",
     "evalue": "invalid syntax (1825963778.py, line 1)",
     "output_type": "error",
     "traceback": [
      "\u001b[1;36m  Cell \u001b[1;32mIn [34], line 1\u001b[1;36m\u001b[0m\n\u001b[1;33m    def ham(*a,*b,c=12):\u001b[0m\n\u001b[1;37m               ^\u001b[0m\n\u001b[1;31mSyntaxError\u001b[0m\u001b[1;31m:\u001b[0m invalid syntax\n"
     ]
    }
   ],
   "source": [
    "def ham(*a,*b,c=12):\n",
    "    S = 0\n",
    "    for i in range(len(a)):\n",
    "        S += a[i]\n",
    "    S_b = 0\n",
    "    for i in range(len(b)):\n",
    "        S_b += b[i]\n",
    "    return S-(S_b+c)\n",
    "\n",
    "t = ham(3,2,10,10)\n",
    "print(t)"
   ]
  },
  {
   "cell_type": "markdown",
   "id": "754c2f36",
   "metadata": {},
   "source": [
    "## Phạm vi biến"
   ]
  },
  {
   "cell_type": "markdown",
   "id": "e795c436",
   "metadata": {},
   "source": [
    "Biến global (toàn cục) là biến được khai báo ngoài hàm\n",
    "\n",
    "Biến local (cục bộ) là biến được khai báo trong hàm"
   ]
  },
  {
   "cell_type": "markdown",
   "id": "e148262f",
   "metadata": {},
   "source": [
    "<b>Biến global:</b>\n",
    "\n",
    "- Được phép sử dụng cả trong và ngoài hàm\n",
    "- Nếu có một biến được khai báo (thực hiện phép gán) trùng tên bên trong hàm thì đó là biến cục bộ\n",
    "- Nếu muốn gán lại giá trị cho biến global bên trong hàm thì dùng keyword global\n",
    "\n",
    "<b>Biến local:</b>\n",
    "\n",
    "- Chỉ được dùng trong hàm\n",
    "- Tham số đầu vào của hàm là biến local\n",
    "- Biến local sẽ biến mất khi thoát hàm"
   ]
  },
  {
   "cell_type": "code",
   "execution_count": 35,
   "id": "8795dbe2",
   "metadata": {},
   "outputs": [
    {
     "name": "stdout",
     "output_type": "stream",
     "text": [
      "10\n",
      "10\n"
     ]
    }
   ],
   "source": [
    "a = 10 ## a là biến global vì a được khai báo bên ngoài hàm\n",
    "\n",
    "def ham():\n",
    "    print(a)\n",
    "    \n",
    "ham()\n",
    "print(a)"
   ]
  },
  {
   "cell_type": "code",
   "execution_count": 38,
   "id": "8d6c8520",
   "metadata": {},
   "outputs": [
    {
     "name": "stdout",
     "output_type": "stream",
     "text": [
      "a này ở trong hàm trước khi tăng 10 đơn vị: 7\n",
      "a này ở trong hàm sau khi tăng 10 đơn vị: 17\n",
      "a này ở ngoài hàm: 10\n"
     ]
    }
   ],
   "source": [
    "a = 10 ## a này là biến global\n",
    "\n",
    "def ham():\n",
    "    a = 7 ## a này là biến local\n",
    "    print(\"a này ở trong hàm trước khi tăng 10 đơn vị:\",a)\n",
    "    a += 10\n",
    "    print(\"a này ở trong hàm sau khi tăng 10 đơn vị:\",a)\n",
    "    \n",
    "ham()\n",
    "print(\"a này ở ngoài hàm:\",a)"
   ]
  },
  {
   "cell_type": "code",
   "execution_count": 39,
   "id": "03fe7518",
   "metadata": {
    "scrolled": true
   },
   "outputs": [
    {
     "ename": "UnboundLocalError",
     "evalue": "local variable 'a' referenced before assignment",
     "output_type": "error",
     "traceback": [
      "\u001b[1;31m---------------------------------------------------------------------------\u001b[0m",
      "\u001b[1;31mUnboundLocalError\u001b[0m                         Traceback (most recent call last)",
      "Cell \u001b[1;32mIn [39], line 8\u001b[0m\n\u001b[0;32m      5\u001b[0m     a \u001b[38;5;241m=\u001b[39m \u001b[38;5;241m7\u001b[39m\n\u001b[0;32m      6\u001b[0m     \u001b[38;5;28mprint\u001b[39m(\u001b[38;5;124m\"\u001b[39m\u001b[38;5;124ma:\u001b[39m\u001b[38;5;124m\"\u001b[39m,a)\n\u001b[1;32m----> 8\u001b[0m \u001b[43mham\u001b[49m\u001b[43m(\u001b[49m\u001b[43m)\u001b[49m\n",
      "Cell \u001b[1;32mIn [39], line 4\u001b[0m, in \u001b[0;36mham\u001b[1;34m()\u001b[0m\n\u001b[0;32m      3\u001b[0m \u001b[38;5;28;01mdef\u001b[39;00m \u001b[38;5;21mham\u001b[39m():\n\u001b[1;32m----> 4\u001b[0m     \u001b[38;5;28mprint\u001b[39m(\u001b[38;5;124m\"\u001b[39m\u001b[38;5;124ma:\u001b[39m\u001b[38;5;124m\"\u001b[39m,\u001b[43ma\u001b[49m)\n\u001b[0;32m      5\u001b[0m     a \u001b[38;5;241m=\u001b[39m \u001b[38;5;241m7\u001b[39m\n\u001b[0;32m      6\u001b[0m     \u001b[38;5;28mprint\u001b[39m(\u001b[38;5;124m\"\u001b[39m\u001b[38;5;124ma:\u001b[39m\u001b[38;5;124m\"\u001b[39m,a)\n",
      "\u001b[1;31mUnboundLocalError\u001b[0m: local variable 'a' referenced before assignment"
     ]
    }
   ],
   "source": [
    "a = 10\n",
    "\n",
    "def ham():\n",
    "    print(\"a:\",a) ## in a phía trước a = 7 thì a là local nhưng a chưa được khai báo giá trị\n",
    "    a = 7\n",
    "    print(\"a:\",a)\n",
    "    \n",
    "ham()"
   ]
  },
  {
   "cell_type": "code",
   "execution_count": 44,
   "id": "b6a32796",
   "metadata": {},
   "outputs": [
    {
     "ename": "UnboundLocalError",
     "evalue": "local variable 's' referenced before assignment",
     "output_type": "error",
     "traceback": [
      "\u001b[1;31m---------------------------------------------------------------------------\u001b[0m",
      "\u001b[1;31mUnboundLocalError\u001b[0m                         Traceback (most recent call last)",
      "Cell \u001b[1;32mIn [44], line 5\u001b[0m\n\u001b[0;32m      3\u001b[0m     s\u001b[38;5;241m+\u001b[39m\u001b[38;5;241m=\u001b[39m\u001b[38;5;241m1\u001b[39m\n\u001b[0;32m      4\u001b[0m     \u001b[38;5;28mprint\u001b[39m(s)\n\u001b[1;32m----> 5\u001b[0m \u001b[43ms\u001b[49m\u001b[43m(\u001b[49m\u001b[43m)\u001b[49m\n",
      "Cell \u001b[1;32mIn [44], line 3\u001b[0m, in \u001b[0;36ms\u001b[1;34m()\u001b[0m\n\u001b[0;32m      2\u001b[0m \u001b[38;5;28;01mdef\u001b[39;00m \u001b[38;5;21ms\u001b[39m():\n\u001b[1;32m----> 3\u001b[0m     s\u001b[38;5;241m+\u001b[39m\u001b[38;5;241m=\u001b[39m\u001b[38;5;241m1\u001b[39m\n\u001b[0;32m      4\u001b[0m     \u001b[38;5;28mprint\u001b[39m(s)\n",
      "\u001b[1;31mUnboundLocalError\u001b[0m: local variable 's' referenced before assignment"
     ]
    }
   ],
   "source": [
    "s=0\n",
    "def s():\n",
    "    s+=1 ## s = s + 1\n",
    "    print(s)\n",
    "s()"
   ]
  },
  {
   "cell_type": "code",
   "execution_count": 49,
   "id": "22ac6c3a",
   "metadata": {},
   "outputs": [
    {
     "name": "stdout",
     "output_type": "stream",
     "text": [
      "7\n"
     ]
    }
   ],
   "source": [
    "a = 10\n",
    "\n",
    "def ham():\n",
    "    global a\n",
    "    a = 7\n",
    "    \n",
    "ham()\n",
    "print(a)"
   ]
  },
  {
   "cell_type": "code",
   "execution_count": 52,
   "id": "09190a5a",
   "metadata": {},
   "outputs": [
    {
     "name": "stdout",
     "output_type": "stream",
     "text": [
      "a: 10\n",
      "a: 7\n",
      "7\n"
     ]
    }
   ],
   "source": [
    "a = 10\n",
    "\n",
    "def ham():\n",
    "    global a\n",
    "    print(\"a:\",a) ## in a phía trước a = 7 thì a là local nhưng a chưa được khai báo giá trị\n",
    "    a = 7\n",
    "    print(\"a:\",a)\n",
    "    \n",
    "ham()\n",
    "print(a)"
   ]
  },
  {
   "cell_type": "code",
   "execution_count": 54,
   "id": "e3484dca",
   "metadata": {},
   "outputs": [
    {
     "name": "stdout",
     "output_type": "stream",
     "text": [
      "10\n"
     ]
    },
    {
     "ename": "NameError",
     "evalue": "name 'bien_trong_ham' is not defined",
     "output_type": "error",
     "traceback": [
      "\u001b[1;31m---------------------------------------------------------------------------\u001b[0m",
      "\u001b[1;31mNameError\u001b[0m                                 Traceback (most recent call last)",
      "Cell \u001b[1;32mIn [54], line 6\u001b[0m\n\u001b[0;32m      3\u001b[0m     \u001b[38;5;28mprint\u001b[39m(bien_trong_ham)\n\u001b[0;32m      5\u001b[0m ham()\n\u001b[1;32m----> 6\u001b[0m \u001b[38;5;28mprint\u001b[39m(\u001b[43mbien_trong_ham\u001b[49m)\n",
      "\u001b[1;31mNameError\u001b[0m: name 'bien_trong_ham' is not defined"
     ]
    }
   ],
   "source": [
    "def ham():\n",
    "    bien_trong_ham = 10\n",
    "    print(bien_trong_ham)\n",
    "    \n",
    "ham()\n",
    "print(bien_trong_ham)"
   ]
  },
  {
   "cell_type": "markdown",
   "id": "f53ec384",
   "metadata": {},
   "source": [
    "## Hàm trả về nhiều giá trị"
   ]
  },
  {
   "cell_type": "markdown",
   "id": "91c763e4",
   "metadata": {},
   "source": [
    "Ta có thể trả về nhiều giá trị của hàm\n",
    "\n",
    "<code>def ham(a,b):\n",
    "    tong = a + b\n",
    "    hieu = a - b\n",
    "    return tong, hieu\n",
    "t, h = ham(5,3)</code>"
   ]
  },
  {
   "cell_type": "code",
   "execution_count": 55,
   "id": "0a80b9d7",
   "metadata": {},
   "outputs": [
    {
     "name": "stdout",
     "output_type": "stream",
     "text": [
      "8\n",
      "2\n"
     ]
    }
   ],
   "source": [
    "def ham(a,b):\n",
    "    tong = a + b\n",
    "    hieu = a - b\n",
    "    return tong, hieu\n",
    "t, h = ham(5,3)\n",
    "print(t)\n",
    "print(h)"
   ]
  },
  {
   "cell_type": "code",
   "execution_count": 56,
   "id": "cbf51ad9",
   "metadata": {},
   "outputs": [
    {
     "name": "stdout",
     "output_type": "stream",
     "text": [
      "3\n",
      "5\n",
      "10\n"
     ]
    }
   ],
   "source": [
    "def ham():\n",
    "    return 3,5,10\n",
    "\n",
    "a,b,c = ham()\n",
    "print(a)\n",
    "print(b)\n",
    "print(c)"
   ]
  },
  {
   "cell_type": "code",
   "execution_count": 58,
   "id": "d7afd50c",
   "metadata": {},
   "outputs": [
    {
     "name": "stdout",
     "output_type": "stream",
     "text": [
      "2 4 6\n"
     ]
    }
   ],
   "source": [
    "def ham(a,b,c):\n",
    "    return a+1,b+2,c+3\n",
    "\n",
    "a,b,c = ham(1,2,3)\n",
    "print(a,b,c)"
   ]
  },
  {
   "cell_type": "markdown",
   "id": "95a137a7",
   "metadata": {},
   "source": [
    "## Bài tập"
   ]
  },
  {
   "cell_type": "markdown",
   "id": "42cbf825",
   "metadata": {},
   "source": [
    "Viết hàm <code>giai_pt</code> có 3 tham số đầu vào a, b, c với a có giá trị mặc định là 1\n",
    "\n",
    "Hãy giải và biện luận phương trình ax^2 + bx + c = 0\n",
    "\n",
    "Kết quả trả về của hàm là:\n",
    "\n",
    "- None nếu phương trình vô nghiệm\n",
    "- x nếu x là nghiệm kép của phương trình\n",
    "- x1, x2 nếu x1, x2 là nghiệm của phương trình"
   ]
  },
  {
   "cell_type": "code",
   "execution_count": 67,
   "id": "5bdbd943",
   "metadata": {},
   "outputs": [
    {
     "name": "stdout",
     "output_type": "stream",
     "text": [
      "(5.0, 1.0)\n"
     ]
    }
   ],
   "source": [
    "def giai_pt(b,c,a=1):\n",
    "    if a == 0:\n",
    "        if b == 0:\n",
    "            if c == 0:\n",
    "                return \"Vô số nghiệm\"\n",
    "            return \"Vô nghiệm\"\n",
    "        x = -c/b\n",
    "        return x\n",
    "    delta = b**2 - 4*a*c\n",
    "    if delta < 0:\n",
    "        return \"Vô nghiệm\"\n",
    "    if delta == 0:\n",
    "        x = -b/(2*a)\n",
    "        return x\n",
    "    can_delta = delta**0.5\n",
    "    x1 = (-b + can_delta)/(2*a)\n",
    "    x2 = (-b - can_delta)/(2*a)\n",
    "    return x1,x2\n",
    "\n",
    "print(giai_pt(b=-6,c=5))"
   ]
  },
  {
   "cell_type": "markdown",
   "id": "c724893d",
   "metadata": {},
   "source": [
    "Viết hàm <code>dauphancach</code> có 3 tham số đầu vào là <code>dau</code>, <code>sochuso</code> và <code>a</code>, giá trị mặc định của <code>dau</code> là <code>\".\"</code> và giá trị mặc định của <code>sochuso</code> là 3\n",
    "\n",
    "Hãy đặt dấu phân cách cho số a được đưa vào rồi trả về kết quả\n",
    "\n",
    "Ví dụ khi ta gọi hàm\n",
    "\n",
    "<code>dauphancach(100000)</code> thì kết quả trả về là 100.000 (đặt dấu chấm mỗi 3 chữ số)"
   ]
  },
  {
   "cell_type": "code",
   "execution_count": 12,
   "id": "29bb0c4c",
   "metadata": {},
   "outputs": [
    {
     "name": "stdout",
     "output_type": "stream",
     "text": [
      "100.000.000\n"
     ]
    }
   ],
   "source": [
    "## giả sử gọi dauphancach(100000,sochuso=2,dau=\",\") ~~> 10,00,00\n",
    "def dauphancach(a,dau=\".\",sochuso=3):\n",
    "    a = str(a)\n",
    "    i = len(a)-1\n",
    "    dem = 0\n",
    "    while i >= 0:\n",
    "        if dem < sochuso:\n",
    "            dem += 1\n",
    "        else:\n",
    "            dem = 1\n",
    "            a = a[:i+1] + dau + a[i+1:]\n",
    "        i -= 1\n",
    "    return a\n",
    "\n",
    "kq=dauphancach(100000000,dau=\".\",sochuso=3)\n",
    "print(kq)"
   ]
  },
  {
   "cell_type": "code",
   "execution_count": 1,
   "id": "f289eb63",
   "metadata": {},
   "outputs": [
    {
     "name": "stdout",
     "output_type": "stream",
     "text": [
      "100,000,000\n"
     ]
    }
   ],
   "source": [
    "def dauphancach(a,dau=\".\",sochuso=3):\n",
    "    a = str(a)\n",
    "    i = len(a)-1\n",
    "    dem = 0\n",
    "    while i>=0:\n",
    "        if dem != sochuso:\n",
    "            dem +=1\n",
    "            i -= 1\n",
    "        else:\n",
    "            dem = 0\n",
    "            a = a[:i+1]+dau+a[i+1:]\n",
    "    return a\n",
    "\n",
    "kq=dauphancach(100000000,dau=\",\",sochuso=3)\n",
    "print(kq)"
   ]
  },
  {
   "cell_type": "code",
   "execution_count": 68,
   "id": "3bd36bd1",
   "metadata": {},
   "outputs": [
    {
     "name": "stdout",
     "output_type": "stream",
     "text": [
      "7\n"
     ]
    }
   ],
   "source": [
    "def ham(a):\n",
    "    a = 10\n",
    "    \n",
    "bien = 7\n",
    "ham(bien)\n",
    "print(bien)"
   ]
  },
  {
   "cell_type": "markdown",
   "id": "cb6e3241",
   "metadata": {},
   "source": [
    "Viết hàm <code>solonnhat</code> không giới hạn tham số đầu vào\n",
    "\n",
    "Hãy tìm và trả về số lớn nhất trong các số được đưa vào\n",
    "\n",
    "Ví dụ khi ta gọi hàm\n",
    "\n",
    "<code>solonnhat(10,5,19,20)</code> thì kết quả trả về là 20"
   ]
  },
  {
   "cell_type": "code",
   "execution_count": 73,
   "id": "45c90e56",
   "metadata": {},
   "outputs": [
    {
     "name": "stdout",
     "output_type": "stream",
     "text": [
      "20\n"
     ]
    }
   ],
   "source": [
    "def solonnhat(*a):\n",
    "    m = a[0]\n",
    "    for i in range(1,len(a)):\n",
    "        if m < a[i]:\n",
    "            m = a[i]\n",
    "    return m\n",
    "    \n",
    "print(solonnhat(10,5,19,20))"
   ]
  },
  {
   "cell_type": "code",
   "execution_count": 72,
   "id": "5267d0f2",
   "metadata": {},
   "outputs": [
    {
     "name": "stdout",
     "output_type": "stream",
     "text": [
      "15\n"
     ]
    }
   ],
   "source": [
    "a = 7\n",
    "b = 10\n",
    "c = 5\n",
    "d = 15\n",
    "\n",
    "m = a\n",
    "if m < b:\n",
    "    m = b\n",
    "if m < c:\n",
    "    m = c\n",
    "if m < d:\n",
    "    m = d\n",
    "print(m)"
   ]
  },
  {
   "cell_type": "markdown",
   "id": "1be2d284",
   "metadata": {},
   "source": [
    "Viết ham <code>taomatkhau</code> có 2 tham số đầu vào là <code>dodai</code> và <code>kytu</code>, giá trị mặc định của <code>dodai</code> là 10 và <code>kytu</code> là None\n",
    "\n",
    "Hãy random ra 1 mật khẩu có <code>dodai</code> ký tự và phải có <code>kytu</code> bên trong mật khấu đó (trong trường hợp <code>kytu</code> khác None)"
   ]
  },
  {
   "cell_type": "code",
   "execution_count": 114,
   "id": "6412aaae",
   "metadata": {},
   "outputs": [
    {
     "name": "stdout",
     "output_type": "stream",
     "text": [
      "p\n"
     ]
    }
   ],
   "source": [
    "## ví dụ taomatkhau(kytu=\"a\") ~~> random 1 mật khẩu có 10 ký tự và trong mật khẩu phải có ký tự a\n",
    "## ví dụ taomatkhau(dodai=5) ~~> random 1 mật khẩu có 5 ký tự\n",
    "\n",
    "from random import randint\n",
    "\n",
    "chuoi = \"qwertyuiopasdfghjklzxcvbnm1234567890QWERTYUIOPASDFGHJKLZXCVBNM\"\n",
    "\n",
    "a = randint(0,61)\n",
    "kytu_random = chuoi[randint(0,61)]\n",
    "print(kytu_random)"
   ]
  },
  {
   "cell_type": "code",
   "execution_count": 46,
   "id": "4ee0a01b",
   "metadata": {},
   "outputs": [
    {
     "name": "stdout",
     "output_type": "stream",
     "text": [
      "atGce\n"
     ]
    }
   ],
   "source": [
    "from random import randint\n",
    "def taomatkhau(kytu=None,dodai=10):\n",
    "    chuoi = \"qwertyuiopasdfghjklzxcvbnm1234567890QWERTYUIOPASDFGHJKLZXCVBNM\"\n",
    "    kq = \"\"\n",
    "    for i in range(dodai):\n",
    "        kq += chuoi[randint(0,61)]\n",
    "    if kytu != None:\n",
    "        vt_random = randint(0,dodai-1)\n",
    "        kq = kq[:vt_random] + kytu + kq[vt_random+1:]\n",
    "    return kq\n",
    "\n",
    "print(taomatkhau(dodai=5,kytu=\"a\"))"
   ]
  },
  {
   "cell_type": "markdown",
   "id": "ba601900",
   "metadata": {},
   "source": [
    "Viết hàm <code>tachdayso</code> có 1 tham số đầu vào là <code>so</code> là một số bất kỳ\n",
    "\n",
    "Từ <code>so</code> hãy tách từ bên trái sang bên phải dãy số thành các số có nghĩa khác nhau tăng dần với độ chênh lệch giữa 2 số được tách liền nhau là nhỏ nhất nhưng không được đảo thứ tự chữ số ban đầu cũng như không được bỏ chữ số nào cho đến khi không thể tách thêm\n",
    "\n",
    "In từng số trong dãy ra màn hình\n",
    "\n",
    "Hàm trả về True nếu các chữ số được tách hết và hàm trả về False nếu không được tách hết\n",
    "\n",
    "Ví dụ khi ta gọi hàm\n",
    "\n",
    "<code>tachdayso(23072007)</code>, màn hình sẽ in ra\n",
    "\n",
    "<code>2\n",
    "30\n",
    "72\n",
    "</code>\n",
    "\n",
    "và trả về kết quả False (do không thể tách hết các chữ số)"
   ]
  },
  {
   "cell_type": "code",
   "execution_count": 71,
   "id": "537b770b",
   "metadata": {},
   "outputs": [
    {
     "name": "stdout",
     "output_type": "stream",
     "text": [
      "2\n",
      "30\n",
      "72\n"
     ]
    },
    {
     "data": {
      "text/plain": [
       "False"
      ]
     },
     "execution_count": 71,
     "metadata": {},
     "output_type": "execute_result"
    }
   ],
   "source": [
    "## 23072007523 ~~> In 2 30 7200 7523 ~~> return True\n",
    "\n",
    "## 2307200752 ~~> In 2 30 72 ~~> return False\n",
    "\n",
    "def tachdayso(a):\n",
    "    a = str(a)\n",
    "    kq = a[0] + \"\\n\"\n",
    "    p_number = int(a[0])\n",
    "    chuoi_tam = \"\"\n",
    "    for i in range(1,len(a)):\n",
    "        if chuoi_tam == \"\" or int(chuoi_tam) < p_number or a[i] == \"0\":\n",
    "            chuoi_tam += a[i]\n",
    "        else:\n",
    "            kq += chuoi_tam + \"\\n\"\n",
    "            p_number = int(chuoi_tam)\n",
    "            chuoi_tam = a[i]\n",
    "    if int(chuoi_tam) > p_number:\n",
    "        kq += chuoi_tam + \"\\n\"\n",
    "        print(kq[:-1])\n",
    "        return True\n",
    "    kq = kq[:-1]\n",
    "    vt_cuoicung = kq.rfind(\"\\n\")\n",
    "    so_cuoi_cung = kq[vt_cuoicung+1:]\n",
    "    truoc_so_cuoi_cung = kq[:vt_cuoicung]\n",
    "    vt_cuoicung = truoc_so_cuoi_cung.rfind(\"\\n\")\n",
    "    so_ke_cuoi_cung = truoc_so_cuoi_cung[vt_cuoicung+1:]\n",
    "    while True:\n",
    "        if int(so_cuoi_cung) < int(so_ke_cuoi_cung):\n",
    "            break\n",
    "        save_so_cuoi_cung = so_cuoi_cung\n",
    "        so_cuoi_cung = so_cuoi_cung[:-1]\n",
    "    kq = truoc_so_cuoi_cung + \"\\n\" + save_so_cuoi_cung\n",
    "    print(kq)\n",
    "    return False\n",
    "\n",
    "tachdayso(2307200752)"
   ]
  },
  {
   "cell_type": "code",
   "execution_count": 47,
   "id": "d908937e",
   "metadata": {},
   "outputs": [
    {
     "name": "stdout",
     "output_type": "stream",
     "text": [
      "2\n",
      "30\n",
      "72\n",
      "False\n"
     ]
    }
   ],
   "source": [
    "def tachdayso(a):\n",
    "    a = str(a)\n",
    "    previous_number_2 = -2\n",
    "    previous_number = -1\n",
    "    current_number = 0\n",
    "    i = 0\n",
    "    done = False\n",
    "    \n",
    "    while i < len(a):\n",
    "        current_number = current_number*10+int(a[i])\n",
    "        if i < len(a)-1:\n",
    "            next_digit = int(a[i+1])\n",
    "        else:\n",
    "            next_digit = \"\"\n",
    "        if current_number > previous_number and (next_digit == \"\" or next_digit > 0): \n",
    "            previous_number_2 = previous_number\n",
    "            previous_number = current_number\n",
    "            if previous_number_2 != -1:\n",
    "                print(previous_number_2)\n",
    "            current_number = 0\n",
    "            done = next_digit == \"\" # last digit\n",
    "        i += 1\n",
    "    \n",
    "    while previous_number // 10 > previous_number_2:\n",
    "        previous_number = int(previous_number / 10)\n",
    "        done = False\n",
    "    print(previous_number)\n",
    "        \n",
    "    return done\n",
    "\n",
    "print(tachdayso(23072007123))"
   ]
  },
  {
   "cell_type": "code",
   "execution_count": 48,
   "id": "56279cea",
   "metadata": {},
   "outputs": [
    {
     "name": "stdout",
     "output_type": "stream",
     "text": [
      "2\n",
      "30\n",
      "72\n",
      "False\n"
     ]
    }
   ],
   "source": [
    "def process_2(so_cu,y):\n",
    "    num=\"\"\n",
    "    for j in so_cu:\n",
    "        num+=j\n",
    "        if int(num)>int(y):\n",
    "            so_cu = num\n",
    "            print(so_cu)\n",
    "            break\n",
    "    return so_cu\n",
    "\n",
    "def compare(chuoi,a):\n",
    "    if len(chuoi) < len(a):\n",
    "        print(\"False\")\n",
    "    else:\n",
    "        print(\"True\")\n",
    "\n",
    "def process(a):\n",
    "    a = str(a)\n",
    "    x = a[0]\n",
    "    chuoi=\"\"\n",
    "    b = a[1:]\n",
    "    c = a[1:]+\" \"\n",
    "    so=\"\"\n",
    "    for i in range(len(b)):\n",
    "        so+=b[i]\n",
    "        if c[i+1]==\"0\":\n",
    "            continue\n",
    "        if int(so) > int(x):\n",
    "            print(x)\n",
    "            y=x\n",
    "            chuoi+=x\n",
    "            x = so\n",
    "            so=\"\" \n",
    "    \n",
    "    so_moi = process_2(x,y)\n",
    "    chuoi+=so_moi\n",
    "    compare(chuoi,a)\n",
    "        \n",
    "process(23072007)\n"
   ]
  }
 ],
 "metadata": {
  "kernelspec": {
   "display_name": "Python 3 (ipykernel)",
   "language": "python",
   "name": "python3"
  },
  "language_info": {
   "codemirror_mode": {
    "name": "ipython",
    "version": 3
   },
   "file_extension": ".py",
   "mimetype": "text/x-python",
   "name": "python",
   "nbconvert_exporter": "python",
   "pygments_lexer": "ipython3",
   "version": "3.9.12"
  }
 },
 "nbformat": 4,
 "nbformat_minor": 5
}
